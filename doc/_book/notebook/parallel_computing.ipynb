{
 "cells": [
  {
   "cell_type": "markdown",
   "metadata": {},
   "source": [
    "## 第二章 CDB 与 Makefile"
   ]
  },
  {
   "cell_type": "markdown",
   "metadata": {},
   "source": [
    "### 2.1　GDB 的调试"
   ]
  },
  {
   "cell_type": "markdown",
   "metadata": {},
   "source": [
    "GDB 是 GNU 开源组织发布的一个强大的 UNIX 下的程序调试工具."
   ]
  },
  {
   "cell_type": "markdown",
   "metadata": {},
   "source": [
    "**功能：**\n",
    "\n",
    "\n",
    "* 启动程序，按照自定义的要求随心所欲的运行程序;\n",
    "\n",
    "\n",
    "* 可让被调试的程序在你所指定的调试的断点处停止;\n",
    "\n",
    "\n",
    "* 当程序被停止时，可以检查程序中的问题;\n",
    "\n",
    "\n",
    "* 可以改变你的程序，将一个 bug 产生的影响修正从而测试其他."
   ]
  },
  {
   "cell_type": "markdown",
   "metadata": {},
   "source": [
    "**相关命令及描述**\n",
    "\n",
    "| 符号 | 意义|\n",
    "|:------:| :----|\n",
    "| file | 载入想要调试的文件 |\n",
    "| kill | 终止正在调试的程序　|\n",
    "| list | 列出产生执行文件的源代码的一部分 |\n",
    "| next | 执行一行源代码但不进入函数内部| \n",
    "| step | 执行一行源代码并且进入函数内部 |\n",
    "| run  | 执行当前调试的程序|\n",
    "| quit | 终止gdb|\n",
    "| watch| 监视一个变量的值而不管它何时被改变|\n",
    "| break| 设置断点|"
   ]
  },
  {
   "cell_type": "markdown",
   "metadata": {},
   "source": [
    "**步骤**\n",
    "\n",
    "* 若程序在执行过程中出现异常，首先重新编译该程序，须增加编译参数“`-g`”;\n",
    "\n",
    "\n",
    "* 然后启动gdb调试程序;\n",
    "\n",
    "\n",
    "* 用`file`命令载入需要调试的可执行文件;\n",
    "\n",
    "\n",
    "* 运行程序使用`run`或`r`命令."
   ]
  },
  {
   "cell_type": "markdown",
   "metadata": {},
   "source": [
    "**断点**\n",
    "\n",
    "* 在源代码某一行设置断点,例如第十行;\n",
    "\n",
    "\n",
    "   ```break 5```\n",
    "\n",
    "\n",
    "* 在源代码中的某一函数设置断点，假设func;\n",
    "\n",
    "  \n",
    "   ```break func```\n",
    "\n",
    "\n",
    "* 条件断点是指当程序运行到断点处，只在满足某些条件时，才会暂停.如当`t=100`在第三十行处断点\n",
    "\n",
    " \n",
    "   ```break 30 if t==100```\n",
    "\n",
    "\n",
    "* 显示当前gdb断点信息，断点号，断点类型，断点后的状态，断点地址及其在源文件的位置等."
   ]
  }
 ],
 "metadata": {
  "kernelspec": {
   "display_name": "SageMath 7.3",
   "language": "",
   "name": "sagemath"
  },
  "language_info": {
   "codemirror_mode": {
    "name": "ipython",
    "version": 2
   },
   "file_extension": ".py",
   "mimetype": "text/x-python",
   "name": "python",
   "nbconvert_exporter": "python",
   "pygments_lexer": "ipython2",
   "version": "2.7.10"
  }
 },
 "nbformat": 4,
 "nbformat_minor": 0
}
