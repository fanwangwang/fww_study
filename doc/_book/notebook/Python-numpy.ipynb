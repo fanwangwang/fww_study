{
 "cells": [
  {
   "cell_type": "markdown",
   "metadata": {},
   "source": [
    "# Numpy 快速处理数据"
   ]
  },
  {
   "cell_type": "markdown",
   "metadata": {},
   "source": [
    "1. `list` 列表的元素可以是任何元素，因此列表保存的是对象的指针\n",
    "1. `array` 直接保存数值，不支持多维，没有各种运算函数，不支持数值运算"
   ]
  },
  {
   "cell_type": "markdown",
   "metadata": {},
   "source": [
    "`numpy` 可以解决这些问题，提供了两种基本的对象：\n",
    "\n",
    "\n",
    "1. `ndarray`：存储单一数据类型的多维数组\n",
    "1. `ufunc`： 能对数组进行处理的函数"
   ]
  },
  {
   "cell_type": "markdown",
   "metadata": {},
   "source": [
    "# 2.1 ndarray对象"
   ]
  },
  {
   "cell_type": "markdown",
   "metadata": {},
   "source": [
    "函数库的导入：\n",
    "```\n",
    "import numpy as np\n",
    "```"
   ]
  },
  {
   "cell_type": "markdown",
   "metadata": {},
   "source": [
    "## 2.1.1 创建"
   ]
  },
  {
   "cell_type": "markdown",
   "metadata": {},
   "source": [
    "**可以通过给 `array` 函数传递 `Python` 的序列对象创建数组，如果传递的是多层嵌套的序列，将创建多维数组**"
   ]
  },
  {
   "cell_type": "markdown",
   "metadata": {},
   "source": [
    "例：\n",
    "```\n",
    "import numpy as np\n",
    "a = np.array（[1,2,3,4]）\n",
    "print(a)\n",
    "b = np.array（[[1,2,3,4],[1,2,3,4],[1,2,3,4]]）\n",
    "print(b)\n",
    "```\n",
    "结果：\n",
    "```\n",
    "[1,2,3,4]\n",
    "[[1,2,3,4],\n",
    " [1,2,3,4],\n",
    " [1,2,3,4]]\n",
    "```"
   ]
  },
  {
   "cell_type": "markdown",
   "metadata": {},
   "source": [
    "**数组的大小可以通过`shape`来获得**"
   ]
  },
  {
   "cell_type": "markdown",
   "metadata": {},
   "source": [
    "例：\n",
    "```\n",
    "a.shape()\n",
    "b.shape()\n",
    "```\n",
    "结果：\n",
    "```\n",
    "(4,)\n",
    "(3,4)\n",
    "```\n"
   ]
  },
  {
   "cell_type": "markdown",
   "metadata": {},
   "source": [
    "数组b中第0轴的长度是3，第1轴的长度是4，可以通过修改`shape`来改变数组中每个轴的长度.\n",
    "\n",
    "\n",
    "例：\n",
    "```\n",
    "b.shape = 4,3\n",
    "```\n",
    "变成4行3列的矩阵\n",
    "\n",
    "**注意：**当某个轴的元素为-1时，将根据数组元素的个数自动计算此轴的长度\n",
    "\n",
    "\n",
    "例：\n",
    "```\n",
    "b.shape = 2,-1\n",
    "```\n",
    "变成2行，根据元素个数自动计算出6列"
   ]
  },
  {
   "cell_type": "markdown",
   "metadata": {},
   "source": [
    "**使用数组的reshape方法，可以创建一个改变了尺寸的新数组，原数组的shape保持不变**\n"
   ]
  },
  {
   "cell_type": "markdown",
   "metadata": {},
   "source": [
    "例：\n",
    "```\n",
    "c = a.reshape((2,2))\n",
    "```"
   ]
  },
  {
   "cell_type": "markdown",
   "metadata": {},
   "source": [
    "数组a和c共享数据存储内存区域，因此修改其中任何一个都会改变另外一个；数组元素类型可以通过`dtype`来获得"
   ]
  },
  {
   "cell_type": "markdown",
   "metadata": {},
   "source": [
    "例\n",
    "\n",
    "```a = np.array（[1,2,3,4]，dtype = np.float）```"
   ]
  },
  {
   "cell_type": "markdown",
   "metadata": {},
   "source": [
    "上面都是先创建Python序列，再通过array转化成数组，这样做显然效率不高。因此numpy提供了很多专门创建数组组的函数"
   ]
  },
  {
   "cell_type": "markdown",
   "metadata": {},
   "source": [
    "* `arange` 函数类似于 `range` ,起始点，步长,不包括终点\n",
    "```\n",
    "a = np.arange(0,1,0.2)#步长是0.2\n",
    "```\n",
    "* `linspace` 函数通过指定开始值、终值和元素个数来创建一维数组，可以通过`endpoint` 关键字指定是否包括终值，缺省设置是包括终值\n",
    "```\n",
    "a = np.arange(0,1,10)#里边含有10个元素\n",
    "```\n",
    "* `logspace`函数和`linspace`类似，不过它创建等比数列\n",
    "```\n",
    "a = np.arange(0,2,10)#产生1（10^0）到100（10^2）里边含有10个元素的等比数列\n",
    "```"
   ]
  },
  {
   "cell_type": "markdown",
   "metadata": {},
   "source": [
    "我们可以写一个Python的函数，它将数组下标转换为数组中对应的值，然后使用此函数创建数组"
   ]
  },
  {
   "cell_type": "markdown",
   "metadata": {},
   "source": [
    "例：\n",
    "```\n",
    "def func(i):\n",
    "    return i%4+1\n",
    "np.fromfunction(func,(15,))\n",
    "```"
   ]
  },
  {
   "cell_type": "markdown",
   "metadata": {},
   "source": [
    "`fromfunction`函数的第一个参数为计算每个数组元素的函数，第二个参数为数组的大小(`shape`)，因为它支持多维数组，所以第二个参数必须是序列,这里func()里只有一个参数i，所以对于对于数组大小的参数不能是二维的，如果需要二维数组，则func()里必须有两个参数"
   ]
  },
  {
   "cell_type": "markdown",
   "metadata": {},
   "source": [
    "例：\n",
    "```\n",
    "import numpy as np\n",
    "def func(i,j):\n",
    "    return i*j\n",
    "a = np.fromfunction(func,(5,5))\n",
    "print(a)\n",
    "```"
   ]
  },
  {
   "cell_type": "markdown",
   "metadata": {},
   "source": [
    "## 2.1.2 存取元素"
   ]
  },
  {
   "cell_type": "markdown",
   "metadata": {},
   "source": [
    "数组元素存取方法和Python中的相同。\n",
    "\n",
    "* 用正数作为下标可以获取数组中的某个元素的值\n",
    "* 用范围作为下标可以获取数组的一个切片，不包括终点值\n",
    "* 省略开始下标，表示从a[0]开始，省略结束下标，表示到最后一个元素结束\n",
    "* 下标可以使用负数，表示从数组后往前数\n",
    "* a[1:-1:2]# 范围中的第三个参数表示步长，2表示隔一个元素取一个元素\n",
    "* 省略范围的开始下标和结束下标，步长为-1，整个数组头尾颠倒\n",
    "* 步长为负数时，开始下标必须大于结束下标\n"
   ]
  },
  {
   "cell_type": "markdown",
   "metadata": {},
   "source": [
    "numpy还提供了两种存取元素的高级方法"
   ]
  },
  {
   "cell_type": "markdown",
   "metadata": {},
   "source": [
    "* **使用整数序列**"
   ]
  },
  {
   "cell_type": "markdown",
   "metadata": {},
   "source": [
    "当使用整数序列对数组元素进行存取时，将使用整数序列中的每个元素作为下标，整数序列可以是列表或者数组。使用整数序列作为下标获得的数组不和原始数组共享数据空间。"
   ]
  },
  {
   "cell_type": "markdown",
   "metadata": {},
   "source": [
    "例：\n",
    "```\n",
    "x = np.arange(10,1,-1)\n",
    "b = x[[3,3,1,8]]#获取x中的下标为3, 3, 1, 8的4个元素，组成一个新的数组\n",
    "b = x[np.array([3,3,-3,8])]  #下标可以是负数\n",
    "b[2] = 100\n",
    "array([7, 7, 100, 2])\n",
    "x   # 由于b和x不共享数据空间，因此x中的值并没有改变\n",
    "```"
   ]
  },
  {
   "cell_type": "markdown",
   "metadata": {},
   "source": [
    "* **使用布尔数组**"
   ]
  },
  {
   "cell_type": "markdown",
   "metadata": {},
   "source": [
    "当使用布尔数组b作为下标存取数组x中的元素时，将收集数组x中所有在数组b中对应下标为True的元素。使用布尔数组作为下标获得的数组不和原始数组共享数据空间，注意这种方式只对应于布尔数组，不能使用布尔列表"
   ]
  },
  {
   "cell_type": "markdown",
   "metadata": {},
   "source": [
    "```\n",
    "array([5, 4, 3, 2, 1])\n",
    "x[np.array([True, False, True, False, False])]\n",
    "```\n",
    "* 布尔数组中下标为0，2的元素为True，因此获取x中下标为0,2的元素\n",
    "\n",
    "```\n",
    "array([5, 3])\n",
    "```\n",
    "```\n",
    "x[[True, False, True, False, False]]\n",
    "```\n",
    "* 如果是布尔列表，则把True当作1, False当作0，按照整数序列方式获取x中的元素\n",
    "\n",
    "```\n",
    "array([4, 5, 4, 5, 5])\n",
    "```\n",
    "```\n",
    "x[np.array([True, False, True, True])]\n",
    "```\n",
    "\n",
    "* 布尔数组的长度不够时，不够的部分都当作False\n",
    "\n",
    "```\n",
    "array([5, 3, 2])\n",
    "```\n",
    "```\n",
    "x[np.array([True, False, True, True])] = -1, -2, -3\n",
    "```\n",
    "\n",
    "* 布尔数组下标也可以用来修改元素"
   ]
  },
  {
   "cell_type": "markdown",
   "metadata": {},
   "source": [
    "布尔数组一般不是手工产生，而是使用布尔运算的ufunc函数产生"
   ]
  },
  {
   "cell_type": "markdown",
   "metadata": {},
   "source": [
    "## 2.2.3 多维数组"
   ]
  },
  {
   "cell_type": "markdown",
   "metadata": {},
   "source": [
    "多维数组的存取和一维数组类似，因为多维数组有多个轴，因此它的下标需要用多个值来表示，NumPy采用组元(tuple)作为数组的下标"
   ]
  },
  {
   "cell_type": "markdown",
   "metadata": {},
   "source": [
    "* **组元不需要圆括号**\n",
    "\n",
    "虽然我们经常在Python中用圆括号将组元括起来，但是其实组元的语法定义只需要用逗号隔开即可，例如 x,y=y,x 就是用组元交换变量值的一个例子。\n"
   ]
  },
  {
   "cell_type": "markdown",
   "metadata": {},
   "source": [
    "## 2.2.4 结构数组"
   ]
  },
  {
   "cell_type": "markdown",
   "metadata": {},
   "source": [
    "假设我们需要定义一个结构数组，它的每个元素都有name, age和weight字段，"
   ]
  },
  {
   "cell_type": "code",
   "execution_count": null,
   "metadata": {
    "collapsed": true
   },
   "outputs": [],
   "source": []
  }
 ],
 "metadata": {
  "kernelspec": {
   "display_name": "SageMath 7.3",
   "language": "",
   "name": "sagemath"
  },
  "language_info": {
   "codemirror_mode": {
    "name": "ipython",
    "version": 2
   },
   "file_extension": ".py",
   "mimetype": "text/x-python",
   "name": "python",
   "nbconvert_exporter": "python",
   "pygments_lexer": "ipython2",
   "version": "2.7.10"
  }
 },
 "nbformat": 4,
 "nbformat_minor": 0
}
