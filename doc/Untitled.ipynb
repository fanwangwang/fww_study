{
 "cells": [
  {
   "cell_type": "markdown",
   "metadata": {},
   "source": [
    "## ourfun.cpp 知识点"
   ]
  },
  {
   "cell_type": "markdown",
   "metadata": {},
   "source": [
    "`main()`　函数两次调用 `simon()` 函数，一次参数为３，一次参数是变量 `count`.在这两次调用之间，用户输入一个整数，用来设置 `count` 的值."
   ]
  },
  {
   "cell_type": "markdown",
   "metadata": {},
   "source": [
    "* 函数格式\n",
    "\n",
    "`simon()` 函数的定义与 `main()` 的定义采用的格式相同。首先，有一个函数头；然后是花括号中的函数体。\n",
    "```\n",
    "type functionname(argumentlist)\n",
    "{\n",
    "  statements\n",
    "}\n",
    "```"
   ]
  },
  {
   "cell_type": "markdown",
   "metadata": {},
   "source": [
    "* 函数头\n",
    "\n",
    "`simon()`函数的函数头如下：\n",
    "开头的 `void` 表明 `simon()` 没有返回值，因此调用 `simon()` 不会生成 `main()` 中将其赋给变量的数字。"
   ]
  },
  {
   "cell_type": "code",
   "execution_count": null,
   "metadata": {
    "collapsed": true
   },
   "outputs": [],
   "source": []
  }
 ],
 "metadata": {
  "kernelspec": {
   "display_name": "SageMath 7.3",
   "language": "",
   "name": "sagemath"
  },
  "language_info": {
   "codemirror_mode": {
    "name": "ipython",
    "version": 2
   },
   "file_extension": ".py",
   "mimetype": "text/x-python",
   "name": "python",
   "nbconvert_exporter": "python",
   "pygments_lexer": "ipython2",
   "version": "2.7.10"
  }
 },
 "nbformat": 4,
 "nbformat_minor": 0
}
