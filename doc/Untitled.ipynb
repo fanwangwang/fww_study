{
 "cells": [
  {
   "cell_type": "markdown",
   "metadata": {},
   "source": [
    "$$\n",
    "W(t)=\n",
    "\\begin{vmatrix}\n",
    "e^{\\lambda_1t} & e^{\\lambda_2t} &\\dots & e^{\\lambda_nt}\\\\\n",
    "\\lambda_1e^{\\lambda_1t} & \\lambda_2e^{\\lambda_2t} &\\dots & \\lambda_ne^{\\lambda_nt}\\\\\n",
    "\\vdots & \\vdots & \\ddots &\\vdots\\\\\n",
    "\\lambda_1^{n-1}e^{\\lambda_1t} & \\lambda_2^{n-1}e^{\\lambda_2t} &\\dots & \\lambda_n^{n-1}e^{\\lambda_nt}\\\\\n",
    "\\end{vmatrix}\n",
    "$$"
   ]
  },
  {
   "cell_type": "code",
   "execution_count": null,
   "metadata": {
    "collapsed": true
   },
   "outputs": [],
   "source": []
  }
 ],
 "metadata": {
  "kernelspec": {
   "display_name": "SageMath 7.3",
   "language": "",
   "name": "sagemath"
  },
  "language_info": {
   "codemirror_mode": {
    "name": "ipython",
    "version": 2
   },
   "file_extension": ".py",
   "mimetype": "text/x-python",
   "name": "python",
   "nbconvert_exporter": "python",
   "pygments_lexer": "ipython2",
   "version": "2.7.10"
  }
 },
 "nbformat": 4,
 "nbformat_minor": 0
}
