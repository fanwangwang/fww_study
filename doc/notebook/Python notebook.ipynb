{
 "cells": [
  {
   "cell_type": "markdown",
   "metadata": {},
   "source": [
    "# Python 的简介"
   ]
  },
  {
   "cell_type": "markdown",
   "metadata": {},
   "source": [
    "## 一  、为什么要学习 Python"
   ]
  },
  {
   "cell_type": "markdown",
   "metadata": {},
   "source": [
    "Python 是一个高层次的结合了解释性、编译性、互动性和面向对象的脚本语言。"
   ]
  },
  {
   "cell_type": "markdown",
   "metadata": {},
   "source": [
    "* 编译型语言写的程序执行之前，需要一个专门的编译过程，把程序编译成为机器语言的文件\n",
    "* 解释性语言的程序不需要编译，省了道工序，解释性语言在运行程序的时候才翻译\n",
    "* 脚本语言(JavaScript,VBscript等)介于HTML和C,C++,Java,C#等编程语言之间，不需要编译，可以直接用，由解释器来负责解释\n"
   ]
  },
  {
   "cell_type": "markdown",
   "metadata": {},
   "source": [
    "Python 的设计具有很强的可读性，相比其他语言经常使用英文关键字，其他语言的一些标点符号，它具有比其他语言更有特色语法结构。"
   ]
  },
  {
   "cell_type": "markdown",
   "metadata": {},
   "source": [
    "1. **易于学习：** Python有相对较少的关键字，结构简单，语法简洁，学习起来更加简单；\n",
    "\n",
    "1. **易于阅读：** Python代码定义的更清晰；\n",
    "\n",
    "1. **易于维护：** Python的成功在于它的源代码是相当容易维护的，对代码的错误进行改进；\n",
    "\n",
    "1. **一个广泛的标准库：** Python的最大的优势之一是丰富的库，跨平台的，在UNIX，Windows和Macintosh兼容很好；\n",
    "\n",
    "1. **不需要声明类型**\n",
    "\n",
    "1. **用很少的代码**\n",
    "\n",
    "1. **网上资料丰富，易于使用，容易与其他语言接口**"
   ]
  },
  {
   "cell_type": "markdown",
   "metadata": {},
   "source": [
    "## 二、Python 的安装"
   ]
  },
  {
   "cell_type": "markdown",
   "metadata": {},
   "source": [
    "* **在winndows下的安装**"
   ]
  },
  {
   "cell_type": "markdown",
   "metadata": {},
   "source": [
    "1. 访问 python.org/download/ 并下载与计算机架构对应的 Python 3 Windows 安装程序\n",
    "1. 下载完成后，双击该 .msi 文件\n",
    "1. 点击 Run［运行］ 按钮启动 Python 3 安装程序\n",
    "1. 安装程序将会询问的第一个问题是：是为所有用户，还是仅为您自己安装 Python 3\n",
    "1. 单击【Next】按钮，此处可以按照默认的安装路径，也可以根据需要选择Python的安装路径\n",
    "1. 单击【Next】按钮，进入选择安装模块界面。此处不需要做修改，按照默认配置即可\n",
    "1. 单击【Next】按钮，Python安装程序将开始复制安装文件\n",
    "1. 当Python安装程序复制完文件以后。单击【Finish】按钮，将弹出对话框，要求重新启动系统。重新启动系统后即可完成Python安装\n",
    "1. 安装完Python后，可以单击【开始】｜【所有程序】｜【Python3.1】｜【Python （command\n",
    "line）】命令，将弹出Python的交互式命令行界面。也可以单击【开始】｜【运行】cmd 命令，在弹出的对话框中输入“python”即可\n",
    "1. 如果没能打开Python的交互式命令行，可以将Python的安装路径添加到“path”系统变量中。右键单击【我的电脑】图标，选择菜单【属性】命令，在弹出的对话框中选择【高级】标鉴，单击【环境变量】按钮，选中【用户变量】的“path”选项，单击【编辑】按钮，在【变量值】文本框中的末尾添加“;C:\\Python31”，单击【确定】按钮。然后重新启动cmd命令即可"
   ]
  },
  {
   "cell_type": "markdown",
   "metadata": {},
   "source": [
    "**注意：**选择对应的windows相应的python版本"
   ]
  },
  {
   "cell_type": "markdown",
   "metadata": {},
   "source": [
    "* **在Ubuntu下的安装**\n",
    "\n",
    "在终端输入命令：\n",
    "```\n",
    "sudo apt-get install ipython3\n",
    "```"
   ]
  },
  {
   "cell_type": "markdown",
   "metadata": {},
   "source": [
    "## 三、编程"
   ]
  },
  {
   "cell_type": "markdown",
   "metadata": {},
   "source": [
    "注：Python3 与 Python2 不兼容"
   ]
  },
  {
   "cell_type": "markdown",
   "metadata": {},
   "source": [
    "主要实现有：\n",
    "\n",
    "1. **CPython**\n",
    "CPython 即用C语言实现 Python 及其解释器（JIT编译器）\n",
    "\n",
    "1. **Pypy**\n",
    "Pypy 是用 Python 来实现（准确说是个 Python 子集）\n",
    "\n",
    "1. **Jython**\n",
    "Jython 是用 Java 语言来实现\n",
    "\n",
    "1. **IronPython**\n",
    "IronPython就是python编程语言和强大的.NET平台的有机结合,是一个Python编译器\n"
   ]
  },
  {
   "cell_type": "markdown",
   "metadata": {},
   "source": [
    "Python操作需要用到以下名词和动词：\n",
    "\n",
    "名词： 数据\n",
    "\n",
    "动词：运算符，控制流，函数，方法"
   ]
  },
  {
   "cell_type": "markdown",
   "metadata": {},
   "source": [
    "* 最基本的控制流：\n",
    "\n",
    "例如：\n",
    "\n",
    "1. 打印出“Hello World！”\n",
    "1. 打印出“How are you？”"
   ]
  },
  {
   "cell_type": "markdown",
   "metadata": {},
   "source": [
    "* **(scalar)类型**\n",
    "\n",
    "\n",
    "1. int   $\\qquad~~~~$    整型\n",
    "1. float $\\qquad~$    浮点型\n",
    "1. bool  $\\qquad~$    布尔型，用作逻辑判断\n",
    "1. str   $\\qquad~~~~$    字符串型\n",
    "1. None  $\\qquad$    特殊的值，代表“nothing”\n"
   ]
  },
  {
   "cell_type": "markdown",
   "metadata": {},
   "source": [
    "* scalar类型"
   ]
  },
  {
   "cell_type": "markdown",
   "metadata": {},
   "source": [
    "* 整型浮点型的运算符：\n",
    "\n",
    "\n",
    "1. 加 +\n",
    "1. 减 -\n",
    "1. 乘 *\n",
    "1. 除 /（作整数相除 //）\n",
    "1. 模 %\n",
    "1. 幂 **"
   ]
  },
  {
   "cell_type": "markdown",
   "metadata": {},
   "source": [
    "* 返回bool型的运算符\n",
    "\n",
    "\n",
    "1. <\n",
    "1. <=\n",
    "1. >\n",
    "1. \\>=\n",
    "1. ==\n",
    "1. !="
   ]
  },
  {
   "cell_type": "markdown",
   "metadata": {},
   "source": [
    "赋值运算：可以被看作是一个标签,不像数学中变量的值，一旦被赋值就不能被改变；在同一个变量下改变他的值也会改变他的类型"
   ]
  },
  {
   "cell_type": "markdown",
   "metadata": {},
   "source": [
    "* none 类型"
   ]
  },
  {
   "cell_type": "markdown",
   "metadata": {},
   "source": [
    "* 字符串型的运算符\n",
    "\n",
    "\n",
    "1. 拼接 $\\qquad$ +\n",
    "1. 重复 $\\qquad$ *"
   ]
  },
  {
   "cell_type": "markdown",
   "metadata": {},
   "source": [
    "* **slicing**"
   ]
  },
  {
   "cell_type": "markdown",
   "metadata": {},
   "source": [
    "print \"abcdefg\"[3:6] 表示输出从字符串 “abcdefg” 中第三个到第 $6-1$ 个字符；\n",
    "\n",
    "print \"abcdefg\"[3:] 表示输出从字符串 “abcdefg” 中第三个到最后一个字符；\n",
    "\n",
    "print \"string\"[x:y] 表示输出从字符串中第 $x$ 个到第 $y-1$ 个字符;\n",
    "\n",
    "负数表示倒着取，例print \"abcdefg\"[3:-2] 表示输出从字符串 “abcdefg” 中第三个到倒数第二个减1个，即倒数第三个字符"
   ]
  },
  {
   "cell_type": "markdown",
   "metadata": {},
   "source": [
    "* **split**\n",
    "\n",
    "```\n",
    "a = \"Hello World\"\n",
    "a.split(\" \")\n",
    "```"
   ]
  },
  {
   "cell_type": "markdown",
   "metadata": {},
   "source": [
    "* **(collection)类型**\n",
    "\n",
    "\n",
    "1. list   $\\qquad$ 数据结构，列表是可读可写的\n",
    "1. tuples $~~~~$ 只读，不能改变；如果tuples中只有一个元素时，后边加 “,”\n",
    "1. dict  $\\qquad$ 就像字典一样，找出里边的元素\n",
    "1. set $\\qquad$ 集合\n",
    "1. file$\\qquad$ 代表一个文件，有打开文件的动作“open”,相应的还有关闭文件的动作\"close\""
   ]
  },
  {
   "cell_type": "markdown",
   "metadata": {},
   "source": [
    "**list**\n",
    "\n",
    "list同数组类似，但是又比c语言和其他语言的数组灵活\n",
    "\n",
    "1. 创建列表\n",
    "```\n",
    "list = [1,2,3,4,5,6,7,8,9]\n",
    "```\n",
    "1. list运算符\n",
    "```\n",
    "list_.sort() #排序\n",
    "```\n",
    "```\n",
    "list_.append #追加元素\n",
    "```\n",
    "```\n",
    "list_.pop #返回最后一个元素并从list中删除\n",
    "```\n",
    "```\n",
    " +  #拼接，同list_.extend()\n",
    "```\n",
    "```\n",
    "del_.list[] #删除\n",
    "```\n",
    "```\n",
    "len()  #列表长度\n",
    "```"
   ]
  },
  {
   "cell_type": "markdown",
   "metadata": {},
   "source": [
    "* **for循环**\n",
    "\n",
    "```\n",
    "s = 0\n",
    "for i in range(5):\n",
    "    s += i\n",
    "```"
   ]
  },
  {
   "cell_type": "markdown",
   "metadata": {},
   "source": [
    "* **tuple()**\n",
    "\n",
    "\n",
    " 1. 类似list，但是tuple()只读，不能改变,并且只能用(),不能用[]\n",
    " 1. 如果tuples中只有一个元素时，后边加 “,”"
   ]
  },
  {
   "cell_type": "markdown",
   "metadata": {},
   "source": [
    "* **dict**\n",
    "\n",
    "\n",
    "1. 同现实生活中的字典类似\n",
    "1. 可以看成是一个关系对，一个key对应一个值\n",
    "1. dict的键值是不变的，所以不能通过list来索引，但是可以用tuple来索引"
   ]
  },
  {
   "cell_type": "markdown",
   "metadata": {},
   "source": [
    "* **set**\n",
    "\n",
    "创建一个集合\n",
    "```\n",
    "a= {1,1,2}\n",
    "```"
   ]
  },
  {
   "cell_type": "markdown",
   "metadata": {},
   "source": [
    "* 集合的操作符:\n",
    "\n",
    "\n",
    "1. & #交集\n",
    "1. | #并集\n",
    "1. \\- #作差"
   ]
  },
  {
   "cell_type": "markdown",
   "metadata": {},
   "source": [
    "* 集合的比较\n",
    "\n",
    "1. <\n",
    "1. >\n",
    "1. <=\n",
    "1. \\>=\n",
    "1. ==\n",
    "1. !="
   ]
  },
  {
   "cell_type": "markdown",
   "metadata": {},
   "source": [
    "* **file**\n",
    "\n",
    "\n",
    "file在python是一个特殊的类型，它用于在python程序中对外部的文件进行操作。在python中一切都是对象，file也不例外，file有file的方法和属性\n"
   ]
  },
  {
   "cell_type": "markdown",
   "metadata": {
    "collapsed": true
   },
   "source": [
    "创建一个file文件：\n",
    "```\n",
    "file(name[, mode[, buffering]])\n",
    "```\n",
    "\n",
    "file()函数用于创建一个file对象，它有一个别名叫open()，可能更形象一些，它们是内置函数。来看看它的参数。它参数都是以字符串的形式传递的。name是文件的名字。\n",
    "\n",
    "mode是打开的模式，可选的值为r w a U，分别代表读（默认） 写 添加支持各种换行符的模式。用w或a模式打开文件的话，如果文件不存在，那么就自动创建。此外，用w模式打开一个已经存在的文件时，原有文件的内容会被清空，因为一开始文件的操作的标记是在文件的开头的，这时候进行写操作，无疑会把原有的内容给抹掉.\n",
    "\n",
    "由于历史的原因，换行符在不同的系统中有不同模式，比如在 unix中是一个n，而在windows中是‘rn'，用U模式打开文件，就是支持所有的换行模式，也就说‘r' 'n' 'rn'都可表示换行，会有一个tuple用来存贮这个文件中用到过的换行符。不过，虽说换行有多种模式，读到python中统一用n代替。在模式字符的后面，还可以加上 +bt 这两种标识，分别表示可以对文件同时进行读写操作和用二进制模式、文本模式（默认）打开文件。\n",
    "\n",
    "buffering如果为0表示不进行缓冲;如果为1表示进行“行缓冲“;如果是一个大于1的数表示缓冲区的大小，应该是以字节为单位的。\n",
    "\n"
   ]
  },
  {
   "cell_type": "markdown",
   "metadata": {},
   "source": [
    "file的读写方法\n",
    "\n",
    "1. `F.read([size])` #size为读取的长度，以byte为单位\n",
    "1. `F.readlines([size])` #把文件每一行作为一个list的一个成员，并返回这个list。其实它的内部是通过循环调用readline()来实现的。如果提供size参数，size是表示读取内容的总长，也就是说可能只读到文件的一部分\n",
    "1. `F.write(str)`#把str写到文件中，write()并不会在str后加上一个换行符\n",
    "1. `F.writelines(seq)`#把seq的内容全部写到文件中。这个函数也只是写入，不会在每行后面加上任何东西\n",
    "1. `F.close()`#关闭文件。python会在一个文件不用后自动关闭文件，不过这一功能没有保证，最好还是养成自己关闭的习惯。如果一个文件在关闭后还对其进行操作会产生ValueError"
   ]
  },
  {
   "cell_type": "markdown",
   "metadata": {},
   "source": [
    "例：\n",
    "\n",
    "读取文件\n",
    "```\n",
    "file = open('test.py','r')\n",
    "file.read()\n",
    "file.close()\n",
    "```\n",
    "```\n",
    "file = open('test.py','w')\n",
    "file.write(str)#里边必须是字符串\n",
    "file.close()\n",
    "```"
   ]
  },
  {
   "cell_type": "markdown",
   "metadata": {},
   "source": [
    "* **显示类型的转换**\n",
    "\n",
    "转换一个变量x到类型t，并且在变量y：y=t(x)中保存"
   ]
  },
  {
   "cell_type": "code",
   "execution_count": 2,
   "metadata": {
    "collapsed": false
   },
   "outputs": [
    {
     "name": "stdout",
     "output_type": "stream",
     "text": [
      "1\n"
     ]
    }
   ],
   "source": [
    "y = int('1')\n",
    "print(y)"
   ]
  },
  {
   "cell_type": "code",
   "execution_count": 3,
   "metadata": {
    "collapsed": false
   },
   "outputs": [
    {
     "name": "stdout",
     "output_type": "stream",
     "text": [
      "1.0\n"
     ]
    }
   ],
   "source": [
    "y = float(1)\n",
    "print(y)"
   ]
  },
  {
   "cell_type": "code",
   "execution_count": 4,
   "metadata": {
    "collapsed": false
   },
   "outputs": [
    {
     "name": "stdout",
     "output_type": "stream",
     "text": [
      "0.111111111111111\n"
     ]
    }
   ],
   "source": [
    "y = str(1/9.0)\n",
    "print(y)"
   ]
  },
  {
   "cell_type": "markdown",
   "metadata": {},
   "source": [
    "* **modules(模块)**\n",
    "\n",
    "\n",
    "1. 模块是Python语言鼓励代码再用的一个重要方式\n",
    "1. 模块是Python语言保持代码尽可能少的一个重要方式\n"
   ]
  },
  {
   "cell_type": "markdown",
   "metadata": {},
   "source": [
    "例\n",
    "```\n",
    "import decimal\n",
    "variable1 = decimal.Decimal(6)\n",
    "variable2 = decimal.Decimal('0.33')\n",
    "variable3 = variable1 * variable2\n",
    "print(variable3)\n",
    "\n",
    "```"
   ]
  },
  {
   "cell_type": "markdown",
   "metadata": {},
   "source": [
    "* **decimal**\n",
    "\n",
    "\n",
    "1. decimal是用于十进制数学计算的一个模块\n",
    "1. 基于十进制存储，而不是二进制\n",
    "1. 十进制小数点的位置不固定（但位数是固定的）\n",
    "1. 可以通过整数、字符串或者元组构建decimal.Decimal，对于浮点数需要先将其转换为字符串"
   ]
  },
  {
   "cell_type": "markdown",
   "metadata": {},
   "source": [
    "创建自己的模块\n",
    "\n",
    "```\n",
    "$ vim hello.py\n",
    "\n",
    "def hi():\n",
    "    print(\"hi\") \n",
    "\n",
    "# vim hello_demo.py\n",
    "import hello\n",
    "hello.hi()\n",
    "print(hello)\n",
    "```"
   ]
  },
  {
   "cell_type": "markdown",
   "metadata": {},
   "source": [
    "* **if 判断语句**\n"
   ]
  },
  {
   "cell_type": "markdown",
   "metadata": {
    "collapsed": false
   },
   "source": [
    "```\n",
    "if 1==1:\n",
    "    print(\"It is true\")\n",
    "```"
   ]
  },
  {
   "cell_type": "markdown",
   "metadata": {
    "collapsed": true
   },
   "source": [
    "* **if/elif/else 判断语句**"
   ]
  },
  {
   "cell_type": "markdown",
   "metadata": {},
   "source": [
    "```\n",
    "if x < 10:\n",
    "     print('less than 10')\n",
    "elif 10 <= x < 20:\n",
    "     print('between 10 and 20')\n",
    "elif 20 <= x < 30:\n",
    "     print('between 20 and 30')\n",
    "else:\n",
    "     print('something else')\n",
    "```"
   ]
  },
  {
   "cell_type": "markdown",
   "metadata": {},
   "source": [
    "* **case/switch 判断语句**\n",
    "\n",
    "\n",
    "1. Python没有case 声明和switch 声明\n",
    "1. 用if/elif/else 判断语句来代替"
   ]
  },
  {
   "cell_type": "markdown",
   "metadata": {},
   "source": [
    "例\n",
    "```\n",
    "x = 5\n",
    "while x < 10:\n",
    "      print(x)\n",
    "      x+=1\n",
    "```"
   ]
  },
  {
   "cell_type": "markdown",
   "metadata": {},
   "source": [
    "例：exception\n",
    "```\n",
    "import  sys # 系统模块\n",
    "n = int(sys.argv[1])\n",
    "try:   # 异常处理，可向用户准确反馈出错信息\n",
    "    print(1.0 / n)\n",
    "except ZeroDivisionError:\n",
    "    print('no reciprocal')\n",
    "```"
   ]
  },
  {
   "cell_type": "markdown",
   "metadata": {},
   "source": [
    " Python的异常处理能力是很强大的，可向用户准确反馈出错信息。在Python中，异常也是对象，可对它进行操作。所有异常都是基类Exception的成员。所有异常都从基类Exception继承，而且都在exceptions模块中定义。Python自动将所有异常名称放在内建命名空间中，所以程序不必导入exceptions模块即可使用异常。一旦引发而且没有捕捉SystemExit异常，程序执行就会终止。如果交互式会话遇到一个未被捕捉的SystemExit异常，会话就会终止。"
   ]
  },
  {
   "cell_type": "markdown",
   "metadata": {},
   "source": [
    "* 自定义函数"
   ]
  },
  {
   "cell_type": "markdown",
   "metadata": {},
   "source": [
    "可以定义一个由自己想要功能的函数，以下是简单的规则：\n",
    "\n",
    "1. 函数代码块以def关键词开头，后接函数标识符名称和圆括号()\n",
    "1. 任何传入参数和自变量必须放在圆括号中间。圆括号之间可以用于定义参数\n",
    "1. 函数的第一行语句可以选择性地使用文档字符串—用于存放函数说明\n",
    "1. 函数内容以冒号起始，并且缩进\n",
    "1. Return[expression]结束函数，选择性地返回一个值给调用方。不带表达式的return相当于返回 None\n",
    "\n"
   ]
  },
  {
   "cell_type": "markdown",
   "metadata": {},
   "source": [
    "代码如下:\n",
    "```\n",
    "def functionname( parameters ):\n",
    "      \"\"\" 函数_文档字符串\n",
    "        \n",
    "      \"\"\"\n",
    "      function_suite\n",
    "   return [expression]\n",
    "```"
   ]
  },
  {
   "cell_type": "markdown",
   "metadata": {},
   "source": [
    "例\n",
    "```\n",
    "def square(x):\n",
    "    result = x * x\n",
    "return result\n",
    "print(square(1))\n",
    "```"
   ]
  },
  {
   "cell_type": "markdown",
   "metadata": {},
   "source": [
    "* **class**\n",
    "\n",
    "定义\n",
    "Python 的 Class 比较特别，和我们习惯的静态语言类型定义有很大区别。\n",
    "1. 使用一个名为 __init__ 的方法来完成初始化。\n",
    "1. 使用一个名为 __del__ 的方法来完成类似析购操作。\n",
    "1. 所有的实例方法都拥有一个 self 参数来传递当前实例，类似于 this。\n",
    "1. 可以使用 __class__ 来访问类型成员。\n"
   ]
  },
  {
   "cell_type": "markdown",
   "metadata": {},
   "source": [
    "例如：\n",
    "```\n",
    "class Point:\n",
    "     def __init__(self, x, y):\n",
    "     self.x = x\n",
    "     self.y = y\n",
    "def __add__(self, other):\n",
    "     result = Point(0, 0)\n",
    "     result.x = self.x + other.x\n",
    "     result.y = self.y + other.y\n",
    "     return result\n",
    "def magnitude(self):\n",
    "     return (self.x ** 2 + self.y ** 2) ** 0.5\n",
    "def __str__(self):\n",
    "     return 'Point(%f,%f)'%(self.x,self.y)\n",
    "\n",
    "```\n",
    "\n",
    "```\n",
    "point1 = Point(5, 10)\n",
    "point2 = Point(6, 15)\n",
    "print(point1)\n",
    "print(point2)\n",
    "print(point1 + point2)\n",
    "print(point1.magnitude())\n",
    "```"
   ]
  },
  {
   "cell_type": "code",
   "execution_count": null,
   "metadata": {
    "collapsed": true
   },
   "outputs": [],
   "source": []
  }
 ],
 "metadata": {
  "kernelspec": {
   "display_name": "SageMath 7.3",
   "language": "",
   "name": "sagemath"
  },
  "language_info": {
   "codemirror_mode": {
    "name": "ipython",
    "version": 2
   },
   "file_extension": ".py",
   "mimetype": "text/x-python",
   "name": "python",
   "nbconvert_exporter": "python",
   "pygments_lexer": "ipython2",
   "version": "2.7.10"
  }
 },
 "nbformat": 4,
 "nbformat_minor": 0
}
