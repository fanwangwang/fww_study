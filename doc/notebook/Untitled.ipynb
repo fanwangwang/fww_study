{
 "cells": [
  {
   "cell_type": "markdown",
   "metadata": {},
   "source": [
    "对于初值问题\n",
    "$$\n",
    "u' = 4tu^{\\frac{1}{2}}\\\\\n",
    "u(0)=1\\\\\n",
    "0\\leq t \\leq 2\n",
    "$$\n",
    "\n",
    "的精确解为 $u(t) = (1+t^2)^2$\n",
    "\n",
    "\n",
    "要求用显示 Euler ,隐式 Euler ,改进 Euler, 四阶线性多步法，四阶 Runge-Kutta 法在计算机变成求解"
   ]
  },
  {
   "cell_type": "markdown",
   "metadata": {},
   "source": [
    "## 显示 Euler\n",
    "\n"
   ]
  },
  {
   "cell_type": "markdown",
   "metadata": {},
   "source": [
    "1. 网格剖分：对 $0\\leq t \\leq 2$ 进行剖分，步长为 $h = 0.1$\n",
    "1. 对差分格式进行离散：\n",
    "$$\n",
    "u_{n+1} = u_n+hf(t_n,u_n),\\qquad n =0,1,2,\\dots,N-1\n",
    "$$\n",
    "这里 $f(t_n,u_n) = u_n'$ "
   ]
  },
  {
   "cell_type": "code",
   "execution_count": null,
   "metadata": {
    "collapsed": true
   },
   "outputs": [],
   "source": []
  }
 ],
 "metadata": {
  "kernelspec": {
   "display_name": "SageMath 7.3",
   "language": "",
   "name": "sagemath"
  },
  "language_info": {
   "codemirror_mode": {
    "name": "ipython",
    "version": 2
   },
   "file_extension": ".py",
   "mimetype": "text/x-python",
   "name": "python",
   "nbconvert_exporter": "python",
   "pygments_lexer": "ipython2",
   "version": "2.7.10"
  }
 },
 "nbformat": 4,
 "nbformat_minor": 0
}
