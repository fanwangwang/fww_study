{
 "cells": [
  {
   "cell_type": "markdown",
   "metadata": {},
   "source": [
    "对于初值问题\n",
    "$$\n",
    "u' = 4tu^{\\frac{1}{2}}\\\\\n",
    "u(0)=1\\\\\n",
    "0\\leq t \\leq 2\n",
    "$$\n",
    "\n",
    "的精确解为 $u(t) = (1+t^2)^2$\n",
    "\n",
    "\n",
    "要求用显示 Euler ,隐式 Euler ,改进 Euler, 四阶线性多步法，四阶 Runge-Kutta 法在计算机变成求解"
   ]
  },
  {
   "cell_type": "markdown",
   "metadata": {},
   "source": [
    "## 显示 Euler\n",
    "\n"
   ]
  },
  {
   "cell_type": "markdown",
   "metadata": {},
   "source": [
    "1. 网格剖分：对 $0\\leq t \\leq 2$ 进行剖分，步长为 $h = 0.1$\n",
    "1. 对差分格式进行离散：\n",
    "$$\n",
    "u_{n+1} = u_n+hf(t_n,u_n),\\qquad n =0,1,2,\\dots,N-1\n",
    "$$\n",
    "这里 $f(t_n,u_n) = u_n'$ \n",
    "\n",
    "对方程 $u' = f$ 两边同时积分有：\n",
    "$$\n",
    "u_{n+1} - u_{n} = \\int_{t_n}^{t_{n+1}}f\\mathrm{d}t\n",
    "$$\n",
    "则用左矩形公式有\n",
    "$$\n",
    "u_{n+1} = u_{n} + (t_{n+1}-t_{n})f(t_{n},u_{n})\\\\\n",
    "u_{n+1} = u_n+hf(t_{n},u_{n})\n",
    "$$"
   ]
  },
  {
   "cell_type": "markdown",
   "metadata": {
    "collapsed": true
   },
   "source": [
    "## 隐式Euler"
   ]
  },
  {
   "cell_type": "markdown",
   "metadata": {},
   "source": [
    "1. 网格剖分：对 $0\\leq t \\leq 2$ 进行剖分，步长为 $h = 0.1$\n",
    "1. 对差分格式进行离散：\n",
    "$$\n",
    "u_{n+1} = u_n+hf(t_{n+1},u_{n+1}),\\qquad n =0,1,2,\\dots,N-1\n",
    "$$\n",
    "这里 $f(t_{n+1},u_{n+1}) = u_{n+1}'$  \n",
    "\n",
    "对方程 $u' = f$ 两边同时积分有：\n",
    "$$\n",
    "u_{n+1} - u_{n} = \\int_{t_n}^{t_{n+1}}f\\mathrm{d}t\n",
    "$$\n",
    "则用右矩形公式有\n",
    "$$\n",
    "u_{n+1} = u_{n} + (t_{n+1}-t_{n})f(t_{n+1},u_{n+1})\\\\\n",
    "u_{n+1} = u_n+hf(t_{n+1},u_{n+1})\n",
    "$$"
   ]
  },
  {
   "cell_type": "markdown",
   "metadata": {},
   "source": [
    "## 改进的Euler"
   ]
  },
  {
   "cell_type": "markdown",
   "metadata": {},
   "source": [
    "1. 网格剖分：对 $0\\leq t \\leq 2$ 进行剖分，步长为 $h = 0.1$\n",
    "1. 对差分格式进行离散：\n",
    "$$\n",
    "u_{n+1} = u_n+\\frac{h}{2}[f(t_{n},u_{n})+f(t_{n+1},u_{n+1})],\\qquad n =0,1,2,\\dots,N-1\n",
    "$$\n",
    "这里 $f(t_{n},u_{n}) = u_{n}'$ \n",
    "\n",
    "对方程 $u' = f$ 两边同时积分有：\n",
    "$$\n",
    "u_{n+1} - u_{n} = \\int_{t_n}^{t_{n+1}}f\\mathrm{d}t\n",
    "$$\n",
    "则用中矩形/梯形公式有\n",
    "$$\n",
    "u_{n+1} = u_{n} + (t_{n+1}-t_{n})(\\frac{f(t_n,u_n)}{2}+\\frac{f(t_{n+1},u_{n+1})}{2})\\\\\n",
    "u_{n+1} = u_{n} + \\frac{h}{2}[f(t_{n},u_{n})+f(t_{n+1},u_{n+1})]\n",
    "$$\n"
   ]
  },
  {
   "cell_type": "markdown",
   "metadata": {
    "collapsed": true
   },
   "source": [
    "## 四阶龙格库塔"
   ]
  },
  {
   "cell_type": "markdown",
   "metadata": {},
   "source": [
    "1. 网格剖分：对 $0\\leq t \\leq 2$ 进行剖分，步长为 $h = 0.1$\n",
    "1. 对四阶龙格库塔格式为：\n",
    "$$\n",
    "u_{n+1} = u_n+\\frac{h}{6}[k_1+2k_2+2k_3+k_4],\\qquad n =0,1,2,\\dots,N-1\n",
    "$$\n",
    "这里 \n",
    "$$\n",
    "k_1 = f(t_n,u_n)\\\\\n",
    "k_2 = f(t_n+\\frac{h}{2},u_n+\\frac{h}{2}k_1)\\\\\n",
    "k_3 = f(t_n+\\frac{h}{2},u_n+\\frac{h}{2}k_2)\\\\\n",
    "k_4 = f(t_n+h,u_n+hk_3)\n",
    "$$\n",
    "\n",
    "和\n",
    "\n",
    "$$\n",
    "u_{n+1} = u_n+\\frac{h}{8}[k_1+3k_2+3k_3+k_4],\\qquad n =0,1,2,\\dots,N-1\n",
    "$$\n",
    "这里 \n",
    "$$\n",
    "k_1 = f(t_n,u_n)\\\\\n",
    "k_2 = f(t_n+\\frac{h}{3},u_n+\\frac{h}{3}k_1)\\\\\n",
    "k_3 = f(t_n+\\frac{2h}{3},u_n-\\frac{h}{3}k_1+hk_2)\\\\\n",
    "k_4 = f(t_n+h,u_n+hk_1-hk_2hk_3)\n",
    "$$\n",
    "\n"
   ]
  },
  {
   "cell_type": "markdown",
   "metadata": {},
   "source": [
    "则对初值问题的离散格式为\n",
    "$$\n",
    "u_{n+1} = u_n+\\frac{h}{6}[k_1+2k_2+2k_3+k_4]\n",
    "$$\n",
    "\n",
    "这里\n",
    "$$\n",
    "k_1 = 4t_nu_n^{\\frac{1}{2}}\\\\\n",
    "k_2 = 4(t_n+\\frac{h}{2})(u_n+\\frac{h}{2}k_1)^{\\frac{1}{2}}\\\\\n",
    "k_3 = 4(t_n+\\frac{h}{2})(u_n+\\frac{h}{2}k_2)^{\\frac{1}{2}}\\\\\n",
    "k_4 = 4(t_n+h)(u_n+hk_3)^{\\frac{1}{2}}\n",
    "$$\n",
    "\n",
    "和\n",
    "\n",
    "$$\n",
    "u_{n+1} = u_n+\\frac{h}{8}[k_1+3k_2+3k_3+k_4]\n",
    "$$\n",
    "\n",
    "这里\n",
    "$$\n",
    "k_1 = 4t_nu_n^{\\frac{1}{2}}\\\\\n",
    "k_2 = 4(t_n+\\frac{h}{3})(u_n+\\frac{h}{3}k_1)^{\\frac{1}{2}}\\\\\n",
    "k_3 = 4(t_n+\\frac{2h}{3})(u_n-\\frac{h}{3}k_1+hk_2)^{\\frac{1}{2}}\\\\\n",
    "k_4 = 4(t_n+h)(u_n+hk_1-hk_2+hk_3)^{\\frac{1}{2}}\n",
    "$$"
   ]
  },
  {
   "cell_type": "code",
   "execution_count": null,
   "metadata": {
    "collapsed": true
   },
   "outputs": [],
   "source": []
  }
 ],
 "metadata": {
  "kernelspec": {
   "display_name": "SageMath 7.3",
   "language": "",
   "name": "sagemath"
  },
  "language_info": {
   "codemirror_mode": {
    "name": "ipython",
    "version": 2
   },
   "file_extension": ".py",
   "mimetype": "text/x-python",
   "name": "python",
   "nbconvert_exporter": "python",
   "pygments_lexer": "ipython2",
   "version": "2.7.10"
  }
 },
 "nbformat": 4,
 "nbformat_minor": 0
}
