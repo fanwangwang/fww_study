{
 "cells": [
  {
   "cell_type": "markdown",
   "metadata": {},
   "source": [
    "# possion equation"
   ]
  },
  {
   "cell_type": "markdown",
   "metadata": {},
   "source": [
    "## 题目"
   ]
  },
  {
   "cell_type": "markdown",
   "metadata": {},
   "source": [
    "求解 possion 方程\n",
    "\n",
    "$$\n",
    "\\begin{cases}\n",
    "u''+ u = -x\\qquad 0<x<1\\\\\n",
    "u(0)=u(1)=0\n",
    "\\end{cases}\n",
    "$$\n",
    "\n",
    "真解为 $u = \\frac{\\sin x}{\\sin 1} - x$"
   ]
  },
  {
   "cell_type": "markdown",
   "metadata": {},
   "source": [
    "## 算法"
   ]
  },
  {
   "cell_type": "markdown",
   "metadata": {},
   "source": [
    "* **变分**\n",
    "\n",
    "寻找一个 $v\\in H_0^1(\\Omega)$ 使得\n",
    "\n",
    "$$\n",
    "a(u,v)=<f,v>\n",
    "$$\n",
    "\n",
    "这里\n",
    "$$\n",
    "a(u,v) = \\int_{0}^{1}(-u'v'+uv)\\mathrm{d}x\\\\\n",
    "<f,v> = \\int_{0}^{1}(-xv)\\mathrm{d}x\n",
    "$$"
   ]
  },
  {
   "cell_type": "markdown",
   "metadata": {},
   "source": [
    "* **网格剖分**\n",
    "\n",
    "对 $[0,1]$ 区间进行 $N$ 等分，步长为 $h = \\frac{1}{N}$"
   ]
  },
  {
   "cell_type": "markdown",
   "metadata": {},
   "source": [
    "* **组装刚度矩阵**"
   ]
  },
  {
   "cell_type": "markdown",
   "metadata": {},
   "source": [
    "对任意的 $v\\in V$ ,找到 $ \\tilde u = \\sum_{i=1}^{N}u_i \\phi_i \\in V$ ，使得 \n",
    "\n",
    "$$\n",
    "a(\\tilde u,v) = <f,v>\n",
    "$$\n",
    "\n",
    "则"
   ]
  },
  {
   "cell_type": "markdown",
   "metadata": {},
   "source": [
    "$$\n",
    "\\begin{cases} \n",
    "a(\\tilde u,\\phi_1) = <f,\\phi_1>\\\\\n",
    "a(\\tilde u,\\phi_2) = <f,\\phi_2>\\\\\n",
    "\\vdots\\\\\n",
    "a(\\tilde u,\\phi_N) = <f,\\phi_N>\n",
    "\\end{cases}\n",
    "$$"
   ]
  },
  {
   "cell_type": "markdown",
   "metadata": {},
   "source": [
    "即有\n",
    "\n",
    "$$\n",
    "\\begin{cases} \n",
    "a(\\sum_{i=1}^{N}u_i \\phi_i,\\phi_1) = <f,\\phi_1>\\\\\n",
    "a(\\sum_{i=1}^{N}u_i \\phi_i,\\phi_2) = <f,\\phi_2>\\\\\n",
    "\\vdots\\\\\n",
    "a(\\sum_{i=1}^{N}u_i \\phi_i,\\phi_N) = <f,\\phi_N>\n",
    "\\end{cases}\n",
    "$$"
   ]
  },
  {
   "cell_type": "markdown",
   "metadata": {},
   "source": [
    "上面的 $N$ 方程可以改写为下面的形式:\n",
    "\n",
    "$$\n",
    "\\begin{pmatrix}\n",
    "a(\\phi_1, \\phi_1) & a(\\phi_2, \\phi_1) & \\cdots & a(\\phi_N, \\phi_1) \\\\\n",
    "a(\\phi_1, \\phi_2) & a(\\phi_2, \\phi_2) & \\cdots & a(\\phi_N, \\phi_2) \\\\\n",
    "\\vdots & \\vdots & \\ddots & \\vdots \\\\\n",
    "a(\\phi_1, \\phi_N) & a(\\phi_2, \\phi_N) & \\cdots & a(\\phi_N, \\phi_N) \\\\\n",
    "\\end{pmatrix}\n",
    "\\begin{pmatrix}\n",
    "u_1 \\\\ u_2 \\\\ \\vdots \\\\ u_N\n",
    "\\end{pmatrix}\n",
    "= \n",
    "\\begin{pmatrix}\n",
    "<f, \\phi_1> \\\\ <f, \\phi_2> \\\\ \\vdots \\\\ <f, \\phi_N> \n",
    "\\end{pmatrix}\n",
    "$$"
   ]
  },
  {
   "cell_type": "markdown",
   "metadata": {},
   "source": [
    "$$\n",
    "\\mathbf{f} = \\begin{pmatrix}\n",
    "f_1\\\\ f_2 \\\\ \\ldots \\\\f_N\n",
    "\\end{pmatrix} \n",
    "$$ \n",
    "\n",
    "其中 $ f_i=<f,\\phi_i>$,$\\{\\phi_i\\}$ 为一组基"
   ]
  },
  {
   "cell_type": "markdown",
   "metadata": {},
   "source": [
    "刚度矩阵 $A$ 的每一项\n",
    "$$\n",
    "a_{ij} = a(\\phi_i, \\phi_j) = \\int_{\\Omega}\\nabla \\phi_i\\cdot\\nabla \\phi_j\\mathrm d\\mathbf x\n",
    "$$"
   ]
  },
  {
   "cell_type": "markdown",
   "metadata": {},
   "source": [
    "实际上只需要在每个单元 $\\tau$ 上计算出下面六个积分, 即可组装出刚度矩阵:\n",
    "$$\n",
    "\\begin{aligned}\n",
    "\\int_{\\tau}\\nabla\\lambda_i\\cdot\\nabla\\lambda_i\\,\\mathrm d \\mathbf x\\\\\n",
    "\\int_{\\tau}\\nabla\\lambda_j\\cdot\\nabla\\lambda_j\\,\\mathrm d \\mathbf x\\\\\n",
    "\\int_{\\tau}\\nabla\\lambda_k\\cdot\\nabla\\lambda_k\\,\\mathrm d \\mathbf x\\\\\n",
    "\\int_{\\tau}\\nabla\\lambda_i\\cdot\\nabla\\lambda_j\\,\\mathrm d \\mathbf x\\\\\n",
    "\\int_{\\tau}\\nabla\\lambda_i\\cdot\\nabla\\lambda_k\\,\\mathrm d \\mathbf x\\\\\n",
    "\\int_{\\tau}\\nabla\\lambda_k\\cdot\\nabla\\lambda_j\\,\\mathrm d \\mathbf x\\\\\n",
    "\\end{aligned}\n",
    "$$"
   ]
  },
  {
   "cell_type": "markdown",
   "metadata": {},
   "source": []
  }
 ],
 "metadata": {
  "kernelspec": {
   "display_name": "SageMath 7.3",
   "language": "",
   "name": "sagemath"
  },
  "language_info": {
   "codemirror_mode": {
    "name": "ipython",
    "version": 2
   },
   "file_extension": ".py",
   "mimetype": "text/x-python",
   "name": "python",
   "nbconvert_exporter": "python",
   "pygments_lexer": "ipython2",
   "version": "2.7.10"
  }
 },
 "nbformat": 4,
 "nbformat_minor": 0
}
