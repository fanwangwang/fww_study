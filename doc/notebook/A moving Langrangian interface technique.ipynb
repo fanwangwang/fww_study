{
 "cells": [
  {
   "cell_type": "markdown",
   "metadata": {},
   "source": [
    "这篇文章主要由 Marcela Cruchaga ,Diego Celentano,Tayfun Tezduyar 提出了一个提高对于带有不稳定的不可压缩流动的移动界面的有限元构想. Navier-Stokes 方程的弱形式，可以被写作一个一般化的流线算子形式，与由一个独立网格定义的两个不相容液体间的界面相结合. 界面的位置用拉格朗日格式更新，在这个结构中，用精确地算法和提高有限元技术来提高精确度. "
   ]
  },
  {
   "cell_type": "markdown",
   "metadata": {},
   "source": [
    "在有限元方法中，基于两个主要的方法是根据求解流动方程的网格是否移动来考虑. 带有混合网格的方法，例如预浓缩方法已经成功的应用于这类问题中.这些方法属于界面捕捉技术.然而，在这类方法，当在移动界面中存在大的曲率和高度依赖时间的流动时，即使是光滑的，那么在向前的定义中也会遇到很多困难. \n",
    "\n"
   ]
  },
  {
   "cell_type": "markdown",
   "metadata": {},
   "source": [
    "基于移动网格方法不包括这些困难，属于界面追踪技术. 有限元网格追踪界面的位置需要根据计算每一个时间层的速度场，用这种方法，需要重新网格化. 但是在一些复杂的模拟和不稳定的界面中，重新网格化的频率就会太高."
   ]
  },
  {
   "cell_type": "markdown",
   "metadata": {},
   "source": [
    "因此咋这篇文章中，作者提出了一个新的方法，用质量守恒的精确算法和集成元技术来增加它的精确度.这种方法保持了解决流动方程和移动网格的优点，更重要的是这种方法包含了质量守恒的精确算法，尤其是对于混合网格/拉格朗日界面方法的发展."
   ]
  },
  {
   "cell_type": "markdown",
   "metadata": {
    "collapsed": true
   },
   "source": [
    "## 模型"
   ]
  },
  {
   "cell_type": "markdown",
   "metadata": {
    "collapsed": true
   },
   "source": [
    "$$\n",
    "\\rho \\mathbf v+\\rho(\\mathbf v\\cdot\\nabla)\\mathbf v+\\nabla p -\\nabla\\cdot(2\\mu\\varepsilon) = \\rho\\mathbf b \\qquad in\\qquad \\Omega \\times Y\\\\\n",
    "\\nabla\\cdot \\mathbf v=0   \\qquad in\\qquad \\Omega \\times Y\n",
    "$$"
   ]
  },
  {
   "cell_type": "markdown",
   "metadata": {},
   "source": [
    "这里 $\\rho,\\mathbf v,p,\\mu,\\epsilon,\\mathbf b$分别表示密度，速度，压力，张量应变率，体积力，$\\Omega$ 表示边界 $\\Gamma$ 的开边界区域，$Y$ 是时间间隔，$\\nabla$ 是梯度算子\n",
    "\n",
    "$\\Omega = \\Omega_1 \\cup\\Omega_2(\\Omega_1\\cap\\Omega_2=\\varnothing)$ ,$\\Omega_1,\\Omega_2$ 分别表示通过两个流体的子区域"
   ]
  },
  {
   "cell_type": "markdown",
   "metadata": {},
   "source": [
    "## 有限元格式"
   ]
  },
  {
   "cell_type": "markdown",
   "metadata": {},
   "source": [
    "一般的对流扩散系统：\n",
    "$$\n",
    "\\mathbf{R(U)} = \\mathbf M\\cdot \\mathbf U+\\mathbf A：\\mathbf L-\\nabla\\cdot\\mathbf {(K：L)}-\\mathbf F=\\mathbf 0  \\qquad in ~\\Omega\\times Y\n",
    "$$  \n",
    "这里 $\\mathbf R$是剩余量，$\\mathbf U$ 是未知向量 $(\\mathbf v,p)$,$\\mathbf L$ 是未知空间梯度张量，$\\mathbf{M,A,K}$ 分别表示质量，对流和扩散矩阵，$\\mathbf F$ 是扩展的体积力向量"
   ]
  },
  {
   "cell_type": "markdown",
   "metadata": {},
   "source": [
    "方程的有限元格式用一般的流线算子技术来得到：\n",
    "$$\n",
    "\\int_{\\Omega}\\phi\\cdot\\mathbf{R(U)}\\mathrm{d}\\Omega+\\sum_{e=1}^{n_{el}}\\int_{\\Omega^e}\\mathbf P(\\phi)\\cdot\\mathbf{R(U)}\\mathrm{d}\\Omega+BC=0\\qquad \\forall \\phi \\in \\Phi\n",
    "$$\n",
    "\n",
    "这里$\\Phi$是一个加权函数空间，$n_{el}$ 是单元的数量，$\\Omega_e$ 表示单元的子区域，$BC$ 表示边界条件，对于$\\mathbf P(\\phi)$ 的不同选择，将会导致方程格式的不同.\n",
    "\n",
    "$$\n",
    "\\mathbf P(\\phi) = \\tau\\cdot\\mathbf {(A:L)}\n",
    "$$\n",
    "$\\tau$ 是参数矩阵"
   ]
  },
  {
   "cell_type": "markdown",
   "metadata": {},
   "source": [
    "## 移动拉格朗日界面技术"
   ]
  },
  {
   "cell_type": "markdown",
   "metadata": {},
   "source": [
    "基本的算法要求在两个分离网格定义：解流体动力方程的网格和网格表示移动界面.节点的位置通过简单的拉格朗日方程更新\n",
    "$$\n",
    "\\mathbf X^{t+\\vartriangle t} =\\mathbf X^t+\\vartriangle t\\mathbf X^{t+\\alpha\\vartriangle t}\n",
    "$$\n",
    "$\\mathbf X$ 是节点位置，$\\mathbf V$是流体速度,$0\\leq\\alpha\\leq1$"
   ]
  },
  {
   "cell_type": "markdown",
   "metadata": {},
   "source": [
    "## 全局质量守恒校正算法"
   ]
  },
  {
   "cell_type": "markdown",
   "metadata": {},
   "source": [
    "## 提高集成元技术"
   ]
  },
  {
   "cell_type": "markdown",
   "metadata": {},
   "source": [
    "这篇文章主要由 Marcela Cruchaga ,Diego Celentano,Tayfun Tezduyar 提出了一个对于解混合网格不稳定的不可压缩流动问题的移动拉格朗日界面技术.在这个方法中，方程的有限元技术用一般化的流线算子表示，同移动拉格朗日界面技术结合来处理界面的运动. 而解方程是用移动界面表示固定的，分离的移动网格.用全局质量守恒校正算法和提高集成元技术来提高精度."
   ]
  },
  {
   "cell_type": "code",
   "execution_count": null,
   "metadata": {
    "collapsed": true
   },
   "outputs": [],
   "source": []
  }
 ],
 "metadata": {
  "kernelspec": {
   "display_name": "SageMath 7.3",
   "language": "",
   "name": "sagemath"
  },
  "language_info": {
   "codemirror_mode": {
    "name": "ipython",
    "version": 2
   },
   "file_extension": ".py",
   "mimetype": "text/x-python",
   "name": "python",
   "nbconvert_exporter": "python",
   "pygments_lexer": "ipython2",
   "version": "2.7.10"
  }
 },
 "nbformat": 4,
 "nbformat_minor": 0
}
