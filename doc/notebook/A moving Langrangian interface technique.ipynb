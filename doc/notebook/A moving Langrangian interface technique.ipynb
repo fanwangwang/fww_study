{
 "cells": [
  {
   "cell_type": "markdown",
   "metadata": {},
   "source": [
    "这篇文章主要由 Marcela Cruchaga ,Diego Celentano,Tayfun Tezduyar 提出了一个提高对于带有不稳定的不可压缩流动的移动界面的有限元构想. Navier-Stokes 方程的弱形式，可以被写作一个一般化的流线算子形式，与由一个独立网格定义的两个不相容液体间的界面相结合. 界面的位置用拉格朗日格式更新，在这个结构中，用精确地算法和提高有限元技术来提高精确度. "
   ]
  },
  {
   "cell_type": "markdown",
   "metadata": {},
   "source": [
    "在有限元方法中，基于两个主要的方法是根据求解流动方程的网格是否移动来考虑. 带有混合网格的方法，例如预浓缩方法已经成功的应用于这类问题中.这些方法属于界面捕捉技术.然而，在这类方法，当在移动界面中存在大的曲率和高度依赖时间的流动时，即使是光滑的，那么在向前的定义中也会遇到很多困难. \n",
    "\n"
   ]
  },
  {
   "cell_type": "markdown",
   "metadata": {},
   "source": [
    "基于移动网格方法不包括这些困难，属于界面追踪技术. 有限元网格追踪界面的位置需要根据计算每一个时间层的速度场，用这种方法，需要重新网格化. 但是在一些复杂的模拟和不稳定的界面中，重新网格化的频率就会太高."
   ]
  },
  {
   "cell_type": "markdown",
   "metadata": {},
   "source": [
    "因此咋这篇文章中，作者提出了一个新的方法，用质量守恒的精确算法和集成元技术来增加它的精确度.这种方法保持了解决流动方程和移动网格的优点，更重要的是这种方法包含了质量守恒的精确算法，尤其是对于混合网格/拉格朗日界面方法的发展."
   ]
  },
  {
   "cell_type": "markdown",
   "metadata": {
    "collapsed": true
   },
   "source": [
    "## 模型"
   ]
  },
  {
   "cell_type": "code",
   "execution_count": null,
   "metadata": {
    "collapsed": true
   },
   "outputs": [],
   "source": []
  }
 ],
 "metadata": {
  "kernelspec": {
   "display_name": "SageMath 7.3",
   "language": "",
   "name": "sagemath"
  },
  "language_info": {
   "codemirror_mode": {
    "name": "ipython",
    "version": 2
   },
   "file_extension": ".py",
   "mimetype": "text/x-python",
   "name": "python",
   "nbconvert_exporter": "python",
   "pygments_lexer": "ipython2",
   "version": "2.7.10"
  }
 },
 "nbformat": 4,
 "nbformat_minor": 0
}
