{
 "cells": [
  {
   "cell_type": "markdown",
   "metadata": {},
   "source": [
    "# An Eulerian Formulation "
   ]
  },
  {
   "cell_type": "markdown",
   "metadata": {},
   "source": [
    "这篇文章主要是由Jian-Jun Xu 和 Hong-Kai Zhao研究在移动界面解偏微分方程的一个欧拉格式，用一个水平集函数表示并捕捉移动界面. 特别的用对流扩散方程在不可压缩流动建立的一个模型.发展了一个稳定的高效的半隐式格式来移除通过表面扩散引起的刚性. 并以数值例子来说明."
   ]
  },
  {
   "cell_type": "markdown",
   "metadata": {},
   "source": [
    "许多应用都涉及到多相现象，在多相问题中，不同的边界作为一个界面被研究. 在整个系统中，y一些界面问题仅仅只与界面位置和几何形状有关.对于多相问题，通常有通过物理区域的非一致方程. 在数值模拟中，通常的困难有:\n",
    "1. 每个相PDE的解\n",
    "1. 移动界面的追踪"
   ]
  },
  {
   "cell_type": "markdown",
   "metadata": {},
   "source": [
    "表示和追踪移动界面典型的数值方法有：\n",
    "1. 拉格朗日格式\n",
    "1. 欧拉格式"
   ]
  },
  {
   "cell_type": "markdown",
   "metadata": {},
   "source": [
    "**拉格朗日格式：**可以用质点或者界面的移动网格来追踪移动界面，在三维中，移动界面遇到更复杂的运动或者拓扑改变都有很大的消耗，解移动界面的PDE方程更复杂\n",
    "**欧拉格式：**通过水平集方法来捕捉移动界面，因此几何问题继而转化为对水平集函数求解偏微分方程的问题；然而水平集函数仅仅用于捕捉界面的位置和几何，没有涉及到一些移动界面的物理的背景知识.\n"
   ]
  },
  {
   "cell_type": "markdown",
   "metadata": {},
   "source": [
    "因此，在这篇文章中，作者提出了一个一般的欧拉格式来求解偏微分方程，特别地用界面的对流扩散为例来说明这个格式，基于界面扩散算子的分解，提出了一个半隐式数值算法,并给出一个数值例子来说明这个算法. "
   ]
  },
  {
   "cell_type": "markdown",
   "metadata": {},
   "source": [
    "## 基本格式"
   ]
  },
  {
   "cell_type": "markdown",
   "metadata": {},
   "source": [
    "**模型**\n",
    "\n",
    "设 $\\Gamma(t)$ 是移动界面， $\\mathbf{u(x)}$ 是速度场，$f$ 是一个标量，$M(t)$ 表面单元\n",
    "$$\n",
    "f_t + \\nabla_s\\cdot(f\\mathbf{u_s})+(\\mathbf u\\cdot\\mathbf n)\\kappa f=0\n",
    "$$\n",
    "\n",
    "这里 $\\kappa$ 是曲率.\n",
    "\n"
   ]
  },
  {
   "cell_type": "markdown",
   "metadata": {},
   "source": [
    "如果 $\\nabla\\cdot \\mathbf u =0$,则上述方程等价于\n",
    "$$\n",
    "f_t+\\mathbf u\\cdot \\nabla f-\\mathbf n\\cdot \\nabla{\\mathbf u}\\cdot\\mathbf nf=0\n",
    "$$\n",
    "\n",
    "这里 $\\mathbf n\\cdot \\nabla{\\mathbf u}\\cdot\\mathbf n = \\sum_{i,j}\\mathbf{n_i}\\frac{\\partial u_i}{\\partial x_j}\\mathbf n_j$"
   ]
  },
  {
   "cell_type": "markdown",
   "metadata": {},
   "source": [
    "在移动界面上的对流扩散方程：\n",
    "$$\n",
    "f_t+\\mathbf u\\cdot \\nabla f-\\mathbf n\\cdot \\nabla{\\mathbf u}\\cdot\\mathbf nf- \\nabla_s^2f=0\n",
    "$$\n",
    "$$\n",
    "\\nabla_s^2f = \\nabla^2f - \\frac{\\partial^2 f}{\\partial{\\mathbf n^2}}-\\kappa\\frac{\\partial f}{\\partial \\mathbf n}\n",
    "$$"
   ]
  },
  {
   "cell_type": "markdown",
   "metadata": {},
   "source": [
    "在欧拉格式中我们用水平集方法来捕捉移动界面 $\\Gamma(t)$ , $\\Gamma(t)$作为一个水平集函数的零水平集满足\n",
    "$$\n",
    "\\phi_t+\\mathbf\\cdot\\nabla\\phi=0\n",
    "$$\n",
    "\n",
    "从水平集函数中，可以计算出几何表面的质量，例如\n",
    "$$\n",
    "\\mathbf{n(x)} = \\frac{\\nabla \\phi(\\mathbf x)}{|\\nabla\\phi(\\mathbf x)|}\\\\\n",
    "\\kappa(\\mathbf x) = \\nabla \\cdot \\left(\\frac{\\nabla \\phi(\\mathbf x)}{|\\nabla\\phi(\\mathbf x)|}\\right)\n",
    "$$"
   ]
  },
  {
   "cell_type": "markdown",
   "metadata": {},
   "source": [
    "## 数值算法"
   ]
  },
  {
   "cell_type": "markdown",
   "metadata": {},
   "source": [
    "在一个时间层上的主要框架是：\n",
    "1. 通过方程\n",
    "$$\n",
    "f_t+\\mathbf u\\cdot \\nabla f-\\mathbf n\\cdot \\nabla{\\mathbf u}\\cdot\\mathbf nf- \\nabla_s^2f=0\n",
    "$$\n",
    "改善在移动界面上 $f$ 的数量\n",
    "1. 通过方程\n",
    "$$\n",
    "\\phi_t+\\mathbf\\cdot\\nabla\\phi=0\n",
    "$$\n",
    "在速度场改善表面\n",
    "1. 如果需要，重新初始化水平集函数，成为一个符号距离函数并且扩展 $f$ 的数量，界面与 $\\phi$ 正交\n",
    "1. 用更新界面和 $f$ 的分布更新速度场"
   ]
  },
  {
   "cell_type": "markdown",
   "metadata": {},
   "source": [
    "**半隐式改进的Crank-Nicholson格式**\n",
    "$$\n",
    "\\frac{f^{m+1}-f^m}{\\vartriangle t} = \\frac{\\nabla^2{f^{m+1}}-\\nabla^2f^m}{2}+\\frac{3}{2}\\left[-\\kappa\\frac{\\partial f}{\\partial \\mathbf n}-\\frac{\\partial^2 f}{\\partial \\mathbf n^2}-\\mathbf u\\cdot \\nabla f+\\mathbf n\\cdot \\nabla{\\mathbf u}\\cdot\\mathbf nf\\right]^m-\\frac{1}{2}\\left[-\\kappa\\frac{\\partial f}{\\partial \\mathbf n}-\\frac{\\partial^2 f}{\\partial \\mathbf n^2}-\\mathbf u\\cdot \\nabla f+\\mathbf n\\cdot \\nabla{\\mathbf u}\\cdot\\mathbf nf\\right]^{m-1}\n",
    "$$"
   ]
  },
  {
   "cell_type": "markdown",
   "metadata": {},
   "source": [
    "**迎风格式**\n",
    "$$\n",
    "(u)^+D_x^-f_{ij}+(u)^-D_x^+f_{ij}+(v)^+D_y^-f_{ij}+(v)^-D_y^+f_{ij}\n",
    "$$"
   ]
  },
  {
   "cell_type": "markdown",
   "metadata": {},
   "source": [
    "**三阶WENO格式**\n",
    "\n",
    "\n",
    "**在点 $x_i$ 处用符号$\\{x_k,k=i-2,i-1,i,i+1\\}$来近似三阶WENO格式：**\n",
    "\n",
    "$$\n",
    "D_x^-g_i = \\frac{[(\\vartriangle^+g_{i-1}+\\vartriangle^+g_i)-\\omega_-(\\vartriangle^+g_{i-2}-2\\vartriangle^+g_{i-1}+\\vartriangle^+g_i)]}{2\\vartriangle x}\n",
    "$$\n",
    "\n",
    "这里 $\\vartriangle^+,\\vartriangle^-$ 分别表示向前和向后差分算子，$\\omega_- =1/(1+2r^2)$,且\n",
    "$$\n",
    "r = \\frac{\\epsilon+(\\vartriangle^-\\vartriangle^+g_{i-1})^2}{\\epsilon+(\\vartriangle^-\\vartriangle^+g_{i})^2}\n",
    "$$\n",
    "$\\epsilon$是一个很小的正数"
   ]
  },
  {
   "cell_type": "markdown",
   "metadata": {},
   "source": [
    "**在点 $x_i$ 处用符号$\\{x_k,k=i-1,i,i+1，i+2\\}$来近似三阶WENO格式：**\n",
    "\n",
    "$$\n",
    "D_x^+g_i = \\frac{[(\\vartriangle^+g_{i-1}+\\vartriangle^+g_i)-\\omega_+(\\vartriangle^+g_{i+1}-2\\vartriangle^+g_{i}+\\vartriangle^+g_{i-1})]}{2\\vartriangle x}\n",
    "$$\n",
    "\n",
    "这里 $\\vartriangle^+,\\vartriangle^-$ 分别表示向前和向后差分算子，$\\omega_+ =1/(1+2r^2)$,且\n",
    "$$\n",
    "r = \\frac{\\epsilon+(\\vartriangle^-\\vartriangle^+g_{i+1})^2}{\\epsilon+(\\vartriangle^-\\vartriangle^+g_{i})^2}\n",
    "$$\n",
    "$\\epsilon$是一个很小的正数"
   ]
  },
  {
   "cell_type": "markdown",
   "metadata": {},
   "source": [
    "**半隐式格式**\n",
    "\n",
    "$$\n",
    "\\frac{f^1-f^0}{\\vartriangle t} = \\nabla^2f^1-\\left[-\\kappa\\frac{\\partial f}{\\partial \\mathbf n}-\\frac{\\partial^2 f}{\\partial \\mathbf n^2}-\\mathbf u\\cdot \\nabla f+\\mathbf n\\cdot \\nabla{\\mathbf u}\\cdot\\mathbf nf\\right]^0\n",
    "$$"
   ]
  },
  {
   "cell_type": "markdown",
   "metadata": {},
   "source": [
    "**Runge-Kutta格式**\n",
    "$$\n",
    "\\frac{dg}{dt} =L(g)\\\\\n",
    "g(0)=g_0\n",
    "$$\n",
    "$L$是空间算子\n",
    "通过\n",
    "$$\n",
    "\\begin{align}\n",
    "g_1 &= g^m+\\vartriangle tL(g^m)\\\\\n",
    "g_2 &= \\frac{3}{4}g^m+\\frac{1}{4}g^1+\\frac{\\vartriangle t}{4}L(g^1)\\\\\n",
    "g_{m+1} &= \\frac{1}{3}g^m+\\frac{2}{3}g^2+\\frac{2\\vartriangle t}{3}L(g^2)\n",
    "\\end{align}\n",
    "$$\n",
    "从第 $m$ 到 $m+1$ 步进行"
   ]
  },
  {
   "cell_type": "code",
   "execution_count": null,
   "metadata": {
    "collapsed": true
   },
   "outputs": [],
   "source": []
  }
 ],
 "metadata": {
  "kernelspec": {
   "display_name": "SageMath 7.3",
   "language": "",
   "name": "sagemath"
  },
  "language_info": {
   "codemirror_mode": {
    "name": "ipython",
    "version": 2
   },
   "file_extension": ".py",
   "mimetype": "text/x-python",
   "name": "python",
   "nbconvert_exporter": "python",
   "pygments_lexer": "ipython2",
   "version": "2.7.10"
  }
 },
 "nbformat": 4,
 "nbformat_minor": 0
}
