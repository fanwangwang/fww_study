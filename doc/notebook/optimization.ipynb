{
 "cells": [
  {
   "cell_type": "markdown",
   "metadata": {},
   "source": [
    "## 共轭梯度方法"
   ]
  },
  {
   "cell_type": "markdown",
   "metadata": {},
   "source": [
    "### 4.1 　共轭方向及性质"
   ]
  },
  {
   "cell_type": "markdown",
   "metadata": {},
   "source": [
    "* 特殊的正定二次函数及正交方向"
   ]
  },
  {
   "cell_type": "markdown",
   "metadata": {},
   "source": [
    "考虑正定二次函数\n",
    "$$\n",
    "f(x) = \\frac{1}{2}x^TGx+b^Tx\n",
    "$$\n",
    "\n",
    "其中 $G$ 是对角阵，对角元为正。"
   ]
  },
  {
   "cell_type": "markdown",
   "metadata": {},
   "source": [
    "考虑函数的极小化问题，从任意初始点 $x_0$ 出发，分别沿着 $e_0,e_1,e_2$ 做精确线搜索，便得到 $x_1,x_2,x_3$ ,这种方法对极小化问题具有二次终止性.要保持方法的二次终止性，需要沿着 $d_0,d_1,d_2$ 方向作精确线搜索."
   ]
  },
  {
   "cell_type": "markdown",
   "metadata": {
    "collapsed": true
   },
   "source": [
    "**定义4.1**　设 $G$ 是 $n\\times n$ 对称矩阵，若 $R^n$ 中两个非零向量 $d_i,d_j(i\\neq j)$ 满足\n",
    "\n",
    "$$\n",
    "d_i^TGd_j = 0\n",
    "$$\n",
    "\n",
    "则称$d_i,d_j$ 是共轭方向."
   ]
  },
  {
   "cell_type": "markdown",
   "metadata": {},
   "source": [
    "**定义4.2**　设 $G$ 是 $n\\times n$ 对称矩阵,若存在对称正定矩阵 $T$ ,使得 $T^2 = G$ ,则称 $T$ 为 $G$ 的平方根矩阵.\n"
   ]
  },
  {
   "cell_type": "markdown",
   "metadata": {},
   "source": [
    "**定理**　设 $G$ 是 $n\\times n$ 对称矩阵,则 $G$ 的平方根矩阵存在唯一."
   ]
  },
  {
   "cell_type": "markdown",
   "metadata": {},
   "source": [
    "### 4.2　共轭梯度方法及其性质"
   ]
  },
  {
   "cell_type": "markdown",
   "metadata": {},
   "source": [
    "* 共轭梯度方法的迭代方向为\n",
    "$$\n",
    "d_k = -g_k + \\beta_{k-1}d_{k-1}\n",
    "$$\n",
    "\n",
    "其中 $\\beta_{k-1} = \\xi_{k-1}^{(k-1)}$. \n",
    "因为正定二次函数有 $g_k^Tg_{k-1} = 0$,从而得到\n",
    "\n",
    "$$\n",
    "\\beta_{k-1} = \\frac{g_k^Tg_k}{g_{k-1}^Tg_{k-1}}\n",
    "$$\n",
    "这种方法称为共轭梯度方法."
   ]
  },
  {
   "cell_type": "markdown",
   "metadata": {},
   "source": [
    "* 共轭梯度方法的性质\n",
    "\n",
    "考虑正定二次函数\n",
    "$$\n",
    "f(x) = \\frac{1}{2}x^TGx+b^Tx\n",
    "$$\n",
    "\n",
    "对任意初始点 $x_0$ ,取 $d_0 = -g_0$.采用精确线搜索的共轭梯度方法具有二次终止性;对所有 $0\\leq k \\leq m,m<n$ ,下列关系成立:\n",
    "\n",
    "  * 共轭方向: $d_k^TGd_i = 0,\\quad i=0,\\dots,k-1$\n",
    "  * 正交向量: $g_k^Tg_i = 0,\\quad i=0,\\dots,k-1$\n",
    "  * 下降性:   $d_k^Tg_k = -g_k^Tg_k$\n",
    " \n",
    " 以及\n",
    " $$\n",
    " span\\{g_0,\\dots,g_k\\} = span\\{g_0,Gg_0,\\dots,G^kg_0\\}\\\\\n",
    " span\\{d_0,\\dots,d_k\\} = span\\{g_0,Gg_0,\\dots,G^kg_0\\}\n",
    " $$\n",
    " "
   ]
  },
  {
   "cell_type": "markdown",
   "metadata": {},
   "source": [
    "### 4.3　非线性共轭梯度方法"
   ]
  },
  {
   "cell_type": "markdown",
   "metadata": {},
   "source": [
    "求解一般最优化问题的非线性梯度方法由线性共轭梯度方法推广而来，其迭代方向由下式给出.\n",
    "\n",
    "$$\n",
    "d_k = -g_k + \\beta_{k-1}d_{k-1}\n",
    "$$\n",
    "\n",
    "选取不同的 $\\beta_{k-1}$ ,便得到不同的共轭梯度公式."
   ]
  },
  {
   "cell_type": "markdown",
   "metadata": {},
   "source": [
    "* **FR公式**\n",
    "$$\n",
    "\\beta_{k-1}^{FR} = \\frac{g_k^Tg_k}{g_{k-1}^Tg_{k-1}}\n",
    "$$"
   ]
  },
  {
   "cell_type": "markdown",
   "metadata": {},
   "source": [
    "* **PRP公式**\n",
    "$$\n",
    "\\beta_{k-1}^{PRP} = \\frac{g_k^T(g_k-g_{k-1})}{g_{k-1}^Tg_{k-1}}\n",
    "$$\n"
   ]
  },
  {
   "cell_type": "markdown",
   "metadata": {},
   "source": [
    "* **共轭下降公式**\n",
    "$$\n",
    "\\beta_{k-1}^{CD} = -\\frac{g_k^Tg_k}{d_{k-1}^Tg_{k-1}}\n",
    "$$\n"
   ]
  },
  {
   "cell_type": "markdown",
   "metadata": {},
   "source": [
    "* **DY公式**\n",
    "$$\n",
    "\\beta_{k-1}^{DY} = \\frac{g_k^Tg_k}{d_{k-1}^T(g_k-g_{k-1})}\n",
    "$$"
   ]
  },
  {
   "cell_type": "markdown",
   "metadata": {},
   "source": [
    "**非线性共轭梯度方法的算法**\n",
    "1. 给出 $x_0\\in R^n,\\varepsilon >0,d_0=-g_0,k:= 0$;\n",
    "1. 若终止准则满足，则停止迭代;\n",
    "1. 作一维线性搜索求 $\\alpha_k$;\n",
    "1. 计算 $x_{k+1} = x_k + \\alpha_kd_k$;\n",
    "1. 计算 $\\beta_k$ , $d_{k+1} = -g_{k+1} +\\beta_kd_k,k:= k+1$,转步2."
   ]
  },
  {
   "cell_type": "markdown",
   "metadata": {
    "collapsed": true
   },
   "source": [
    "## 第六章　约束最优化问题的最优性理论 "
   ]
  },
  {
   "cell_type": "markdown",
   "metadata": {},
   "source": [
    "### 6.1 一般约束最优化问题"
   ]
  },
  {
   "cell_type": "markdown",
   "metadata": {},
   "source": [
    "一般约束最优化问题:\n",
    "\n",
    "$$\n",
    "min~f(x),\\\\\n",
    "s.t.~c_i(x) = 0,\\quad i\\in \\xi\\\\\n",
    "c_i(x) \\geq 0,\\quad i\\in \\Gamma\n",
    "$$\n",
    "\n",
    "其中 $x\\in R^n,f(x)\\in R$为目标函数，$c_i(x)\\in R$ 为约束函数，$c_i(x) = 0(i\\in \\xi)$　和 $c_i(x) \\geq 0,(i\\in \\Gamma)$ 分别为等式约束和不等式约束. "
   ]
  },
  {
   "cell_type": "markdown",
   "metadata": {},
   "source": [
    "**可行域**"
   ]
  },
  {
   "cell_type": "markdown",
   "metadata": {},
   "source": [
    "对约束最优化问题\n",
    "\n",
    "$$\n",
    "min~f(x),\\\\\n",
    "s.t.~c_i(x) = 0,\\quad i\\in \\xi\\\\\n",
    "c_i(x) \\geq 0,\\quad i\\in \\Gamma,\n",
    "$$\n",
    "\n",
    "满足约束条件的点称为可行点，所有可行点的集合称为可行域，记为\n",
    "\n",
    "$$\n",
    "D = \\{x|c_i(x) = 0,i\\in \\xi,c_i(x)\\geq 0,i\\in \\Gamma \\}\n",
    "$$\n",
    "\n",
    "约束最优化问题就是在可行域上求目标函数极值的问题."
   ]
  },
  {
   "cell_type": "markdown",
   "metadata": {},
   "source": [
    "**约束最优化问题的局部解与全局解**"
   ]
  },
  {
   "cell_type": "markdown",
   "metadata": {},
   "source": [
    "* **局部解:**　\n",
    "\n",
    "对约束最优化问题 \n",
    "\n",
    "$$\n",
    "min~f(x),\\\\\n",
    "s.t.~c_i(x) = 0,\\quad i\\in \\xi\\\\\n",
    "c_i(x) \\geq 0,\\quad i\\in \\Gamma,\n",
    "$$\n",
    "\n",
    "若 $x^*\\in D$ ,存在 $\\varepsilon>0$ ,当 $x\\in D$ ,且 $||x-x^*||<\\varepsilon$ 时，有\n",
    "\n",
    "$$\n",
    "f(x)\\geq f(x^*)\n",
    "$$\n",
    "\n",
    "则称 $x^*$ 为问题的局部解;\n",
    "\n",
    "\n",
    "若 $x^*\\in D$ ,存在 $\\varepsilon>0$ ,当 $x\\in D$ ,且 $0<||x-x^*||<\\varepsilon$ 时，有\n",
    "\n",
    "$$\n",
    "f(x)> f(x^*)\n",
    "$$\n",
    "\n",
    "则称 $x^*$ 为问题的严格局部解."
   ]
  },
  {
   "cell_type": "markdown",
   "metadata": {},
   "source": [
    "* **全局解**\n",
    "\n",
    "对约束最优化问题 \n",
    "\n",
    "$$\n",
    "min~f(x),\\\\\n",
    "s.t.~c_i(x) = 0,\\quad i\\in \\xi\\\\\n",
    "c_i(x) \\geq 0,\\quad i\\in \\Gamma,\n",
    "$$\n",
    "\n",
    "若 $x^*\\in D$ , $\\forall x\\in D$ 有\n",
    "\n",
    "$$\n",
    "f(x)\\geq f(x^*)\n",
    "$$\n",
    "\n",
    "则称 $x^*$ 为问题的全局最优解;\n",
    "\n",
    "\n",
    "若 $x^*\\in D$ ,$\\forall x\\in D$ ,且 $x\\neq x^*$ , 有\n",
    "\n",
    "$$\n",
    "f(x)> f(x^*)\n",
    "$$\n",
    "\n",
    "则称 $x^*$ 为问题的严格全局最优解."
   ]
  },
  {
   "cell_type": "markdown",
   "metadata": {},
   "source": [
    "**起作用约束**"
   ]
  },
  {
   "cell_type": "markdown",
   "metadata": {},
   "source": [
    "在点 $x\\in D$ ,若 $c_i(x) = 0$ ,则称该点约束为在点 $x$ 的起作用约束、积极约束或有效约束\n",
    ";若 $c_i(x) > 0$ ,则称该点约束为在点 $x$ 的不起作用约束、非积极约束或非有效约束\n",
    "."
   ]
  },
  {
   "cell_type": "markdown",
   "metadata": {},
   "source": [
    "**凸规划问题**"
   ]
  },
  {
   "cell_type": "markdown",
   "metadata": {},
   "source": [
    "设 $f(x)$ 为凸函数，$c_i(x)(i\\in \\Gamma)$ 为凹函数，则称\n",
    "\n",
    "$$\n",
    "min~f(x)\\\\\n",
    "s.t.~c_i(x)\\geq 0,i\\in \\Gamma\n",
    "$$\n",
    "\n",
    "为凸规划问题."
   ]
  },
  {
   "cell_type": "markdown",
   "metadata": {
    "collapsed": true
   },
   "source": [
    "### 6.2 约束规范条件"
   ]
  },
  {
   "cell_type": "markdown",
   "metadata": {},
   "source": [
    "* **两两可行方向及其关系**\n",
    "\n",
    "\n",
    "**定义6.1:** 设 $x$ 为问题\n",
    "\n",
    "$$\n",
    "min~f(x),\\\\\n",
    "s.t.~c_i(x) = 0,\\quad i\\in \\xi\\\\\n",
    "c_i(x) \\geq 0,\\quad i\\in \\Gamma\n",
    "$$\n",
    "\n",
    "的可行点，存在可行点列 $\\{x_k\\}$ ，有 $x_k\\to x,x_k\\neq x$.记\n",
    "\n",
    "$$\n",
    "x_k = x + \\alpha_kd_k\n",
    "$$\n",
    "\n",
    "其中 $||d_k|| = 1,\\alpha_k > 0$ . 因为 $x_k\\to x$,所以 $\\alpha \\to 0$.\n",
    "若 $d_k \\to d$ , 则称 $\\{d_k\\}$ 为**可行方向点列**， $d$ 为 $x$ 处的**可行方向**."
   ]
  },
  {
   "cell_type": "markdown",
   "metadata": {},
   "source": [
    "**定义6.2：** 设 $x$ 为问题\n",
    "\n",
    "$$\n",
    "min~f(x),\\\\\n",
    "s.t.~c_i(x) = 0,\\quad i\\in \\xi\\\\\n",
    "c_i(x) \\geq 0,\\quad i\\in \\Gamma\n",
    "$$\n",
    "\n",
    "的可行点,定义\n",
    "\n",
    "$$\n",
    "\\begin{align}\n",
    "\\digamma &= \\digamma(x)\\\\\n",
    "&= \\{d|~||d||=1,a_i^Td=0,i\\in \\xi;a_i^Td\\geq 0,i\\in T(x)\\}\n",
    "\\end{align}\n",
    "$$\n",
    "\n",
    "为在 $x$ 处的**线性化可行方向**集合，元素 $d$ 为**线性化可行方向**."
   ]
  },
  {
   "cell_type": "markdown",
   "metadata": {},
   "source": [
    "**两种可行方向的关系**\n",
    "\n",
    "$x\\in D$ 处的可行方向集合 $\\digamma(x)$ 与线性化可行方向集合 $F(x)$ 有如下关系:\n",
    "\n",
    "$$\n",
    "\\digamma(x) \\subseteq F(x)\n",
    "$$"
   ]
  },
  {
   "cell_type": "markdown",
   "metadata": {},
   "source": [
    "*  **约束规范条件**\n",
    "\n",
    "常用的一种为 **$KT$ 约束规范条件:**\n",
    "\n",
    "$$\n",
    "\\digamma = F\n",
    "$$\n",
    "\n",
    "另一种约束规范条件为正则性假设，他是建立在可行方向和下降方向的基础之上的.\n"
   ]
  },
  {
   "cell_type": "markdown",
   "metadata": {},
   "source": [
    "**下降方向:**\n",
    "    \n",
    "定义\n",
    "\n",
    "$$\n",
    "D = D(x) = \\{d~|~d^Tg<0,d\\in R^n\\}\n",
    "$$\n",
    "\n",
    "为 $f(x)$ 在 $x$ 处的**下降方向集合**，其中的元素 $d$ 称为 $x$ 处的**下降方向**."
   ]
  },
  {
   "cell_type": "markdown",
   "metadata": {},
   "source": [
    "**正则性假设**\n",
    "\n",
    "$$\n",
    "\\digamma \\cap D = F \\cap D\n",
    "$$"
   ]
  },
  {
   "cell_type": "markdown",
   "metadata": {
    "collapsed": true
   },
   "source": [
    "## 6.3 约束最优化问题的一阶最优性条件"
   ]
  },
  {
   "cell_type": "markdown",
   "metadata": {},
   "source": [
    "* **分离定理:** \n",
    "\n",
    "设 $C$ 是 $m$ 个 $n$ 维向量 $\\alpha_1,\\alpha_2,\\dots,\\alpha_m$ 生成的集合:\n",
    "\n",
    "$$\n",
    "C = \\{v~|~v=\\sum_{i=1}^{m}\\lambda_ia_i,\\lambda_i\\geq 0,i=1,\\dots,m\\}\n",
    "$$\n",
    "\n",
    "如果 $n$ 维向量 $g \\notin C$ ,存在一个法向量为 $d$ 的超平面 *$\\Pi$* 分离 $g$ 与 $C$ ,使得\n",
    "\n",
    "$$\n",
    "g^Td < 0,\\\\\n",
    "a_i^Td \\geq 0,\\quad i = 1,\\dots,m.\n",
    "$$"
   ]
  },
  {
   "cell_type": "markdown",
   "metadata": {},
   "source": [
    "**注：**　这说明位于 $C$ 超平面 $\\Pi$ 的一侧，而 $g$ 位于 $\\Pi$ 的另一侧."
   ]
  },
  {
   "cell_type": "markdown",
   "metadata": {},
   "source": [
    "* **Farkas　定理**\n",
    "\n",
    "给定任意 $n$ 维向量 $a_1,a_2,\\dots,a_m$ ,与 $g$ ,则集合\n",
    "\n",
    "$$\n",
    "D_1 = \\{d~|~g^T < 0,a_i^T\\geq 0,i = 1,\\dots,m\\}\n",
    "$$\n",
    "\n",
    "为空集的充要条件是，存在 $\\lambda_i \\geq 0~(i = 1,\\dots,m)$ ,使得\n",
    "\n",
    "$$\n",
    "g = \\sum_{i=1}^{m}\\lambda_ia_i\n",
    "$$"
   ]
  },
  {
   "cell_type": "markdown",
   "metadata": {},
   "source": [
    "* **一阶必要条件**\n",
    "\n",
    "若 $x^*$ 为问题 \n",
    "\n",
    "$$\n",
    "min~f(x),\\\\\n",
    "s.t.~c_i(x) = 0,\\quad i\\in \\xi\\\\\n",
    "c_i(x) \\geq 0,\\quad i\\in \\Gamma\n",
    "$$\n",
    "\n",
    "的局部解，且在 $x^*$ 处正则性假设成立，则存在 Lagrange 乘子 $\\lambda^*\\in R^m$ ,使得 $x^*,\\lambda^*$ 满足\n",
    "\n",
    "$$\n",
    "\\nabla_xL(x^*,\\lambda^*) = 0 \\Rightarrow g(x^*) = \\sum_{i=1}^{m}\\lambda_ia_i(x^*)\\\\\n",
    "$$\n",
    "\n",
    "$$\n",
    "\\begin{align}\n",
    "c_i(x^*) &= 0,   \\quad i \\in \\xi,\\\\\n",
    "c_i(x^*) &\\geq 0,\\quad i \\in T,\\\\\n",
    "\\lambda_i^* &\\geq 0,\\quad i \\in T,\\\\\n",
    "\\lambda_i^* &= 0 ,\\quad i \\in \\xi\\cap T\n",
    "\\end{align}\n",
    "$$\n",
    "\n",
    "其中\n",
    "\n",
    "$$\n",
    "L(x,\\lambda) = f(x) - \\sum_{i=1}^{m} \\lambda_ic_i(x)\n",
    "$$\n",
    "\n",
    "为 Lagrange 函数"
   ]
  },
  {
   "cell_type": "markdown",
   "metadata": {},
   "source": [
    "下列条件称为 **KKT 条件** \n",
    "\n",
    "$$\n",
    "\\nabla_xL(x^*,\\lambda^*) = 0 \\Rightarrow g(x^*) = \\sum_{i=1}^{m}\\lambda_ia_i(x^*)\\\\\n",
    "$$\n",
    "\n",
    "$$\n",
    "\\begin{align}\n",
    "c_i(x^*) &= 0,   \\quad i \\in \\xi,\\\\\n",
    "c_i(x^*) &\\geq 0,\\quad i \\in T,\\\\\n",
    "\\lambda_i^* &\\geq 0,\\quad i \\in T,\\\\\n",
    "\\lambda_i^* &= 0 ,\\quad i \\in \\xi\\cap T\n",
    "\\end{align}\n",
    "$$\n"
   ]
  },
  {
   "cell_type": "markdown",
   "metadata": {},
   "source": [
    "满足 **KKT 条件** 的点称为 **KKT 点**.相应的 $\\lambda^*$ 称为 Lagrange 乘子，$x^*,\\lambda^*$　统称为 \n",
    "**KKT 对**.\n",
    "\n",
    "\n",
    "\n",
    "\n",
    "\n",
    "\n",
    "\n",
    "\n",
    "\n",
    "\n",
    "\n",
    "\n",
    "\n",
    "\n",
    "\n",
    "\n",
    "\n",
    "\n",
    "\n",
    "\n",
    "\n",
    "\n",
    "\n",
    "\n",
    "\n",
    "\n",
    "\n",
    "\n",
    "\n",
    "\n",
    "\n",
    "\n",
    "\n",
    "\n",
    "\n",
    "\n",
    "\n",
    "\n",
    "\n",
    "\n",
    "\n",
    "\n",
    "\n",
    "\n",
    "\n",
    "\n",
    "\n",
    "\n",
    "\n",
    "\n",
    "\n",
    "\n",
    "\n",
    "\n",
    "\n",
    "\n",
    "\n",
    "\n",
    "\n",
    "\n",
    "\n",
    "\n",
    "\n",
    "\n",
    "\n",
    "\n",
    "\n",
    "\n",
    "\n",
    "\n",
    "\n",
    "\n",
    "\n",
    "\n",
    "\n",
    "\n",
    "\n",
    "\n",
    "\n",
    "\n",
    "\n",
    "\n",
    "\n",
    "\n",
    "\n",
    "\n",
    "\n",
    "\n",
    "\n",
    "\n",
    "\n",
    "\n",
    "\n",
    "\n",
    "\n",
    "\n",
    "\n",
    "\n",
    "\n",
    "\n",
    "\n",
    "\n",
    "\n",
    "\n",
    "\n",
    "\n",
    "\n",
    "\n",
    "\n",
    "\n",
    "\n",
    "\n",
    "\n",
    "\n",
    "\n",
    "\n",
    "\n",
    "\n",
    "\n",
    "\n",
    "\n",
    "\n",
    "\n",
    "\n",
    "\n",
    "\n",
    "\n",
    "\n",
    "\n",
    "\n",
    "\n",
    "\n",
    "\n",
    "\n",
    "\n",
    "\n",
    "\n",
    "\n",
    "\n",
    "\n",
    "\n",
    "\n",
    "\n",
    "\n",
    "\n",
    "\n",
    "\n",
    "\n",
    "\n",
    "\n",
    "\n",
    "\n",
    "\n",
    "\n",
    "\n",
    "\n",
    "\n",
    "\n",
    "\n",
    "\n",
    "\n",
    "\n",
    "\n",
    "\n",
    "\n",
    "\n",
    "\n",
    "\n",
    "\n",
    "\n",
    "\n",
    "\n",
    "\n",
    "\n",
    "\n",
    "\n",
    "\n",
    "\n",
    "\n",
    "\n",
    "\n",
    "\n",
    "\n",
    "\n",
    "\n",
    "\n",
    "\n",
    "\n",
    "\n",
    "\n",
    "\n",
    "\n",
    "\n",
    "\n",
    "\n",
    "\n",
    "\n",
    "\n",
    "\n",
    "\n",
    "\n",
    "\n",
    "\n",
    "\n",
    "\n",
    "\n",
    "\n",
    "\n",
    "\n",
    "\n",
    "\n",
    "\n",
    "\n",
    "\n",
    "\n",
    "\n",
    "\n",
    "\n",
    "\n",
    "\n",
    "\n",
    "\n",
    "\n",
    "\n",
    "\n",
    "\n",
    "\n",
    "\n",
    "\n",
    "\n",
    "\n",
    "\n",
    "\n",
    "\n",
    "\n",
    "\n",
    "\n",
    "\n",
    "\n",
    "\n",
    "\n",
    "\n",
    "\n",
    "\n",
    "\n",
    "\n",
    "\n",
    "\n",
    "\n",
    "\n",
    "\n",
    "\n",
    "\n",
    "\n",
    "\n",
    "\n",
    "\n",
    "\n",
    "\n",
    "\n",
    "\n",
    "\n",
    "\n",
    "\n",
    "\n",
    "\n",
    "\n",
    "\n",
    "\n",
    "\n",
    "\n",
    "\n",
    "\n",
    "\n",
    "\n",
    "\n",
    "\n",
    "\n",
    "\n",
    "\n",
    "\n",
    "\n",
    "\n",
    "\n",
    "\n",
    "\n",
    "\n",
    "\n",
    "\n",
    "\n",
    "\n",
    "\n",
    "\n",
    "\n",
    "\n",
    "\n",
    "\n",
    "\n",
    "\n",
    "\n",
    "\n",
    "\n",
    "\n",
    "\n",
    "\n",
    "\n",
    "\n",
    "\n",
    "\n",
    "\n",
    "\n",
    "\n",
    "\n",
    "\n",
    "\n",
    "\n",
    "\n",
    "\n",
    "\n",
    "\n",
    "\n",
    "\n",
    "\n",
    "\n",
    "\n",
    "\n",
    "\n",
    "\n",
    "\n",
    "\n",
    "\n",
    "\n",
    "\n"
   ]
  },
  {
   "cell_type": "markdown",
   "metadata": {},
   "source": [
    "* **一阶充分条件**\n",
    "\n",
    "设 $x^* \\in D$ , 如果\n",
    "\n",
    "$$\n",
    "g^{*T}d > 0,\\quad d \\in \\digamma\n",
    "$$\n",
    "\n",
    "则 $x^*$ 是问题\n",
    "\n",
    "$$\n",
    "min~f(x),\\\\\n",
    "s.t.~c_i(x) = 0,\\quad i\\in \\xi\\\\\n",
    "c_i(x) \\geq 0,\\quad i\\in \\Gamma\n",
    "$$\n",
    "\n",
    "的严格局部最优解."
   ]
  },
  {
   "cell_type": "markdown",
   "metadata": {},
   "source": [
    "## 6.4  约束性最优化问题的二阶最优性条件"
   ]
  },
  {
   "cell_type": "markdown",
   "metadata": {},
   "source": [
    "* **二阶必要条件**\n",
    "\n",
    "若 $x^*$ 为问题 \n",
    "\n",
    "$$\n",
    "min~f(x),\\\\\n",
    "s.t.~c_i(x) = 0,\\quad i\\in \\xi\\\\\n",
    "c_i(x) \\geq 0,\\quad i\\in \\Gamma\n",
    "$$\n",
    "\n",
    "的局部最优解，且在 $x^*$ 处正则性假设成立，则存在 Lagrange 乘子 $\\lambda^*$ ,使得 KKT 条件满足，若对该乘子 $\\lambda^*$ ,$\\digamma_1^* = F_1^*$ ,则有\n",
    "\n",
    "$$\n",
    "d^TW^*d \\geq 0,\\quad d \\in \\digamma_1^*\n",
    "$$\n",
    "\n",
    "其中\n",
    "\n",
    "$$\n",
    "W^* = \\nabla_{x}^{2}L(x^*,\\lambda^*) = \\nabla^2f(x^*) - \\sum_{i=1}^{m}\\lambda_i^*\\nabla_i^2c_i(x^*)\n",
    "$$"
   ]
  },
  {
   "cell_type": "markdown",
   "metadata": {},
   "source": [
    "* **二阶充分条件**\n",
    "\n",
    "设 $x^*,\\lambda^*$ 是问题\n",
    "\n",
    "$$\n",
    "min~f(x),\\\\\n",
    "s.t.~c_i(x) = 0,\\quad i\\in \\xi\\\\\n",
    "c_i(x) \\geq 0,\\quad i\\in \\Gamma\n",
    "$$\n",
    "\n",
    "的 KKT 对, 如果\n",
    "\n",
    "$$\n",
    "d^TW^*d > 0,\\quad d \\in \\digamma_1^*\n",
    "$$\n",
    "\n",
    "则 $x^*$ 是问题\n",
    "\n",
    "$$\n",
    "min~f(x),\\\\\n",
    "s.t.~c_i(x) = 0,\\quad i\\in \\xi\\\\\n",
    "c_i(x) \\geq 0,\\quad i\\in \\Gamma\n",
    "$$\n",
    "\n",
    "的严格局部最优解."
   ]
  },
  {
   "cell_type": "markdown",
   "metadata": {
    "collapsed": true
   },
   "source": [
    "## 第七章 罚函数方法"
   ]
  },
  {
   "cell_type": "markdown",
   "metadata": {},
   "source": [
    "**思想：**根据约束条件的特点将其转化为某种惩罚函数加到目标函数中去，从而将其转化为一系列无约束最优化问题来求解."
   ]
  },
  {
   "cell_type": "markdown",
   "metadata": {},
   "source": [
    "### 7.1　外点罚函数方法"
   ]
  },
  {
   "cell_type": "markdown",
   "metadata": {},
   "source": [
    "罚函数方法是将约束最优化问题\n",
    "\n",
    "$$\n",
    "min~f(x)\\\\\n",
    "s.t.~c_i(x) = 0 ,i \\in \\xi\n",
    "$$\n",
    "\n",
    "转换为无约束最优化问题去求解，其中无约束最优化问题的目标函数包括问题\n",
    "\n",
    "$$\n",
    "min~f(x)\\\\\n",
    "s.t.~c_i(x) = 0 ,i \\in \\xi\n",
    "$$\n",
    "\n",
    "的目标函数与约束函数，且含约束函数部分有以下特点:在某点，若约束均满足，则该项为零;若有的约束不满足，则该项为正，即对其进行惩罚.\n",
    "\n"
   ]
  },
  {
   "cell_type": "markdown",
   "metadata": {},
   "source": [
    "对等式约束最优化问题，定义罚函数为\n",
    "\n",
    "$$\n",
    "P_E(x,\\sigma) = f(x) + \\frac{1}{2}\\sum_{i\\in \\xi}c_i^{2}(x)\n",
    "$$\n",
    "\n",
    "其中等式右端项的第二项称为惩罚项， $\\sigma > 0$ 称为罚因子，$P_E$ 的 $P$ 表示惩罚，下表 $E$ 表示等式.因为该函数的惩罚项是针对非可性点的，所以该函数称为外点罚函数."
   ]
  },
  {
   "cell_type": "markdown",
   "metadata": {},
   "source": [
    "**特点:**\n",
    "* 对非可行点而言，当 $\\sigma$ 变大时，惩罚项在罚函数中的比重加大，我们对罚函数求极小，相当于迫使其极小点向可行域靠近;\n",
    "\n",
    "\n",
    "* 在可行域中，罚函数的极小点与约束最优化问题的最优解想同."
   ]
  },
  {
   "cell_type": "markdown",
   "metadata": {},
   "source": [
    "**算法（外点罚函数方法）**\n",
    "\n",
    "* 给定 $\\sigma_1 > 0,\\varepsilon > 0,x_0,k:=1$\n",
    "\n",
    "\n",
    "* 以 $x_{k-1}$ 为初始点，求 $x(\\sigma_k) = arg~min~P_E(x,\\sigma_k)$;求解该无约束最优化问题的算法当 $||\\nabla P_{E}(x(\\sigma_k),\\sigma_k)||$ 时停止.\n",
    "\n",
    "\n",
    "* 当$||x(\\sigma_k)|| \\leq \\varepsilon$ 时迭代停止\n",
    "\n",
    "\n",
    "* $x_k:=x(\\sigma_k)$ ,选 $\\sigma_{k+1}>\\sigma_k,k:=k+1$,转步2\n"
   ]
  },
  {
   "cell_type": "markdown",
   "metadata": {
    "collapsed": true
   },
   "source": [
    "### 7.2　障碍罚函数方法"
   ]
  },
  {
   "cell_type": "markdown",
   "metadata": {},
   "source": [
    "障碍罚函数方法与外点罚函数方法都是把约束最优化问题化为无约束最优化问题来求解的方法.\n",
    "它们的**不同之处**在于：外点罚函数方法中无约束最优化问题的最优解序列由可行域外部逼近约束最优化问题的最优解，而障碍罚函数方法中无约束最优化问题的最优解序列由可行域内部逼近约束最优化问题的最优解."
   ]
  },
  {
   "cell_type": "markdown",
   "metadata": {},
   "source": [
    "* **倒数障碍函数:**\n",
    "\n",
    "$$\n",
    "B_I(x,\\mu) = f(x) + \\mu\\sum_{i\\in \\Gamma}c_i(x)^{-1}\n",
    "$$\n",
    "\n",
    "这里 $\\mu > 0$ 称为障碍因子，$B_I$ 的 $B$ 代表障碍，其下标 $I$ 代表倒数."
   ]
  },
  {
   "cell_type": "markdown",
   "metadata": {},
   "source": [
    "* **对数障碍函数**\n",
    "\n",
    "$$\n",
    "B_L(x,\\mu) = f(x) - \\mu\\sum_{i\\in \\Gamma}\\ln{c_i(x)}\n",
    "$$\n",
    "\n",
    "这里 $\\mu > 0$ 称为障碍因子，$B_L$ 的 $L$ 代表自然对数.\n",
    "\n",
    "倒数障碍函数和对数障碍函数统称为障碍函数.也称为**内点罚函数**."
   ]
  },
  {
   "cell_type": "markdown",
   "metadata": {},
   "source": [
    "**算法（障碍函数方法）**\n",
    "\n",
    "* 步 1  给定初始内点 $x_0,\\mu_1,\\varepsilon > 0,k:= 1$\n",
    "\n",
    "\n",
    "* 以 $x_{k-1}$ 为初始点，求 $x(\\mu_k) = arg~min~B(x,\\mu_k)$ ,其迭代当 $||\\nabla_xB(x,\\mu_k)|| \\leq \\varepsilon_1$　时停止\n",
    "\n",
    "\n",
    "*　当 $\\mu_k\\sum_{i\\in \\Gamma}c_i(x(\\mu_k))^{-1}\\leq \\varepsilon$ 时，迭代停止；否则 $x_k = x(\\mu_k)$ ,选 $\\mu_{k+1} < \\mu_k, k:= k+1$,转步2."
   ]
  },
  {
   "cell_type": "code",
   "execution_count": null,
   "metadata": {
    "collapsed": true
   },
   "outputs": [],
   "source": []
  }
 ],
 "metadata": {
  "kernelspec": {
   "display_name": "SageMath 7.3",
   "language": "",
   "name": "sagemath"
  },
  "language_info": {
   "codemirror_mode": {
    "name": "ipython",
    "version": 2
   },
   "file_extension": ".py",
   "mimetype": "text/x-python",
   "name": "python",
   "nbconvert_exporter": "python",
   "pygments_lexer": "ipython2",
   "version": "2.7.10"
  }
 },
 "nbformat": 4,
 "nbformat_minor": 0
}
