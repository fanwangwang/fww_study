{
 "cells": [
  {
   "cell_type": "markdown",
   "metadata": {},
   "source": [
    "## 问题"
   ]
  },
  {
   "cell_type": "markdown",
   "metadata": {},
   "source": [
    "用几种梯度型优化算法来求解最优化问题\n",
    "\n",
    "$$\n",
    "\\min f(x) = 2x_1^2+x_2^2\n",
    "$$"
   ]
  },
  {
   "cell_type": "markdown",
   "metadata": {},
   "source": [
    "初始点　$x^{(0)}=(1,1)^T,\\epsilon =0.1$"
   ]
  },
  {
   "cell_type": "markdown",
   "metadata": {},
   "source": [
    "## 最速下降法"
   ]
  },
  {
   "cell_type": "markdown",
   "metadata": {},
   "source": [
    "最速下降法（steepest descent）是求解无约束最优化问题最常用的方法，它是一种迭代方法，每一步主要的操作是求解目标函数的梯度向量，将当前位置的负梯度方向作为搜索方向（因为在该方向上目标函数下降最快，这也是最速下降法名称的由来).\n",
    "\n",
    "梯度下降法特点：越接近目标值，步长越小，下降速度越慢."
   ]
  },
  {
   "cell_type": "markdown",
   "metadata": {},
   "source": [
    "**如何选择最速下降方向**"
   ]
  },
  {
   "cell_type": "markdown",
   "metadata": {},
   "source": [
    "1. 求 $f(x)$ 在 $x$ 处的下降最快的方向，即解下列非线性规划\n",
    "\n",
    "$$\n",
    "\\min \\qquad \\nabla{f(x)^T}d\\\\\n",
    "s.t\\qquad ||d||\\leq 1\n",
    "$$"
   ]
  },
  {
   "cell_type": "markdown",
   "metadata": {},
   "source": [
    "由于\n",
    "$$\n",
    "||\\nabla{f(x)^T}d||\\leq||\\nabla{f(x)^T}||||d||\\leq||\\nabla{f(x)^T}||\\\\\n",
    "\\nabla{f(x)^T} \\geq - ||\\nabla{f(x)^T}||\n",
    "$$"
   ]
  },
  {
   "cell_type": "markdown",
   "metadata": {},
   "source": [
    "当等号成立时\n",
    "\n",
    "$$\n",
    "d = \\frac{-\\nabla{f(x)}}{||\\nabla{f(x)}||}\n",
    "$$"
   ]
  },
  {
   "cell_type": "markdown",
   "metadata": {},
   "source": [
    "2.对于 $A$ 度量下的最速下降方向\n",
    "\n",
    "\n",
    "考虑问题\n",
    "\n",
    "$$\n",
    "\\min \\qquad \\nabla{f(x)^T}d\\\\\n",
    "s.t\\qquad d^TAd\\leq 1\n",
    "$$\n",
    "\n",
    "时的最速下降方向"
   ]
  },
  {
   "cell_type": "markdown",
   "metadata": {},
   "source": [
    "$$\n",
    "d^TAd = d^TA^{\\frac{1}{2}}A^{\\frac{1}{2}}d = (A^{\\frac{1}{2}}d)^T(A^{\\frac{1}{2}}d)\n",
    "$$"
   ]
  },
  {
   "cell_type": "markdown",
   "metadata": {},
   "source": [
    "则\n",
    "$$\n",
    "\\nabla{f(x)^T}d=\\nabla{f(x)^T}A^{-\\frac{1}{2}}A^{\\frac{1}{2}}d=(A^{-\\frac{1}{2}}\\nabla{f(x)})^T(A^{\\frac{1}{2}}d)\n",
    "$$"
   ]
  },
  {
   "cell_type": "markdown",
   "metadata": {},
   "source": [
    "令 $y = A^{\\frac{1}{2}}d$，则\n",
    "\n",
    "$$\n",
    "||(A^{-\\frac{1}{2}}\\nabla{f(x)})^Ty||\\leq ||(A^{-\\frac{1}{2}}\\nabla{f(x)})^T||||y||\\leq ||A^{-\\frac{1}{2}}\\nabla{f(x)}||\n",
    "$$"
   ]
  },
  {
   "cell_type": "markdown",
   "metadata": {},
   "source": [
    "所以\n",
    "\n",
    "$$\n",
    "(A^{-\\frac{1}{2}}\\nabla{f(x)})^T \\geq -||A^{-\\frac{1}{2}}\\nabla{f(x)}|| \n",
    "$$\n",
    "\n",
    "即\n",
    "$$\n",
    "\\nabla{f(x)^T}d\\geq -||A^{-\\frac{1}{2}}\\nabla{f(x)}||\n",
    "$$"
   ]
  },
  {
   "cell_type": "markdown",
   "metadata": {},
   "source": [
    "当等号成立时\n",
    "\n",
    "$$\n",
    "d = \\frac{-A^{-1}\\nabla{f(x)}}{\\nabla{f(x)}^TA^{-1}\\nabla{f(x)}^{\\frac{1}{2}}}\n",
    "$$\n",
    "\n",
    "为 $A$ 度量下的最速下降方向"
   ]
  },
  {
   "cell_type": "markdown",
   "metadata": {},
   "source": [
    "**算法**"
   ]
  },
  {
   "cell_type": "markdown",
   "metadata": {},
   "source": [
    "1. 给定初点 $x^{(1)}\\in R^n$,允许误差 $\\epsilon>0$,置 $k=0$\n",
    "2. 计算搜索方向 $d^{(k)}=-\\nabla f(x^{(k)})$\n",
    "3. 若 $||d^{(k)}||\\leq\\epsilon$,则停止计算；否则，从 $x^{(k)}$ 出发，沿着 $d^{(k)}$ 进行一维搜索，求 $\\lambda_k$,使得 \n",
    "$$\n",
    "f(x^{(k)}+\\lambda_kd^{(k)}) = \\min f(x^{(k)}+\\lambda d^{(k)})\n",
    "$$\n",
    "4. 令 $x^{(k+1)}=x^{(k)}+\\lambda_kd^{(k)}$ ,置 $k:=k+1$ ,返回步骤2"
   ]
  },
  {
   "cell_type": "markdown",
   "metadata": {},
   "source": [
    "**迭代格式**\n",
    "$$\n",
    "x^{(k+1)}=x^{(k)}+\\lambda_kd^{(k)}\n",
    "$$\n",
    "最速下降方向$d^{(k)}=-\\nabla f(x^{(k)})$"
   ]
  },
  {
   "cell_type": "markdown",
   "metadata": {},
   "source": [
    "**解法**\n",
    "\n",
    "1. 先求 $f(x)$ 在 $x$ 的梯度,　$\\nabla f(x) = \\begin{pmatrix}4x_1\\\\ 2x_2\\end{pmatrix}$\n",
    "1. 求初搜索方向 $d^{(0)}=\\begin{pmatrix}-4\\\\ -2\\end{pmatrix}$\n",
    "1. 判断 $||d||$　与 $\\epsilon$ 的关系， $||d||=\\sqrt{16+4}=2\\sqrt 5>0.1$\n",
    "1. 从 $d^{(0)}$ 出发，沿着 $d^{(0)}$ 进行一维搜索，求初　$\\lambda_0$\n",
    "$$\n",
    "\\varphi(\\lambda) = \\min_{\\lambda \\geq 0}f(x^{(0)}+\\lambda d^{(0)})\\\\\n",
    "x^{(0)}+\\lambda d^{(0)}=\\begin{pmatrix}1\\\\ 1\\end{pmatrix}+\\lambda\\begin{pmatrix}-4\\\\ -2\\end{pmatrix}=\\begin{pmatrix}1-4\\lambda\\\\ 1-2\\lambda\\end{pmatrix}\\\\\n",
    "\\varphi(\\lambda)=2(1-4\\lambda)^2+(1-2\\lambda)^2\\\\\n",
    "\\varphi(\\lambda)'=-16(1-4\\lambda)-4(1-2\\lambda)\\\\\n",
    "$$\n",
    "解得 $\\lambda_0 = \\frac{5}{18}$\n",
    "1. 返回求 $x^{(k)}$"
   ]
  },
  {
   "cell_type": "code",
   "execution_count": null,
   "metadata": {
    "collapsed": true
   },
   "outputs": [],
   "source": []
  }
 ],
 "metadata": {
  "kernelspec": {
   "display_name": "SageMath 7.3",
   "language": "",
   "name": "sagemath"
  },
  "language_info": {
   "codemirror_mode": {
    "name": "ipython",
    "version": 2
   },
   "file_extension": ".py",
   "mimetype": "text/x-python",
   "name": "python",
   "nbconvert_exporter": "python",
   "pygments_lexer": "ipython2",
   "version": "2.7.10"
  }
 },
 "nbformat": 4,
 "nbformat_minor": 0
}
