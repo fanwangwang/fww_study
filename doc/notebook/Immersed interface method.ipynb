{
 "cells": [
  {
   "cell_type": "markdown",
   "metadata": {},
   "source": [
    "# Immersed interface methods for moving interface problems"
   ]
  },
  {
   "cell_type": "markdown",
   "metadata": {},
   "source": [
    "这篇文章主要由 Zhilin Li提出了一个对于一维非线性移动界面问题具有二阶精度的浸入界面方法，该移动界面具有两个典型的条件：\n",
    "1. 在界面的解是已知的\n",
    "1. 界面仅仅已知跳跃条件"
   ]
  },
  {
   "cell_type": "markdown",
   "metadata": {},
   "source": [
    "## 介绍"
   ]
  },
  {
   "cell_type": "markdown",
   "metadata": {},
   "source": [
    "一维移动界面问题\n",
    "$$\n",
    "u_t +\\lambda uu_x = (\\beta u_x)_x-f(x,t),\\qquad x\\in[0,\\alpha)\\cup(\\alpha,1]\\\\\n",
    "\\frac{\\mathrm{d}\\alpha}{\\mathrm{d}t} = \\omega(t,\\alpha;u^-,u^+,u_x^-,u_x^+),\\qquad t>0\n",
    "$$"
   ]
  },
  {
   "cell_type": "markdown",
   "metadata": {},
   "source": [
    "这里 $\\omega$ 是已知函数， $u^-,u^+,u_x^-,u_x^+$ 都是 $u(x,t)$ 和 $u_x(x,t)$的极限值，系数 $\\beta(x,t)>0$,$f(x,t)$是间断的，这是一个抛物问题，并且解是分片光滑的"
   ]
  },
  {
   "cell_type": "markdown",
   "metadata": {},
   "source": [
    "界面 $\\alpha(t)$ 分为两部分：$0\\leq x<\\alpha(t)$ 和 $\\alpha(t)<x\\leq1$,解在每一部分光滑，但是结合界面条件或者内部边界条件通常有一下形式：\n",
    "1. 界面解是给出的\n",
    "当$\\lambda = 0$ 是典型的 Stefan 问题\n",
    "1. 跳跃条件是给出的\n",
    "$$\n",
    "\n",
    "$$"
   ]
  }
 ],
 "metadata": {
  "kernelspec": {
   "display_name": "SageMath 7.3",
   "language": "",
   "name": "sagemath"
  },
  "language_info": {
   "codemirror_mode": {
    "name": "ipython",
    "version": 2
   },
   "file_extension": ".py",
   "mimetype": "text/x-python",
   "name": "python",
   "nbconvert_exporter": "python",
   "pygments_lexer": "ipython2",
   "version": "2.7.10"
  }
 },
 "nbformat": 4,
 "nbformat_minor": 0
}
