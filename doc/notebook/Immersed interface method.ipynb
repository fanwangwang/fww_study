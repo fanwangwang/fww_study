{
 "cells": [
  {
   "cell_type": "markdown",
   "metadata": {},
   "source": [
    "# Immersed interface methods for moving interface problems"
   ]
  },
  {
   "cell_type": "markdown",
   "metadata": {},
   "source": [
    "这篇文章主要由 Zhilin Li提出了一个对于一维非线性移动界面问题具有二阶精度的浸入界面方法，该移动界面具有两个典型的条件：\n",
    "1. 在界面的解是已知的\n",
    "1. 界面仅仅已知跳跃条件"
   ]
  },
  {
   "cell_type": "markdown",
   "metadata": {},
   "source": [
    "## 介绍"
   ]
  },
  {
   "cell_type": "markdown",
   "metadata": {},
   "source": [
    "一维移动界面问题\n",
    "$$\n",
    "u_t +\\lambda uu_x = (\\beta u_x)_x-f(x,t),\\qquad x\\in[0,\\alpha)\\cup(\\alpha,1]\\\\\n",
    "\\frac{\\mathrm{d}\\alpha}{\\mathrm{d}t} = \\omega(t,\\alpha;u^-,u^+,u_x^-,u_x^+),\\qquad t>0\n",
    "$$"
   ]
  },
  {
   "cell_type": "markdown",
   "metadata": {},
   "source": [
    "这里 $\\omega$ 是已知函数， $u^-,u^+,u_x^-,u_x^+$ 都是 $u(x,t)$ 和 $u_x(x,t)$的极限值，系数 $\\beta(x,t)>0$,$f(x,t)$是间断的，这是一个抛物问题，并且解是分片光滑的"
   ]
  },
  {
   "cell_type": "markdown",
   "metadata": {},
   "source": [
    "界面 $\\alpha(t)$ 分为两部分：$0\\leq x<\\alpha(t)$ 和 $\\alpha(t)<x\\leq1$,解在每一部分光滑，但是结合界面条件或者内部边界条件通常有一下形式：\n",
    "1. 界面解是给出的\n",
    "当$\\lambda \\equiv 0$ 是典型的 Stefan 问题\n",
    "1. 跳跃条件是给出的\n",
    "$$\n",
    "[u] = u(\\alpha^+,t)-u(\\alpha^-,t)=q(t)\\\\\n",
    "[\\beta u_x]=\\beta(\\alpha^+,t)u_x(\\alpha^+,t)-\\beta(\\alpha^-,t)u_x(\\alpha^-,t)=v(t)\n",
    "$$"
   ]
  },
  {
   "cell_type": "markdown",
   "metadata": {},
   "source": [
    "一维的线性方程\n",
    "$$\n",
    "u_t = (\\beta u_x)_x-C(t)\\delta(x-\\alpha(t))-\\widehat C(t)\\delta'(x-\\alpha(t))-f(x,t)\n",
    "$$"
   ]
  },
  {
   "cell_type": "markdown",
   "metadata": {},
   "source": [
    "设 $f(x,t)$ 是连续的，可以推出跳跃条件\n",
    "$$\n",
    "[u] = \\frac{2\\widehat C(t)}{\\beta^-+\\beta^+}\\\\\n",
    "[\\beta u_x] = C(t)\n",
    "$$\n",
    "这里 $\\beta^-$ 和 $\\beta^+$ 都是 $\\beta(x,t)$ 的极限"
   ]
  },
  {
   "cell_type": "markdown",
   "metadata": {},
   "source": [
    "跳跃条件的优点：\n",
    "不需要离散 $\\delta$ 函数\n",
    "\n",
    "离散 $\\delta$ 函数的缺点：\n",
    "仅仅是一阶精度，并且对二维或者高维的分析是困难的"
   ]
  },
  {
   "cell_type": "markdown",
   "metadata": {},
   "source": [
    "这样一个新的方法，浸入界面方法倾向于解系数不连续或者在所有网格点处带有二阶精度的PDE.\n",
    "主要思想是在解或者它的导数上合并已知的跳跃条件，得到一个改进格式,这个改进格式的解是二阶精度的. "
   ]
  },
  {
   "cell_type": "markdown",
   "metadata": {},
   "source": [
    "对于典型的 Stefan 问题\n",
    "$$\n",
    "\\frac{\\mathrm{d}\\alpha}{\\mathrm{d}t} = \\delta(t)[\\beta u_x]\\\\\n",
    "u(\\alpha,t) = u_0\n",
    "$$"
   ]
  },
  {
   "cell_type": "markdown",
   "metadata": {},
   "source": [
    "## 计算框架"
   ]
  },
  {
   "cell_type": "markdown",
   "metadata": {},
   "source": [
    "用一致网格\n",
    "$$\n",
    "x_i = ih,\\qquad i = 0,1,\\cdots,N,\\qquad x_0 = 0,\\qquad x_N = 1\n",
    "$$\n",
    "\n",
    "这里 $h$ 是空间步长，$k$ 表示时间步长，比率 $k/h$ 是一个常数"
   ]
  },
  {
   "cell_type": "markdown",
   "metadata": {},
   "source": [
    "用 Crank-Nicolson 格式，移动界面的半隐式差分格式可以写作:\n",
    "\n",
    "$$\n",
    "\\frac{u_i^{n+1}-u_i^n}{k}-Q_i^{n+1/2}+\\frac{\\lambda}{2}(u_i^nu_{x,i}^{n}+u_i^{n+1}u_{x,i}^{n+1}) = \\frac{1}{2}((\\beta u_x)_{x,i}^{n}+(\\beta u_x)_{x,i}^{n+1})-\\frac{1}{2}(f_i^{n}+f_i^{n+1})\n",
    "$$\n",
    "\n",
    "这里 $u_{x,i}^{n}$ 和 $(\\beta u_x)_{x,i}^{n}$ 都类似于 $u_x$ 和 $(\\beta u_x)_x$ 的离散， 当 $\\alpha$ 在时间层 $t^n$ 到 $t^{n+1}$ 通过网格线 $x=x_i$ 时, $Q_i^{n+1/2}$ 需要一个正确的格式"
   ]
  },
  {
   "cell_type": "markdown",
   "metadata": {},
   "source": [
    "**如何离散**\n",
    "\n",
    "$$\n",
    "u_{x,i} = \\frac{u_{i+1}-u_{i-1}}{2h}\\\\\n",
    "(\\beta u_x)_{x,i} = \\frac{\\beta_{i-1/2}u_{i-1}-(\\beta_{i-1/2}+\\beta_{i+1/2})u_i+\\beta_{i+1/2}u_{i+1}}{h^2}\n",
    "$$\n",
    "\n",
    "这里 $\\beta_{i+1/2} = \\beta(x_i+h/2,:)$"
   ]
  },
  {
   "cell_type": "markdown",
   "metadata": {},
   "source": [
    "**确定界面位置**\n",
    "界面位置可由梯形方法确定\n",
    "$$\n",
    "\\frac{\\alpha^{n+1}-\\alpha^n}{k} = \\frac{1}{2}(\\omega^n+\\omega^{n+1})\n",
    "$$\n",
    "\n",
    "这里 $\\omega^l=\\omega(t^l,\\alpha^l;u^{-,l},u^{+,l},u_x^{-,l},u_x^{+,l})$ 和\n",
    "$\\alpha^l,u^{\\pm,l},u_x^{\\pm,l}$ 是关于 $\\alpha(t^l),u(\\alpha^{\\pm},t^l),u_x(\\alpha^{\\pm},t^l)$ 的近似，这些数值仅仅是定义在界面上. 用下面的符号来表示跳跃条件\n",
    "\n",
    "$$\n",
    "[g] = g(\\alpha^{+},t)- g(\\alpha^{-},t)\\\\\n",
    "[g]_{;,t} = g(\\alpha,t^{+})- g(\\alpha,t^{-})\n",
    "$$\n",
    "\n",
    "容易看出 $[g]=\\pm[g]_{;,t}$ ,符号由界面的移动决定"
   ]
  },
  {
   "cell_type": "markdown",
   "metadata": {},
   "source": [
    "在一个时间层 $t^n$ 的算法：\n",
    "1. 界面从时间层 $t^n$ 到 $t^{n+1}$ 是否通过网格线 $x=x_j$ 决定 $Q_j^{n+1/2}$\n",
    "1. 在两个最近的网格节点处对 $u_x(\\beta u_x)_x$ 推导差分格式\n",
    "1. 计算定义在界面上的 $u^{\\pm},u_x^{\\pm},[u_t]$\n",
    "1. 解非线性系统和界面位置 $\\alpha^{n+1}$"
   ]
  },
  {
   "cell_type": "markdown",
   "metadata": {},
   "source": [
    "## 网格交点"
   ]
  },
  {
   "cell_type": "markdown",
   "metadata": {},
   "source": [
    "* 如果在网格节点 $x_i$ 从 $t^n$ 到 $t^{n+1}$ 没有通过网格线，也就是说 $(x_i,t^n)$ 和 $(x_i,t^{n+1})$ 在界面 $\\alpha(t)$ 的同一侧，即 $x_i\\notin (\\alpha^n,\\alpha^{n+1})$ ,则 $Q_i^{n+1/2}=0$且\n",
    "\n",
    "$$\n",
    "\\frac{u(x_i,t^{n+1})-u(x_i,t^n)}{k} = \\frac{1}{2}[u_t(x_i,t^{n+1})+u_t(x_i,t^n)]+O(k^2)\n",
    "$$"
   ]
  },
  {
   "cell_type": "markdown",
   "metadata": {},
   "source": [
    "* 如果在网格节点 $x_i$ 从 $t^n$ 到 $t^{n+1}$ 通过网格线,需要用以下定理选择一个正确的 $Q_j^{n+1/2}$"
   ]
  },
  {
   "cell_type": "markdown",
   "metadata": {},
   "source": [
    "**定理：**\n",
    "设方程 $\\alpha(t)=x_j$ 在 $t^n<t<t^{n+1}$ 有唯一的解 $\\tau$,如果选择\n",
    "$$\n",
    "Q_j^{n+1/2} = \\frac{[u]_{;\\tau}}{k}+\\frac{1}{k}(t^{n+1/2}-\\tau)[u_t]_{;\\tau}\n",
    "$$\n",
    "\n",
    "则\n",
    "$$\n",
    "\\frac{u(x_j,t^{n+1})-u(x_j,t^n)}{k}-Q_j^{n+1/2} = \\frac{1}{2}[u_t(x_j,t^{n+1})+u_t(x_j,t^n)]+O(k)\n",
    "$$"
   ]
  },
  {
   "cell_type": "markdown",
   "metadata": {},
   "source": [
    "然而为了计算 $Q_j^{n+1/2}$ 需要找到　$\\tau$ 的位置和跳跃条件 $[u_t]_{;\\tau}$,\n",
    "**那么如何找到　$\\tau$**"
   ]
  },
  {
   "cell_type": "markdown",
   "metadata": {},
   "source": [
    "用两次 Crank-Nicolson 格式可以得到\n",
    "$$\n",
    "\\frac{\\alpha^{\\tau}-\\alpha^{n}}{\\tau-t^n}=\\frac{1}{2}(\\omega^n+\\omega^{\\tau})\\\\\n",
    "\\frac{\\alpha^{n+1}-\\alpha^{\\tau}}{t^{n+1}-\\tau}=\\frac{1}{2}(\\omega^{\\tau}+\\omega^{n+1})\n",
    "$$\n",
    "\n",
    "消去 $\\omega^{\\tau}$ 得到\n",
    "$$\n",
    "\\frac{\\alpha_{ｊ}-\\alpha^{n}}{\\tau-t^n}-\\frac{\\alpha^{n+1}-\\alpha_{j}}{t^{n+1}-\\tau} = \\frac{1}{2}(\\omega^n-\\omega^{n+1})\n",
    "$$"
   ]
  },
  {
   "cell_type": "markdown",
   "metadata": {},
   "source": [
    "## 在界面附近对 $u_x$ 和 $(\\beta u_x)_x$ 的离散"
   ]
  },
  {
   "cell_type": "markdown",
   "metadata": {},
   "source": [
    "**case1:界面解已知**"
   ]
  },
  {
   "cell_type": "markdown",
   "metadata": {},
   "source": [
    "设在界面的解 \n",
    "$$u(\\alpha,t)=r(t)$$"
   ]
  },
  {
   "cell_type": "markdown",
   "metadata": {},
   "source": [
    "对 $u_{x,j}^n$ 离散：\n",
    "\n",
    "$x_j\\leq\\alpha^n<x_{j+1}$,　则\n",
    "$$\n",
    "u_{x,j}^n=u_x^n(j-1,j,\\alpha^n,x_j)\n",
    "$$\n",
    "这里\n",
    "$$\n",
    "u_x(j-1,j,\\alpha,x) = \\frac{x_j+\\alpha-2x}{(x_{j-1}-\\alpha)h}u_{j-1}+\n",
    "\\frac{x_{j-1}+\\alpha-2x}{(\\alpha-x_{j})h}u_{j}+\\frac{x_{j-1}+x_j-2x}{(x_{j}-\\alpha)(\\alpha-x_{j-1})h}r(t)\n",
    "$$\n",
    "\n",
    "这是对 $u_x(x_j,t)$ 的二阶近似,然而 $\\alpha(t)$ 随时间而变化，因此作 $x_j-\\alpha$"
   ]
  },
  {
   "cell_type": "markdown",
   "metadata": {},
   "source": [
    "如果 $|x_j-\\alpha|$　太小，那么在上述插值公式中系数就会很大，这样就会导致导数的格式不稳定. 因此当　$|x_j-\\alpha|$ 很小时，\n",
    "$$\n",
    "u_{x,j}^n=u_x^n(j-2,j-1,\\alpha^n,x_j)\n",
    "$$"
   ]
  },
  {
   "cell_type": "markdown",
   "metadata": {},
   "source": [
    "结合上边两个格式:\n",
    "$$\n",
    "u_{x,j}^n = \\frac{\\alpha^n-x_j}{h}u_x^n(j-1,j,\\alpha^n,x_j)+\\frac{x_{j+1}-\\alpha^n}{h}u_x^n(j-2,j-1,\\alpha^n,x_j)\\qquad\\qquad\\qquad(19)\n",
    "$$"
   ]
  },
  {
   "cell_type": "markdown",
   "metadata": {},
   "source": [
    "这种方法有几个优点：\n",
    "1. 插值仍然保持二阶\n",
    "1. 如果把上述格式(19)写为\n",
    "$$\n",
    "u_{x,j}^n=\\sum_{j=j-2}^j\\gamma_j^nu_j^n+\\gamma_{\\alpha}^nr(t^n)\n",
    "$$\n",
    "则系数的阶数总是 $O(1/h)$\n",
    "1. 截断误差随着时间的增加是平稳变化的"
   ]
  },
  {
   "cell_type": "markdown",
   "metadata": {},
   "source": [
    "这对二维或者高维移动界面问题是非常重要的."
   ]
  },
  {
   "cell_type": "markdown",
   "metadata": {},
   "source": [
    "用同样的方法，用下边的插值离散 $u_{x,j+1}^n$\n",
    "\n",
    "$$\n",
    "u_{x,j+1}^n = \\frac{\\alpha^n-x_j}{h}u_x^n(j+2,j+3,\\alpha^n,x_{j+1})+\n",
    "\\frac{x_{j+1}-\\alpha^n}{h}u_x^n(j+1,j+2,\\alpha^n,x_{j+1})\n",
    "$$"
   ]
  },
  {
   "cell_type": "markdown",
   "metadata": {},
   "source": [
    "类似的，离散 $u_{xx}$\n",
    "$$\n",
    "u_{xx}(j-1,j,\\alpha,x) = \\frac{2}{(\\alpha-x_{j-1})h}u_{j-1}+\\frac{2}{(\\alpha-x_{j})h}u_j+\\frac{2}{(x_{j-1}-\\alpha)(x_{j}-\\alpha)}r(t)\n",
    "$$"
   ]
  },
  {
   "cell_type": "markdown",
   "metadata": {},
   "source": [
    "计算 $u_{xx,j}^n$ 和 $u_{xx,j+1}^n$\n",
    "\n",
    "$$\n",
    "u_{xx,j}^n = \\frac{\\alpha^n-x_j}{h}u_{xx}^n(j-1,j,\\alpha^n,x_{j})+\n",
    "\\frac{x_{j+1}-\\alpha^n}{h}u_{xx}^n(j-2,j-1,\\alpha^n,x_{j})\n",
    "$$\n",
    "\n",
    "$$\n",
    "u_{xx,j+1}^n = \\frac{\\alpha^n-x_j}{h}u_{xx}^n(j+2,j+3,\\alpha^n,x_{j+1})+\n",
    "\\frac{x_{j+1}-\\alpha^n}{h}u_{xx}^n(j+1,j+2,\\alpha^n,x_{j+1})\n",
    "$$\n"
   ]
  },
  {
   "cell_type": "markdown",
   "metadata": {},
   "source": [
    "在时间层 $l=n+1$ ，当 $x_j$ 很接近于 $\\alpha^{n+1}$ 时，仍然可以用同样的方法，但是结果的线性系统不再是三对角的形式，这是由于增加的 $j-2$ 个网格节点包含了节点 $x_j$,这种情况可以简单的设\n",
    "$$\n",
    "u_j^{n+1} = r(t^{n+1})\\qquad\n",
    "if \\qquad |x_j - \\alpha^{n+1}|\\leq h^2\n",
    "$$"
   ]
  },
  {
   "cell_type": "markdown",
   "metadata": {},
   "source": [
    "**case2:跳跃条件已知**"
   ]
  },
  {
   "cell_type": "markdown",
   "metadata": {},
   "source": [
    "空间离散的浸入界面方法包含以下几步：\n",
    "1. 用跳跃条件和差分方程得到在界面每一遍数值之间的界面关系\n",
    "1. 用界面关系推导出一个改进的差分格式\n",
    "1. 基于差分格式和界面关系推导处一个正确的格式"
   ]
  },
  {
   "cell_type": "markdown",
   "metadata": {},
   "source": [
    "### stefan 问题"
   ]
  },
  {
   "cell_type": "markdown",
   "metadata": {},
   "source": [
    "模型方程\n",
    "$$\n",
    "u_t = (\\beta u_x)_x\\\\\n",
    "\\frac{\\mathrm{d}\\alpha}{\\mathrm{d}t}=\\sigma(t)[\\beta u_x]\\\\\n",
    "u(\\alpha,t)=u_0\n",
    "$$"
   ]
  },
  {
   "cell_type": "markdown",
   "metadata": {},
   "source": [
    "因此在界面的解也是跳跃条件 \n",
    "$$\n",
    "[u] = 0\\\\\n",
    "[\\beta u_ｘ]=\\alpha/\\sigma\n",
    "$$\n",
    "的解"
   ]
  },
  {
   "cell_type": "markdown",
   "metadata": {},
   "source": [
    "由于 $\\omega = \\sigma[\\beta u_x]$ 未知，所以需要更多的方程离散，在界面上解的限制方程\n",
    "$$\n",
    "\\int_０^１u(x,t)\\delta(x-\\alpha)\\mathrm{d}x=u_0\n",
    "$$"
   ]
  },
  {
   "cell_type": "markdown",
   "metadata": {},
   "source": [
    "很容易推导出一个二阶精度的离散格式\n",
    "$$\n",
    "s_{11}u_{j-1}+s_{12}u_j+s_{13}u_{j+1}-C_{j,1}=u_0\n",
    "$$"
   ]
  },
  {
   "cell_type": "markdown",
   "metadata": {},
   "source": [
    "## 计算定义在界面上的数值"
   ]
  },
  {
   "cell_type": "markdown",
   "metadata": {},
   "source": [
    "## 解非线性系统方程"
   ]
  },
  {
   "cell_type": "code",
   "execution_count": null,
   "metadata": {
    "collapsed": true
   },
   "outputs": [],
   "source": []
  }
 ],
 "metadata": {
  "kernelspec": {
   "display_name": "SageMath 7.3",
   "language": "",
   "name": "sagemath"
  },
  "language_info": {
   "codemirror_mode": {
    "name": "ipython",
    "version": 2
   },
   "file_extension": ".py",
   "mimetype": "text/x-python",
   "name": "python",
   "nbconvert_exporter": "python",
   "pygments_lexer": "ipython2",
   "version": "2.7.10"
  }
 },
 "nbformat": 4,
 "nbformat_minor": 0
}
