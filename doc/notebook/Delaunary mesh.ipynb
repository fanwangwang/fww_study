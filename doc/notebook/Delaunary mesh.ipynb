{
 "cells": [
  {
   "cell_type": "markdown",
   "metadata": {},
   "source": [
    "# 第二章 二维Delaunary三角网格"
   ]
  },
  {
   "cell_type": "markdown",
   "metadata": {},
   "source": [
    "三角通常指的是一个复杂的单纯形，但是当我们讨论一些几何实体的三角时他有多种意义。有一些点的集合的三角形，多边形，多面体，和许多其他结构。"
   ]
  },
  {
   "cell_type": "markdown",
   "metadata": {},
   "source": [
    "**定义2.1** （一个点集的三角）"
   ]
  },
  {
   "cell_type": "markdown",
   "metadata": {},
   "source": [
    "设 $S$ 是平面上的一个有限点集，$S$ 的一个三角形是一个复杂的单纯形 $\\Gamma$ ,使得$S$ 在 $\\Gamma$ 上是顶点的集合。在 $\\Gamma$ 所有的单纯形都是 $S$ 凸包，即 $|\\Gamma| = conv S$"
   ]
  },
  {
   "cell_type": "markdown",
   "metadata": {},
   "source": [
    "在平面上一个n个点的三角形至少有2n-5个角，3n-6个边。"
   ]
  }
 ],
 "metadata": {
  "kernelspec": {
   "display_name": "SageMath 7.3",
   "language": "",
   "name": "sagemath"
  },
  "language_info": {
   "codemirror_mode": {
    "name": "ipython",
    "version": 2
   },
   "file_extension": ".py",
   "mimetype": "text/x-python",
   "name": "python",
   "nbconvert_exporter": "python",
   "pygments_lexer": "ipython2",
   "version": "2.7.10"
  }
 },
 "nbformat": 4,
 "nbformat_minor": 0
}
