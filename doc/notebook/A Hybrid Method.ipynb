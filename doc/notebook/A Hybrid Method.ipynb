{
 "cells": [
  {
   "cell_type": "markdown",
   "metadata": {},
   "source": [
    "移动面问题的困难之处主要在于以下两个方面：\n",
    "1. 对于移动界面的追踪\n",
    "1. 对于偏微分方程的求解"
   ]
  },
  {
   "cell_type": "markdown",
   "metadata": {},
   "source": [
    "文章提出了一个浸入界面方法和水平集方法相结合的一种混合方法。浸入界面方法是用于解那些由于界面系数间断而使得解和导数可能间断的微分方程；水平集方法是用来更新移动界面；这种方法结合了两种方法的优势，并且对于界面问题给出了一个二阶欧拉离散。"
   ]
  },
  {
   "cell_type": "markdown",
   "metadata": {},
   "source": [
    "# 背景介绍"
   ]
  },
  {
   "cell_type": "markdown",
   "metadata": {},
   "source": [
    "许多物理问题都包含了移动界面的传播。这些界面问题都是非常单一的，并且对于一些小的扰动是非常敏感的。因此，对于这些移动界面问题获得精确和稳定的数值解非常具有挑战性。"
   ]
  },
  {
   "cell_type": "markdown",
   "metadata": {},
   "source": [
    "对于界面问题有两种基本的数值方法。一种是向前追踪；另外一种是向前捕捉。\n",
    "\n",
    "**向前追踪方法**，向前移动不需要分割可以得到准确的近似解，边界积分方法是这种类型的一个例子。向前追踪方法的缺点是要求显示的向前追踪，也就是说在三维中追踪带有复杂的几何和拓扑改变的界面是很困难的。"
   ]
  },
  {
   "cell_type": "markdown",
   "metadata": {},
   "source": [
    "**向前捕捉方法**，避免显示的向前追踪，在欧拉网格上隐式的捕捉向前移动界面，在二维或三维中复杂的几何和拓扑改变的界面也可以被捕捉。缺点是在向前移动失去了高阶精度。"
   ]
  },
  {
   "cell_type": "markdown",
   "metadata": {},
   "source": [
    "**浸入界面方法**用半欧拉方法来获得游离界面的一个一致的高阶精度，通过移动界面合并跳跃条件来离散。缺点是要求移动界面的显示信息，这使得带有复杂的几何和拓扑应用一般游离边界问题是很困难的。"
   ]
  },
  {
   "cell_type": "markdown",
   "metadata": {},
   "source": [
    "这篇文章试图结合浸入界面方法和水平集方法的优点。对于移动界面给出一个带有一致性的高阶精度的向前捕捉方法。\n",
    "\n",
    "主要思想：对于流体界面问题，通过移动界面表面张力介绍一个跳跃条件，如果在移动界面的有限差分离散合并这些跳跃条件，我们可以得到移动界面的一致的高阶精度。这篇文章中我们用一个欧拉水平集函数捕捉界面。"
   ]
  },
  {
   "cell_type": "markdown",
   "metadata": {},
   "source": [
    "从水平集函数中获得的移动界面的位置和位置的法向量，当合并这些信息到离散的浸入界面，我们可以得到一致的高阶精度，这便得到了这种混合方法的优点，避免了其缺点。"
   ]
  },
  {
   "cell_type": "markdown",
   "metadata": {},
   "source": [
    "混合方法的两个优点：\n",
    "1. 给出一个具有一致二阶精度移动界面的欧拉离散\n",
    "1. 这种方法速度比较快\n",
    "   1. 水平集函数的快速版本，仅仅一个包含移动界面的小区域需要及时更新，数值操作减少\n",
    "   1. 用快速浸入界面方法来离散方程"
   ]
  },
  {
   "cell_type": "markdown",
   "metadata": {},
   "source": [
    "# 浸入界面方法"
   ]
  },
  {
   "cell_type": "markdown",
   "metadata": {},
   "source": [
    "**思想：** 浸入界面方法为带有间断系数的移动界面的微分方程提供了一个有效的离散。由于系数间断或者单一，那么解或者导数也可能通过界面间断。主要思想是在解和导数上合并这些已知的跳跃条件，在笛卡尔网格上给出一个改进的格式，数值测试也表明可以从这个方法上获得光滑界面的所有点的二阶精度，这种方法也应用于三维的椭圆方程。\n",
    "\n"
   ]
  },
  {
   "cell_type": "markdown",
   "metadata": {},
   "source": [
    "## 模型"
   ]
  },
  {
   "cell_type": "markdown",
   "metadata": {},
   "source": [
    "Poisson equation\n",
    "\n",
    "$$\n",
    "\\vartriangle u = \\int_{\\Gamma}C(s)\\delta(x-X(s))\\delta(y-Y(s))\\mathrm{d}s,\\qquad (x,y)\\in \\Omega\n",
    "$$"
   ]
  },
  {
   "cell_type": "markdown",
   "metadata": {},
   "source": [
    "这里 $(X(s),Y(s))$ 是界面 $\\Gamma$ 的弧长参数，带有在边界 $\\partial{\\Omega}$ 上的边界条件。"
   ]
  },
  {
   "cell_type": "markdown",
   "metadata": {},
   "source": [
    "用浸入界面方法，问题可以被写为：\n",
    "$$\n",
    "\\vartriangle u = 0,\\qquad (x,y)\\in \\Omega-\\Gamma\\\\\n",
    "[u] = 0,\\qquad [u_n] = C(s)\n",
    "$$"
   ]
  },
  {
   "cell_type": "markdown",
   "metadata": {},
   "source": [
    "这里 $[u]$ 和 $[u_n]$ 分别是通过界面 $\\Gamma$ 的解和法向量导数的跳跃条件.\n",
    "\n",
    "方程的离散格式是简单的五点格式:\n",
    "$$\n",
    "\\frac{U_{i+1,j}+U_{i-1,j}+U_{i,j+1}+U_{i,j-1}-4U_{i,j}}{h^2} = f_{ij}+C_{ij}\n",
    "$$"
   ]
  },
  {
   "cell_type": "markdown",
   "metadata": {},
   "source": [
    "elliptic equation:\n",
    "$$\n",
    "\\nabla{(\\beta(x,y)\\nabla u)} = f(x,y)\n",
    "$$"
   ]
  },
  {
   "cell_type": "markdown",
   "metadata": {},
   "source": [
    "这里 $\\beta$ 是通过界面的间断系数. 这个方程仅仅是在区域内部有效, 在界面无效. 为了解这个方程, 即使 $\\beta$ 是分片常数, 我们不能用带有最初浸入界面的快速Poisson求解程序."
   ]
  },
  {
   "cell_type": "markdown",
   "metadata": {},
   "source": [
    "### 2.1 带有分片常数的椭圆方程的快速浸入界面方法"
   ]
  },
  {
   "cell_type": "markdown",
   "metadata": {},
   "source": [
    "快速浸入界面方法的思想: 在应用浸入界面方法之前的微分方程的前提条件, 介绍了一个中间的未知函数, 用规则网格点的二阶差分格式离散等式和Neumann边界条件. 结果满足最大值准则，解是基于守恒分析的二阶精度."
   ]
  },
  {
   "cell_type": "markdown",
   "metadata": {},
   "source": [
    "**椭圆界面问题**"
   ]
  },
  {
   "cell_type": "markdown",
   "metadata": {},
   "source": [
    "PROBLEM I\n",
    "\n",
    "$$\n",
    "\\nabla{(\\beta(x,y)\\nabla u)} = f(x,y) \\\\\n",
    "give~BC ~on~ \\partial{\\Omega} \n",
    "$$"
   ]
  },
  {
   "cell_type": "markdown",
   "metadata": {},
   "source": [
    "在界面 $\\Gamma(s)$ 的特殊跳跃条件\n",
    "$$\n",
    "[u] = w(s)\\\\\n",
    "[\\beta u_n] = v(s)\n",
    "$$\n",
    "\n",
    "$s$ 是界面的弧长"
   ]
  },
  {
   "cell_type": "markdown",
   "metadata": {},
   "source": [
    "用最初的浸入界面方法, 我们可以得到在远离界面的局部截断误差为 $O(h^2)$, 界面附近的截断误差为 $O(h)$ 的六点差分格式. 然而如果 $\\beta$ 是很大的, 差分格式可能会失去最大值原则的符号特性. 另一方面, 如果我们可以在法向量导数 $[u_n]$ 用跳跃条件, 这样修改以后的差分格式将满足最大值原则."
   ]
  },
  {
   "cell_type": "markdown",
   "metadata": {},
   "source": [
    "PROBLEM II\n",
    "$$\n",
    "\\vartriangle u + \\frac{\\nabla{\\beta^+}}{\\beta^+}\\cdot\\nabla u = \\frac{f}{\\beta^+},\\qquad if x \\in \\Omega^+\\\\\n",
    "\\vartriangle u + \\frac{\\nabla{\\beta^-}}{\\beta^-}\\cdot\\nabla u = \\frac{f}{\\beta^-},\\qquad if x \\in \\Omega^-\\\\\n",
    "give ~ BC ~ on ~ \\partial{\\Omega}\n",
    "$$"
   ]
  },
  {
   "cell_type": "markdown",
   "metadata": {},
   "source": [
    "跳跃条件\n",
    "$$\n",
    "[u] = w(s)\\\\\n",
    "[\\beta u_n] = g(s)\n",
    "$$\n",
    "\n"
   ]
  },
  {
   "cell_type": "markdown",
   "metadata": {},
   "source": [
    "设 $u^*(x,y)$ 是问题I的解，且定义为:\n",
    "$$\n",
    "g^*(s) = [u_{n}^{*}](s)\n",
    "$$\n",
    "\n",
    "则 $u^*(x,y)$ 满则椭圆方程和跳跃条件，且 $g(s)\\equiv g^*(s)$.\n",
    "\n",
    "换句话说就是满足\n",
    "$$\n",
    "u_{g^*}(x,y)=u^*(x,y)\\\\\n",
    "[\\beta\\frac{\\partial{u_{g^*}}}{\\partial n}] = v(s)\n",
    "$$"
   ]
  },
  {
   "cell_type": "markdown",
   "metadata": {},
   "source": [
    "因此解问题I也就等价于找到在问题二中对应的 $u_{g^*}(x,y)$ 和 $g^*(s)$, $g^*(s)$仅仅定义在界面"
   ]
  },
  {
   "cell_type": "markdown",
   "metadata": {},
   "source": [
    "$\\beta$ 是分片常数，现在有 $\\nabla{\\beta^-}=0$ 和 $\\nabla{\\beta^+} = 0$，用浸入界面方法离散问题II是很容易的.我们有标准的离散拉普拉斯算子修正项.这样我们的方法的离散格式可以写为以下线性系统\n",
    "$$\n",
    "\\begin{bmatrix}\n",
    "A &  B\\\\\n",
    "E & D\n",
    "\\end{bmatrix}\n",
    "\\begin{bmatrix}\n",
    "U\\\\\n",
    "G\n",
    "\\end{bmatrix}\n",
    "=\n",
    "\\begin{bmatrix}\n",
    "F\\\\\n",
    "V\n",
    "\\end{bmatrix}\n",
    "$$"
   ]
  },
  {
   "cell_type": "markdown",
   "metadata": {},
   "source": [
    "# 水平集方法"
   ]
  },
  {
   "cell_type": "markdown",
   "metadata": {},
   "source": [
    "设 $\\Gamma(t)$ 是一个移动界面，$\\Omega^-(t)$ 和 $\\Omega^+(t)$ 分别是关于界面内部和外部的区域，移动界面$\\Gamma(t)$可以被描述为零水平集函数 $\\phi(x,y,t)$,且Lipschitz 连续，满足\n",
    "$$\n",
    "\\phi(x,y,t)>0,\\qquad (x,y)\\in\\Omega^-\\\\\n",
    "\\phi(x,y,t)=0,\\qquad (x,y)\\in\\Gamma\\\\\n",
    "\\phi(x,y,t)<0,\\qquad (x,y)\\in\\Omega^+\n",
    "$$"
   ]
  },
  {
   "cell_type": "markdown",
   "metadata": {},
   "source": [
    "因此水平集函数 $\\phi(x,y,t)=c$ 是关于时间 $t$ ，我们可以得到水平集运动方程\n",
    "$$\n",
    "\\phi_t+\\mathbf{u}\\cdot \\nabla{\\phi} =0\n",
    "$$\n",
    "\n",
    "$\\phi(x,y,0)$ 是一个符号距离函数"
   ]
  },
  {
   "cell_type": "markdown",
   "metadata": {
    "collapsed": true
   },
   "source": [
    "## 3.1 重构界面"
   ]
  },
  {
   "cell_type": "markdown",
   "metadata": {},
   "source": [
    "我们仅仅有在网格点 $\\phi(x_i,y_j)$ 处的信息，为了用快速浸入界面方法，我们需要在界面上找到大量的控制点以至于可以对中间未知量 $[u_n]$ 建立一个方程，选择这些控制点有两个标准:"
   ]
  },
  {
   "cell_type": "markdown",
   "metadata": {},
   "source": [
    "1. 局部的处理，水平集方法的一个优点是界面的几何特征通过水平集函数决定的. 我们需要保持这些控制点决定的局部属性.\n",
    "1. 不能为了不必要的大的或者病态的系统而聚合这些控制点."
   ]
  },
  {
   "cell_type": "markdown",
   "metadata": {},
   "source": [
    "**重构过程**\n",
    "\n",
    "考虑一个不规则的网格节点 $\\mathbf{X}= (x_i,y_j)$ ,用标准的五点中心格式 $(x_i,y_j)$"
   ]
  },
  {
   "cell_type": "markdown",
   "metadata": {},
   "source": [
    "1. 找出点 $\\mathbf{X}$ 的单位最速上升方向 $\\mathbf{p}$\n",
    "$$\n",
    "\\mathbf{p}= \\frac{\\nabla\\cdot \\phi}{||\\nabla\\cdot\\phi||}\n",
    "$$\n",
    "1. $\\mathbf{X}$ 沿着方向 $\\mathbf{p}$ 在界面的投影位置\n",
    "$$\n",
    "\\mathbf {X^*} = \\mathbf{X} + \\alpha\\mathbf{p}\n",
    "$$"
   ]
  },
  {
   "cell_type": "markdown",
   "metadata": {},
   "source": [
    "这里 $\\alpha$ 是下边方程决定的\n",
    "$$\n",
    "\\phi(\\mathbf{X})+||\\nabla\\cdot\\phi||\\alpha+\\frac{1}{2}(\\mathbf{p^T}He(\\phi)\\mathbf{p})\\alpha^2=0\n",
    "$$\n",
    "\n",
    "$He(\\phi)$是 $\\phi$ 的Hessian矩阵\n",
    "$$\n",
    "He(\\phi)=\n",
    "\\begin{bmatrix}\n",
    "\\phi_{xx} & \\phi_{xy}\\\\\n",
    "\\phi_{yx} & \\phi_{yy}\n",
    "\\end{bmatrix}\n",
    "$$"
   ]
  },
  {
   "cell_type": "markdown",
   "metadata": {},
   "source": [
    "如果我们在 $\\phi \\leq 0$ 的一边对每一个不规则点重复这个过程，我们可以得到控制点的集合表示的带有二阶精度的界面.为了用快速浸入界面方法我们仍然需要计算界面或者控制点的法向量，切线和曲率，这可以再一次使用水平集函数."
   ]
  },
  {
   "cell_type": "markdown",
   "metadata": {},
   "source": [
    "在一个点上的单位法向量，单位切线，曲率可以表示为\n",
    "$$\n",
    "\\mathbf{n} = -\\frac{\\nabla\\cdot \\phi}{||\\nabla\\cdot\\phi||}\n",
    "=-\\left[\\frac{\\phi_x}{||\\sqrt{\\phi_{x}^{2}+\\phi_{y}^{2}}},\\frac{\\phi_y}{||\\sqrt{\\phi_{x}^{2}+\\phi_{y}^{2}}}\\right]^T\n",
    "$$\n",
    "\n",
    "$$\n",
    "\\mathbf{t} = \\left[-\\frac{\\phi_y}{||\\sqrt{\\phi_{x}^{2}+\\phi_{y}^{2}}},\\frac{\\phi_x}{||\\sqrt{\\phi_{x}^{2}+\\phi_{y}^{2}}}\\right]^T\n",
    "$$\n",
    "\n",
    "$$\n",
    "\\kappa= -\\frac{\\phi_{xx}\\phi_y^2-2\\phi_{xy}\\phi_x\\phi_y+\\phi_{yy}\\phi_x^2}{(\\phi_x+\\phi_y)^{\\frac{3}{2}}}=-\\nabla\\cdot(\\frac{\\nabla\\phi}{||\\nabla\\cdot\\phi||})\n",
    "$$"
   ]
  },
  {
   "cell_type": "markdown",
   "metadata": {},
   "source": [
    "为了得到这些，我们需要找到在界面一些点上的 $\\phi,\\phi_x,\\phi_y,\\phi_{xx},\\phi_{xy},\\phi_{yy}$ 的精确值，这可以通过线性插值描述."
   ]
  },
  {
   "cell_type": "markdown",
   "metadata": {},
   "source": []
  }
 ],
 "metadata": {
  "kernelspec": {
   "display_name": "SageMath 7.3",
   "language": "",
   "name": "sagemath"
  },
  "language_info": {
   "codemirror_mode": {
    "name": "ipython",
    "version": 2
   },
   "file_extension": ".py",
   "mimetype": "text/x-python",
   "name": "python",
   "nbconvert_exporter": "python",
   "pygments_lexer": "ipython2",
   "version": "2.7.10"
  }
 },
 "nbformat": 4,
 "nbformat_minor": 0
}
