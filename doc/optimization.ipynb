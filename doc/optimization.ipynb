{
 "cells": [
  {
   "cell_type": "markdown",
   "metadata": {},
   "source": [
    "## 共轭梯度方法"
   ]
  },
  {
   "cell_type": "markdown",
   "metadata": {},
   "source": [
    "### 4.1 　共轭方向及性质"
   ]
  },
  {
   "cell_type": "markdown",
   "metadata": {},
   "source": [
    "* 特殊的正定二次函数及正交方向"
   ]
  },
  {
   "cell_type": "markdown",
   "metadata": {},
   "source": [
    "考虑正定二次函数\n",
    "$$\n",
    "f(x) = \\frac{1}{2}x^TGx+b^Tx\n",
    "$$\n",
    "\n",
    "其中 $G$ 是对角阵，对角元为正。"
   ]
  },
  {
   "cell_type": "markdown",
   "metadata": {},
   "source": [
    "考虑函数的极小化问题，从任意初始点 $x_0$ 出发，分别沿着 $e_0,e_1,e_2$ 做精确线搜索，便得到 $x_1,x_2,x_3$ ,这种方法对极小化问题具有二次终止性.要保持方法的二次终止性，需要沿着 $d_0,d_1,d_2$ 方向作精确线搜索."
   ]
  },
  {
   "cell_type": "markdown",
   "metadata": {
    "collapsed": true
   },
   "source": [
    "**定义4.1**　设 $G$ 是 $n\\times n$ 对称矩阵，若 $R^n$ 中两个非零向量 $d_i,d_j(i\\neq j)$ 满足\n",
    "\n",
    "$$\n",
    "d_i^TGd_j = 0\n",
    "$$\n",
    "\n",
    "则称$d_i,d_j$ 是共轭方向."
   ]
  },
  {
   "cell_type": "markdown",
   "metadata": {},
   "source": [
    "**定义4.2**　设 $G$ 是 $n\\times n$ 对称矩阵,若存在对称正定矩阵 $T$ ,使得 $T^2 = G$ ,则称 $T$ 为 $G$ 的平方根矩阵.\n"
   ]
  },
  {
   "cell_type": "markdown",
   "metadata": {},
   "source": [
    "**定理**　设 $G$ 是 $n\\times n$ 对称矩阵,则 $G$ 的平方根矩阵存在唯一."
   ]
  },
  {
   "cell_type": "markdown",
   "metadata": {},
   "source": [
    "### 4.2　共轭梯度方法及其性质"
   ]
  },
  {
   "cell_type": "markdown",
   "metadata": {},
   "source": [
    "* 共轭梯度方法的迭代方向为\n",
    "$$\n",
    "d_k = -g_k + \\beta_{k-1}d_{k-1}\n",
    "$$\n",
    "\n",
    "其中 $\\beta_{k-1} = \\xi_{k-1}^{(k-1)}$. \n",
    "因为正定二次函数有 $g_k^Tg_{k-1} = 0$,从而得到\n",
    "\n",
    "$$\n",
    "\\beta_{k-1} = \\frac{g_k^Tg_k}{g_{k-1}^Tg_{k-1}}\n",
    "$$\n",
    "这种方法称为共轭梯度方法."
   ]
  },
  {
   "cell_type": "markdown",
   "metadata": {},
   "source": [
    "* 共轭梯度方法的性质\n",
    "\n",
    "考虑正定二次函数\n",
    "$$\n",
    "f(x) = \\frac{1}{2}x^TGx+b^Tx\n",
    "$$\n",
    "\n",
    "对任意初始点 $x_0$ ,取 $d_0 = -g_0$.采用精确线搜索的共轭梯度方法具有二次终止性;对所有 $0\\leq k \\leq m,m<n$ ,下列关系成立:\n",
    "\n",
    "  * 共轭方向: $d_k^TGd_i = 0,\\quad i=0,\\dots,k-1$\n",
    "  * 正交向量: $g_k^Tg_i = 0,\\quad i=0,\\dots,k-1$\n",
    "  * 下降性:   $d_k^Tg_k = -g_k^Tg_k$\n",
    " \n",
    " 以及\n",
    " $$\n",
    " span\\{g_0,\\dots,g_k\\} = span\\{g_0,Gg_0,\\dots,G^kg_0\\}\\\\\n",
    " span\\{d_0,\\dots,d_k\\} = span\\{g_0,Gg_0,\\dots,G^kg_0\\}\n",
    " $$\n",
    " "
   ]
  },
  {
   "cell_type": "markdown",
   "metadata": {},
   "source": [
    "### 4.3　非线性共轭梯度方法"
   ]
  },
  {
   "cell_type": "markdown",
   "metadata": {},
   "source": [
    "求解一般最优化问题的非线性梯度方法由线性共轭梯度方法推广而来，其迭代方向由下式给出.\n",
    "\n",
    "$$\n",
    "d_k = -g_k + \\beta_{k-1}d_{k-1}\n",
    "$$\n",
    "\n",
    "选取不同的 $\\beta_{k-1}$ ,便得到不同的共轭梯度公式."
   ]
  },
  {
   "cell_type": "markdown",
   "metadata": {},
   "source": [
    "* **FR公式**\n",
    "$$\n",
    "\\beta_{k-1}^{FR} = \\frac{g_k^Tg_k}{g_{k-1}^Tg_{k-1}}\n",
    "$$"
   ]
  },
  {
   "cell_type": "markdown",
   "metadata": {},
   "source": [
    "* **PRP公式**\n",
    "$$\n",
    "\\beta_{k-1}^{PRP} = \\frac{g_k^T(g_k-g_{k-1})}{g_{k-1}^Tg_{k-1}}\n",
    "$$\n"
   ]
  },
  {
   "cell_type": "markdown",
   "metadata": {},
   "source": [
    "* **共轭下降公式**\n",
    "$$\n",
    "\\beta_{k-1}^{CD} = -\\frac{g_k^Tg_k}{d_{k-1}^Tg_{k-1}}\n",
    "$$\n"
   ]
  },
  {
   "cell_type": "markdown",
   "metadata": {},
   "source": [
    "* **DY公式**\n",
    "$$\n",
    "\\beta_{k-1}^{DY} = \\frac{g_k^Tg_k}{d_{k-1}^T(g_k-g_{k-1})}\n",
    "$$"
   ]
  },
  {
   "cell_type": "markdown",
   "metadata": {},
   "source": [
    "**非线性共轭梯度方法的算法**\n",
    "1. 给出 $x_0\\in R^n,\\varepsilon >0,d_0=-g_0,k:= 0$;\n",
    "1. 若终止准则满足，则停止迭代;\n",
    "1. 作一维线性搜索求 $\\alpha_k$;\n",
    "1. 计算 $x_{k+1} = x_k + \\alpha_kd_k$;\n",
    "1. 计算 $\\beta_k$ , $d_{k+1} = -g_{k+1} +\\beta_kd_k,k:= k+1$,转步2."
   ]
  },
  {
   "cell_type": "code",
   "execution_count": null,
   "metadata": {
    "collapsed": true
   },
   "outputs": [],
   "source": []
  }
 ],
 "metadata": {
  "kernelspec": {
   "display_name": "SageMath 7.3",
   "language": "",
   "name": "sagemath"
  },
  "language_info": {
   "codemirror_mode": {
    "name": "ipython",
    "version": 2
   },
   "file_extension": ".py",
   "mimetype": "text/x-python",
   "name": "python",
   "nbconvert_exporter": "python",
   "pygments_lexer": "ipython2",
   "version": "2.7.10"
  }
 },
 "nbformat": 4,
 "nbformat_minor": 0
}
