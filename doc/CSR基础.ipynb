{
 "cells": [
  {
   "cell_type": "markdown",
   "metadata": {},
   "source": [
    "## CSR 存储格式"
   ]
  },
  {
   "cell_type": "markdown",
   "metadata": {},
   "source": [
    "CSR 存储格式是我们最常用的稀疏矩阵存储格式，这种存储格式需要用到以下三个数组：\n",
    "\n",
    "* **AA(i),i=1(1)nz:**  $\\quad$ 按行存放矩阵 A 中的所有非零元素；\n",
    "\n",
    "\n",
    "* **JA(i),i=1(1)nz:**  $\\quad$ 依次存放数组 AA 中对应元素的列号；\n",
    "\n",
    "\n",
    "* **IA(i),i=1(1)n+1:** $\\quad$ 依次存放各行在数组 AA 和 JA 中存储的首地址(即存放在每一行的第一个非零元素)；"
   ]
  },
  {
   "cell_type": "markdown",
   "metadata": {},
   "source": [
    "如矩阵 A:"
   ]
  },
  {
   "cell_type": "markdown",
   "metadata": {},
   "source": [
    "\\begin{bmatrix}\n",
    "1 & 0 & 0 & 0\\\\\n",
    "0 & 2 & 0 & 0\\\\\n",
    "0 & 3 & 4 & 0\\\\\n",
    "5 & 0 & 6 & 7\n",
    "\\end{bmatrix}"
   ]
  },
  {
   "cell_type": "markdown",
   "metadata": {},
   "source": [
    "对应的 CSR 存储格式为：\n",
    "\n",
    "* AA={1,2,3,4,5,6,7};\n",
    "\n",
    "\n",
    "* JA={1,2,2,3,1,3,4};\n",
    "\n",
    "\n",
    "* IA={1,2,3,5,8};\n"
   ]
  },
  {
   "cell_type": "markdown",
   "metadata": {},
   "source": [
    "IA 多了一维是为了限定，对某一行进行遍历."
   ]
  }
 ],
 "metadata": {
  "kernelspec": {
   "display_name": "SageMath 7.3",
   "language": "",
   "name": "sagemath"
  },
  "language_info": {
   "codemirror_mode": {
    "name": "ipython",
    "version": 2
   },
   "file_extension": ".py",
   "mimetype": "text/x-python",
   "name": "python",
   "nbconvert_exporter": "python",
   "pygments_lexer": "ipython2",
   "version": "2.7.10"
  }
 },
 "nbformat": 4,
 "nbformat_minor": 0
}
