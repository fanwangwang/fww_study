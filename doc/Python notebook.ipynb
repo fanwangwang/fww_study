{
 "cells": [
  {
   "cell_type": "markdown",
   "metadata": {},
   "source": [
    "# Python 的简介"
   ]
  },
  {
   "cell_type": "markdown",
   "metadata": {},
   "source": [
    "## 一  、为什么要学习 Python"
   ]
  },
  {
   "cell_type": "markdown",
   "metadata": {},
   "source": [
    "Python 是一个高层次的结合了解释性、编译性、互动性和面向对象的脚本语言。\n",
    "\n",
    "Python 的设计具有很强的可读性，相比其他语言经常使用英文关键字，其他语言的一些标点符号，它具有比其他语言更有特色语法结构。"
   ]
  },
  {
   "cell_type": "markdown",
   "metadata": {},
   "source": [
    "1. **易于学习：** Python有相对较少的关键字，结构简单，语法简洁，学习起来更加简单；\n",
    "\n",
    "1. **易于阅读：** Python代码定义的更清晰；\n",
    "\n",
    "1. **易于维护：** Python的成功在于它的源代码是相当容易维护的；\n",
    "\n",
    "1. **一个广泛的标准库：** Python的最大的优势之一是丰富的库，跨平台的，在UNIX，Windows和Macintosh兼容很好；\n",
    "\n",
    "1. **不需要声明类型**\n",
    "\n",
    "1. **用很少的代码**"
   ]
  },
  {
   "cell_type": "code",
   "execution_count": 3,
   "metadata": {
    "collapsed": false
   },
   "outputs": [
    {
     "name": "stdout",
     "output_type": "stream",
     "text": [
      "Hello World!\n"
     ]
    }
   ],
   "source": [
    "print(\"Hello World!\")"
   ]
  },
  {
   "cell_type": "code",
   "execution_count": 4,
   "metadata": {
    "collapsed": false
   },
   "outputs": [
    {
     "name": "stdout",
     "output_type": "stream",
     "text": [
      "8\n"
     ]
    }
   ],
   "source": [
    "print(2**3)"
   ]
  },
  {
   "cell_type": "code",
   "execution_count": 7,
   "metadata": {
    "collapsed": false
   },
   "outputs": [
    {
     "name": "stdout",
     "output_type": "stream",
     "text": [
      "Hello Wold \n",
      "Hello Wold \n",
      "Hello Wold \n",
      "\n"
     ]
    }
   ],
   "source": [
    "print(\"Hello Wold \\n\"*3)"
   ]
  },
  {
   "cell_type": "markdown",
   "metadata": {},
   "source": [
    "## 二、编程"
   ]
  },
  {
   "cell_type": "markdown",
   "metadata": {},
   "source": [
    "1. 过程化\n",
    "\n",
    "1. 面向对象\n",
    "\n",
    "1. 模板函数"
   ]
  },
  {
   "cell_type": "markdown",
   "metadata": {},
   "source": [
    "注：Python3 与 Python2 不兼容"
   ]
  },
  {
   "cell_type": "markdown",
   "metadata": {},
   "source": [
    "主要实现有：\n",
    "\n",
    "1. **CPython**\n",
    "CPython 即用C语言实现 Python 及其解释器（JIT编译器）\n",
    "\n",
    "1. **Pypy**\n",
    "Pypy 是用 Python 来实现（准确说是个 Python 子集）\n",
    "\n",
    "1. **Jython**\n",
    "Jython 是用 Java 语言来实现\n",
    "\n",
    "1. **IronPython**\n",
    "IronPython就是python编程语言和强大的.NET平台的有机结合,是一个Python编译器\n"
   ]
  },
  {
   "cell_type": "markdown",
   "metadata": {},
   "source": [
    "名词和动词：\n",
    "\n",
    "名词： 数据\n",
    "\n",
    "动词：运算符，控制流，函数，方法"
   ]
  },
  {
   "cell_type": "markdown",
   "metadata": {},
   "source": [
    "* 最基本的控制流：\n",
    "\n",
    "例如：\n",
    "\n",
    "1. 打印出“Hello World！”\n",
    "1. 打印出“How are you？”"
   ]
  },
  {
   "cell_type": "code",
   "execution_count": 1,
   "metadata": {
    "collapsed": false
   },
   "outputs": [
    {
     "name": "stdout",
     "output_type": "stream",
     "text": [
      "Hello World!\n"
     ]
    }
   ],
   "source": [
    "print(\"Hello World!\")"
   ]
  },
  {
   "cell_type": "code",
   "execution_count": 2,
   "metadata": {
    "collapsed": false
   },
   "outputs": [
    {
     "name": "stdout",
     "output_type": "stream",
     "text": [
      "How are you?\n"
     ]
    }
   ],
   "source": [
    "print(\"How are you?\")"
   ]
  },
  {
   "cell_type": "markdown",
   "metadata": {},
   "source": [
    "* **(scalar)类型**\n",
    "\n",
    "\n",
    "1. int   $\\qquad~~~~$    整型\n",
    "1. float $\\qquad~$    浮点型\n",
    "1. bool  $\\qquad~$    布尔型，用作逻辑判断\n",
    "1. str   $\\qquad~~~~$    字符串型\n",
    "1. None  $\\qquad$    特殊的值，代表“nothing”\n",
    "1. long  $\\qquad~$    仅仅用于 Python2"
   ]
  },
  {
   "cell_type": "markdown",
   "metadata": {},
   "source": [
    "例1：scalar类型"
   ]
  },
  {
   "cell_type": "code",
   "execution_count": 7,
   "metadata": {
    "collapsed": false
   },
   "outputs": [
    {
     "data": {
      "text/plain": [
       "<type 'sage.rings.integer.Integer'>"
      ]
     },
     "execution_count": 7,
     "metadata": {},
     "output_type": "execute_result"
    }
   ],
   "source": [
    "a = 2\n",
    "type(a)"
   ]
  },
  {
   "cell_type": "code",
   "execution_count": 8,
   "metadata": {
    "collapsed": false
   },
   "outputs": [
    {
     "data": {
      "text/plain": [
       "<type 'sage.rings.real_mpfr.RealLiteral'>"
      ]
     },
     "execution_count": 8,
     "metadata": {},
     "output_type": "execute_result"
    }
   ],
   "source": [
    "type(0.99)"
   ]
  },
  {
   "cell_type": "code",
   "execution_count": 9,
   "metadata": {
    "collapsed": false
   },
   "outputs": [
    {
     "data": {
      "text/plain": [
       "<type 'bool'>"
      ]
     },
     "execution_count": 9,
     "metadata": {},
     "output_type": "execute_result"
    }
   ],
   "source": [
    "type(True)"
   ]
  },
  {
   "cell_type": "code",
   "execution_count": 10,
   "metadata": {
    "collapsed": false
   },
   "outputs": [
    {
     "data": {
      "text/plain": [
       "<type 'str'>"
      ]
     },
     "execution_count": 10,
     "metadata": {},
     "output_type": "execute_result"
    }
   ],
   "source": [
    "type(\"Hello World!\")"
   ]
  },
  {
   "cell_type": "code",
   "execution_count": 12,
   "metadata": {
    "collapsed": false
   },
   "outputs": [
    {
     "data": {
      "text/plain": [
       "<type 'NoneType'>"
      ]
     },
     "execution_count": 12,
     "metadata": {},
     "output_type": "execute_result"
    }
   ],
   "source": [
    "type(None)"
   ]
  },
  {
   "cell_type": "markdown",
   "metadata": {},
   "source": [
    "* 整型浮点型的运算符：\n",
    "\n",
    "\n",
    "1. 加 +\n",
    "1. 减 -\n",
    "1. 乘 *\n",
    "1. 除 /（作整数相除 //）\n",
    "1. 模 %\n",
    "1. 幂 **"
   ]
  },
  {
   "cell_type": "markdown",
   "metadata": {},
   "source": [
    "例2："
   ]
  },
  {
   "cell_type": "code",
   "execution_count": 20,
   "metadata": {
    "collapsed": false
   },
   "outputs": [
    {
     "name": "stdout",
     "output_type": "stream",
     "text": [
      "3\n"
     ]
    }
   ],
   "source": [
    "print(1+2)"
   ]
  },
  {
   "cell_type": "code",
   "execution_count": 16,
   "metadata": {
    "collapsed": false
   },
   "outputs": [
    {
     "name": "stdout",
     "output_type": "stream",
     "text": [
      "2.50000000000000\n"
     ]
    }
   ],
   "source": [
    "print(5/2.0)"
   ]
  },
  {
   "cell_type": "code",
   "execution_count": 17,
   "metadata": {
    "collapsed": false
   },
   "outputs": [
    {
     "name": "stdout",
     "output_type": "stream",
     "text": [
      "2\n"
     ]
    }
   ],
   "source": [
    "print(5//2)"
   ]
  },
  {
   "cell_type": "code",
   "execution_count": 18,
   "metadata": {
    "collapsed": false
   },
   "outputs": [
    {
     "name": "stdout",
     "output_type": "stream",
     "text": [
      "1\n"
     ]
    }
   ],
   "source": [
    "print(5%2)"
   ]
  },
  {
   "cell_type": "code",
   "execution_count": 21,
   "metadata": {
    "collapsed": false
   },
   "outputs": [
    {
     "name": "stdout",
     "output_type": "stream",
     "text": [
      "8\n"
     ]
    }
   ],
   "source": [
    "print(2**3)"
   ]
  },
  {
   "cell_type": "code",
   "execution_count": 22,
   "metadata": {
    "collapsed": false
   },
   "outputs": [
    {
     "name": "stdout",
     "output_type": "stream",
     "text": [
      "1.50000000000000e20\n"
     ]
    }
   ],
   "source": [
    "print(1.5e20)"
   ]
  },
  {
   "cell_type": "markdown",
   "metadata": {},
   "source": [
    "* 返回bool型的运算符\n",
    "\n",
    "\n",
    "1. <\n",
    "1. <=\n",
    "1. >\n",
    "1. \\>=\n",
    "1. ==\n",
    "1. !="
   ]
  },
  {
   "cell_type": "markdown",
   "metadata": {},
   "source": [
    "例3："
   ]
  },
  {
   "cell_type": "code",
   "execution_count": 23,
   "metadata": {
    "collapsed": false
   },
   "outputs": [
    {
     "name": "stdout",
     "output_type": "stream",
     "text": [
      "False\n"
     ]
    }
   ],
   "source": [
    "print(not true)"
   ]
  },
  {
   "cell_type": "code",
   "execution_count": 24,
   "metadata": {
    "collapsed": false
   },
   "outputs": [
    {
     "name": "stdout",
     "output_type": "stream",
     "text": [
      "False\n"
     ]
    }
   ],
   "source": [
    "print(true and false)"
   ]
  },
  {
   "cell_type": "code",
   "execution_count": 25,
   "metadata": {
    "collapsed": false
   },
   "outputs": [
    {
     "name": "stdout",
     "output_type": "stream",
     "text": [
      "False\n"
     ]
    }
   ],
   "source": [
    "print(1>3)"
   ]
  },
  {
   "cell_type": "code",
   "execution_count": 26,
   "metadata": {
    "collapsed": false
   },
   "outputs": [
    {
     "name": "stdout",
     "output_type": "stream",
     "text": [
      "True\n"
     ]
    }
   ],
   "source": [
    "print(true or false)"
   ]
  },
  {
   "cell_type": "markdown",
   "metadata": {},
   "source": [
    "赋值运算：可以被看作是一个标签,不像数学中变量的值，一旦被赋值就不能被改变；在同一个变量下改变他的值也会改变他的类型"
   ]
  },
  {
   "cell_type": "code",
   "execution_count": 34,
   "metadata": {
    "collapsed": false
   },
   "outputs": [
    {
     "name": "stdout",
     "output_type": "stream",
     "text": [
      "6\n",
      "True\n"
     ]
    }
   ],
   "source": [
    "x=6\n",
    "print(x)\n",
    "x=true\n",
    "print(x)"
   ]
  },
  {
   "cell_type": "markdown",
   "metadata": {},
   "source": [
    "* none 类型"
   ]
  },
  {
   "cell_type": "code",
   "execution_count": 46,
   "metadata": {
    "collapsed": false
   },
   "outputs": [
    {
     "data": {
      "text/plain": [
       "False"
      ]
     },
     "execution_count": 46,
     "metadata": {},
     "output_type": "execute_result"
    }
   ],
   "source": [
    "x=1\n",
    "x == None"
   ]
  },
  {
   "cell_type": "code",
   "execution_count": 45,
   "metadata": {
    "collapsed": false
   },
   "outputs": [
    {
     "data": {
      "text/plain": [
       "True"
      ]
     },
     "execution_count": 45,
     "metadata": {},
     "output_type": "execute_result"
    }
   ],
   "source": [
    "y = None\n",
    "y is None"
   ]
  },
  {
   "cell_type": "markdown",
   "metadata": {},
   "source": [
    "* 字符串型的运算符\n",
    "\n",
    "\n",
    "1. 拼接 $\\qquad$ +\n",
    "1. 重复 $\\qquad$ *\n"
   ]
  },
  {
   "cell_type": "code",
   "execution_count": 47,
   "metadata": {
    "collapsed": false
   },
   "outputs": [
    {
     "name": "stdout",
     "output_type": "stream",
     "text": [
      "abdde\n"
     ]
    }
   ],
   "source": [
    "print \"abd\" + \"de\""
   ]
  },
  {
   "cell_type": "code",
   "execution_count": 48,
   "metadata": {
    "collapsed": false
   },
   "outputs": [
    {
     "name": "stdout",
     "output_type": "stream",
     "text": [
      "abd abd abd \n"
     ]
    }
   ],
   "source": [
    "print\"abd \"*3 "
   ]
  },
  {
   "cell_type": "code",
   "execution_count": 49,
   "metadata": {
    "collapsed": false
   },
   "outputs": [
    {
     "name": "stdout",
     "output_type": "stream",
     "text": [
      "def\n"
     ]
    }
   ],
   "source": [
    "print \"abcdefg\"[3:6]"
   ]
  },
  {
   "cell_type": "markdown",
   "metadata": {},
   "source": [
    "print \"abcdefg\"[3:6] 表示输出从字符串 “abcdefg” 中第三个到第 $6-1$ 个字符；\n",
    "\n",
    "print \"abcdefg\"[3:] 表示输出从字符串 “abcdefg” 中第三个到最后一个字符；\n",
    "\n",
    "print \"string\"[x:y] 表示输出从字符串中第 $x$ 个到第 $y-1$ 个字符;\n",
    "\n",
    "负数表示倒着取，例print \"abcdefg\"[3:-2] 表示输出从字符串 “abcdefg” 中第三个到第 $倒数第二个-1$ 即倒数第三个字符"
   ]
  },
  {
   "cell_type": "code",
   "execution_count": 51,
   "metadata": {
    "collapsed": false
   },
   "outputs": [
    {
     "name": "stdout",
     "output_type": "stream",
     "text": [
      "defg\n"
     ]
    }
   ],
   "source": [
    "print \"abcdefg\"[3:]"
   ]
  },
  {
   "cell_type": "code",
   "execution_count": 50,
   "metadata": {
    "collapsed": false
   },
   "outputs": [
    {
     "name": "stdout",
     "output_type": "stream",
     "text": [
      "de\n"
     ]
    }
   ],
   "source": [
    "print \"abcdefg\"[3:-2]"
   ]
  },
  {
   "cell_type": "markdown",
   "metadata": {},
   "source": [
    "* **(collection)类型**\n",
    "\n",
    "\n",
    "1. list   $\\qquad$ 读或写一个序列\n",
    "1. tuples $~~~~$ 只读，不能改变；如果tuples中只有一个元素时，后边加 “,”\n",
    "1. dict  $\\qquad$ 就像字典一样，找出里边的元素\n",
    "1. set $\\qquad$ 集合\n",
    "1. file$\\qquad$ 代表一个文件，有打开文件的动作“open”,相应的还有关闭文件的动作\"close\""
   ]
  },
  {
   "cell_type": "markdown",
   "metadata": {},
   "source": [
    "**list**\n",
    "\n",
    "list同数组类似，但是又比c语言和其他语言的数组灵活\n",
    "\n",
    "1. 创建列表\n",
    "```\n",
    "list = [1,2,3,4,5,6,7,8,9]\n",
    "```\n",
    "1. list运算符\n",
    "```\n",
    "list_.sort() #排序\n",
    "```\n",
    "```\n",
    "list_.append #追加元素\n",
    "```\n",
    "```\n",
    "list_.pop #返回最后一个元素并从list中删除\n",
    "```\n",
    "```\n",
    " +  #拼接，同list_extend()\n",
    "```\n",
    "```\n",
    "del_.list[] #删除\n",
    "```\n",
    "```\n",
    "list_length  #列表长度\n",
    "```"
   ]
  },
  {
   "cell_type": "code",
   "execution_count": 52,
   "metadata": {
    "collapsed": false
   },
   "outputs": [
    {
     "name": "stdout",
     "output_type": "stream",
     "text": [
      "[100, 2, 3, 5, 6, 8, 4]\n",
      "[100, 6, 8, 4]\n"
     ]
    }
   ],
   "source": [
    "list = [100,2,3,5,6,8,4]\n",
    "print(list)\n",
    "del list[1:4]\n",
    "print(list)"
   ]
  },
  {
   "cell_type": "code",
   "execution_count": 66,
   "metadata": {
    "collapsed": false
   },
   "outputs": [
    {
     "name": "stdout",
     "output_type": "stream",
     "text": [
      "[100, 2, 3, 5, 6, 8, 4]\n"
     ]
    }
   ],
   "source": [
    "L = [100,2,3,5,6,8,4]\n",
    "print(L)\n",
    "L.sort()"
   ]
  },
  {
   "cell_type": "code",
   "execution_count": 54,
   "metadata": {
    "collapsed": false
   },
   "outputs": [
    {
     "name": "stdout",
     "output_type": "stream",
     "text": [
      "7\n"
     ]
    }
   ],
   "source": [
    "list = [100,2,3,5,6,8,4]\n",
    "list_length= len(list)\n",
    "print(list_length)"
   ]
  },
  {
   "cell_type": "code",
   "execution_count": 69,
   "metadata": {
    "collapsed": false
   },
   "outputs": [
    {
     "name": "stdout",
     "output_type": "stream",
     "text": [
      "[100, 2, 3, 5, 6, 8, 4]\n",
      "[100, 2, 3, 5, 6, 8]\n"
     ]
    }
   ],
   "source": [
    "L = [100,2,3,5,6,8,4]\n",
    "print(L)\n",
    "L.pop()\n",
    "print(L)"
   ]
  },
  {
   "cell_type": "code",
   "execution_count": 75,
   "metadata": {
    "collapsed": false
   },
   "outputs": [
    {
     "name": "stdout",
     "output_type": "stream",
     "text": [
      "[100, 2, 3, 5, 6, 8, 4]\n",
      "[100, 2, 3, 5, 6, 8, 4, 7]\n"
     ]
    }
   ],
   "source": [
    "L = [100,2,3,5,6,8,4]\n",
    "print(L)\n",
    "L.append(7)\n",
    "print(L)"
   ]
  },
  {
   "cell_type": "code",
   "execution_count": 80,
   "metadata": {
    "collapsed": false
   },
   "outputs": [
    {
     "data": {
      "text/plain": [
       "[1, 2, 4, 3]"
      ]
     },
     "execution_count": 80,
     "metadata": {},
     "output_type": "execute_result"
    }
   ],
   "source": [
    "L=[1,2]\n",
    "M=[4,3]\n",
    "L+M\n"
   ]
  },
  {
   "cell_type": "code",
   "execution_count": 85,
   "metadata": {
    "collapsed": false
   },
   "outputs": [
    {
     "name": "stdout",
     "output_type": "stream",
     "text": [
      "[1, 2]\n",
      "[1, 2, 4, 3]\n"
     ]
    }
   ],
   "source": [
    "L=[1,2]\n",
    "print(L)\n",
    "L.extend([4,3])\n",
    "print(L)"
   ]
  },
  {
   "cell_type": "markdown",
   "metadata": {},
   "source": [
    "* **for循环**\n",
    "\n",
    "```\n",
    "s = 0\n",
    "for i in range(5):\n",
    "s += i\n",
    "```"
   ]
  },
  {
   "cell_type": "code",
   "execution_count": 105,
   "metadata": {
    "collapsed": false
   },
   "outputs": [
    {
     "ename": "IndentationError",
     "evalue": "expected an indented block (<ipython-input-105-8b3d1f1844c0>, line 3)",
     "output_type": "error",
     "traceback": [
      "\u001b[1;36m  File \u001b[1;32m\"<ipython-input-105-8b3d1f1844c0>\"\u001b[1;36m, line \u001b[1;32m3\u001b[0m\n\u001b[1;33m    s += i\u001b[0m\n\u001b[1;37m    ^\u001b[0m\n\u001b[1;31mIndentationError\u001b[0m\u001b[1;31m:\u001b[0m expected an indented block\n"
     ]
    }
   ],
   "source": [
    "s = 0\n",
    "for i in range(5):\n",
    "s += i\n",
    "print(s)"
   ]
  },
  {
   "cell_type": "markdown",
   "metadata": {},
   "source": [
    "* **tuple()**\n",
    "\n",
    "\n",
    " 1. 类似list，但是tuple()只读，不能改变,并且只能用(),不能用[]\n",
    " 1. 如果tuples中只有一个元素时，后边加 “,”"
   ]
  },
  {
   "cell_type": "code",
   "execution_count": 122,
   "metadata": {
    "collapsed": false
   },
   "outputs": [
    {
     "name": "stdout",
     "output_type": "stream",
     "text": [
      "4\n",
      "(4,)\n"
     ]
    }
   ],
   "source": [
    "x=(4)\n",
    "print(x)\n",
    "x = (4,)\n",
    "print(x)"
   ]
  },
  {
   "cell_type": "code",
   "execution_count": 124,
   "metadata": {
    "collapsed": false
   },
   "outputs": [
    {
     "ename": "TypeError",
     "evalue": "'tuple' object does not support item assignment",
     "output_type": "error",
     "traceback": [
      "\u001b[1;31m---------------------------------------------------------------------------\u001b[0m",
      "\u001b[1;31mTypeError\u001b[0m                                 Traceback (most recent call last)",
      "\u001b[1;32m<ipython-input-124-dbfcb0420802>\u001b[0m in \u001b[0;36m<module>\u001b[1;34m()\u001b[0m\n\u001b[0;32m      1\u001b[0m \u001b[0mtup\u001b[0m \u001b[1;33m=\u001b[0m \u001b[1;33m(\u001b[0m\u001b[0mInteger\u001b[0m\u001b[1;33m(\u001b[0m\u001b[1;36m1\u001b[0m\u001b[1;33m)\u001b[0m\u001b[1;33m,\u001b[0m\u001b[0mInteger\u001b[0m\u001b[1;33m(\u001b[0m\u001b[1;36m2\u001b[0m\u001b[1;33m)\u001b[0m\u001b[1;33m,\u001b[0m\u001b[0mInteger\u001b[0m\u001b[1;33m(\u001b[0m\u001b[1;36m3\u001b[0m\u001b[1;33m)\u001b[0m\u001b[1;33m,\u001b[0m\u001b[0mInteger\u001b[0m\u001b[1;33m(\u001b[0m\u001b[1;36m4\u001b[0m\u001b[1;33m)\u001b[0m\u001b[1;33m,\u001b[0m\u001b[0mInteger\u001b[0m\u001b[1;33m(\u001b[0m\u001b[1;36m5\u001b[0m\u001b[1;33m)\u001b[0m\u001b[1;33m,\u001b[0m\u001b[0mInteger\u001b[0m\u001b[1;33m(\u001b[0m\u001b[1;36m6\u001b[0m\u001b[1;33m)\u001b[0m\u001b[1;33m)\u001b[0m\u001b[1;33m\u001b[0m\u001b[0m\n\u001b[1;32m----> 2\u001b[1;33m \u001b[0mtup\u001b[0m\u001b[1;33m[\u001b[0m\u001b[0mInteger\u001b[0m\u001b[1;33m(\u001b[0m\u001b[1;36m0\u001b[0m\u001b[1;33m)\u001b[0m\u001b[1;33m]\u001b[0m \u001b[1;33m=\u001b[0m \u001b[0mInteger\u001b[0m\u001b[1;33m(\u001b[0m\u001b[1;36m12\u001b[0m\u001b[1;33m)\u001b[0m\u001b[1;33m\u001b[0m\u001b[0m\n\u001b[0m",
      "\u001b[1;31mTypeError\u001b[0m: 'tuple' object does not support item assignment"
     ]
    }
   ],
   "source": [
    "tup = (1,2,3,4,5,6)\n",
    "tup[0] = 12"
   ]
  },
  {
   "cell_type": "markdown",
   "metadata": {},
   "source": [
    "* **Dictionary**\n",
    "\n",
    "\n",
    "1. 同现实生活中的字典类似\n",
    "1. 可以看成是一个关系对，一个key对应一个值\n",
    "1. Dictionary的键值是不变的，所以不能通过list来索引，但是可以用tuple来索引"
   ]
  },
  {
   "cell_type": "code",
   "execution_count": 127,
   "metadata": {
    "collapsed": false
   },
   "outputs": [
    {
     "data": {
      "text/plain": [
       "'n'"
      ]
     },
     "execution_count": 127,
     "metadata": {},
     "output_type": "execute_result"
    }
   ],
   "source": [
    "d = {1:'m',2:'n',3:'s'}\n",
    "d[2]\n"
   ]
  },
  {
   "cell_type": "code",
   "execution_count": 130,
   "metadata": {
    "collapsed": false
   },
   "outputs": [
    {
     "data": {
      "text/plain": [
       "1"
      ]
     },
     "execution_count": 130,
     "metadata": {},
     "output_type": "execute_result"
    }
   ],
   "source": [
    "s = {'m':0,'t':1,'n':2}\n",
    "s['t']"
   ]
  },
  {
   "cell_type": "code",
   "execution_count": 155,
   "metadata": {
    "collapsed": false
   },
   "outputs": [
    {
     "name": "stdout",
     "output_type": "stream",
     "text": [
      "0\n",
      "1\n",
      "2\n",
      "3\n",
      "4\n",
      "5\n",
      "1\n",
      "2\n",
      "4\n",
      "8\n",
      "16\n",
      "32\n",
      "(0, 1)\n",
      "(1, 2)\n",
      "(2, 4)\n",
      "(3, 8)\n",
      "(4, 16)\n",
      "(5, 32)\n"
     ]
    }
   ],
   "source": [
    "d = {0:1,1:2,2:4,3:8,4:16,5:32}\n",
    "for i in d.keys():\n",
    "    print(i)\n",
    "for i in d.values():\n",
    "    print(i)\n",
    "for i in d.items():\n",
    "    print(i)"
   ]
  },
  {
   "cell_type": "code",
   "execution_count": 154,
   "metadata": {
    "collapsed": false
   },
   "outputs": [
    {
     "name": "stdout",
     "output_type": "stream",
     "text": [
      "6\n",
      "{0: 1, 1: 2, 3: 8, 4: 16, 5: 32}\n"
     ]
    }
   ],
   "source": [
    "d = {0:1,1:2,2:4,3:8,4:16,5:32}\n",
    "length =len(d)\n",
    "print(length)\n",
    "del d[2]\n",
    "print(d)\n"
   ]
  },
  {
   "cell_type": "markdown",
   "metadata": {},
   "source": [
    "* **set**\n",
    "\n",
    "创建一个集合\n",
    "```\n",
    "a= {1,1,2}\n",
    "```"
   ]
  },
  {
   "cell_type": "code",
   "execution_count": 157,
   "metadata": {
    "collapsed": false
   },
   "outputs": [
    {
     "name": "stdout",
     "output_type": "stream",
     "text": [
      "set([1, 2])\n"
     ]
    }
   ],
   "source": [
    "a = {1,2,2}\n",
    "print(a)"
   ]
  },
  {
   "cell_type": "markdown",
   "metadata": {},
   "source": [
    "集合的操作符"
   ]
  },
  {
   "cell_type": "code",
   "execution_count": 158,
   "metadata": {
    "collapsed": false
   },
   "outputs": [
    {
     "name": "stdout",
     "output_type": "stream",
     "text": [
      "(set([3]), set([1, 2, 3, 4, 5, 6]), set([1, 2]))\n"
     ]
    }
   ],
   "source": [
    "a = {1,2,3}\n",
    "b = {3,4,5,6}\n",
    "s1 = a&b\n",
    "s2 = a|b\n",
    "s3 = a - b\n",
    "print(s1,s2,s3)"
   ]
  },
  {
   "cell_type": "markdown",
   "metadata": {},
   "source": [
    "集合的比较"
   ]
  },
  {
   "cell_type": "code",
   "execution_count": 162,
   "metadata": {
    "collapsed": false
   },
   "outputs": [
    {
     "data": {
      "text/plain": [
       "False"
      ]
     },
     "execution_count": 162,
     "metadata": {},
     "output_type": "execute_result"
    }
   ],
   "source": [
    "a = {1,2,3}\n",
    "b = {3,4,5,6}\n",
    "a==b"
   ]
  },
  {
   "cell_type": "code",
   "execution_count": 165,
   "metadata": {
    "collapsed": false
   },
   "outputs": [
    {
     "data": {
      "text/plain": [
       "False"
      ]
     },
     "execution_count": 165,
     "metadata": {},
     "output_type": "execute_result"
    }
   ],
   "source": [
    "a = {1,2,3}\n",
    "b = {3,4,5,6}\n",
    "a>=b"
   ]
  },
  {
   "cell_type": "markdown",
   "metadata": {},
   "source": [
    "* **file**"
   ]
  },
  {
   "cell_type": "code",
   "execution_count": null,
   "metadata": {
    "collapsed": true
   },
   "outputs": [],
   "source": []
  }
 ],
 "metadata": {
  "kernelspec": {
   "display_name": "SageMath 7.3",
   "language": "",
   "name": "sagemath"
  },
  "language_info": {
   "codemirror_mode": {
    "name": "ipython",
    "version": 2
   },
   "file_extension": ".py",
   "mimetype": "text/x-python",
   "name": "python",
   "nbconvert_exporter": "python",
   "pygments_lexer": "ipython2",
   "version": "2.7.10"
  }
 },
 "nbformat": 4,
 "nbformat_minor": 0
}
